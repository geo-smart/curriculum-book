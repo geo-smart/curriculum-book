{
 "cells": [
  {
   "cell_type": "markdown",
   "metadata": {},
   "source": [
    "# 2.1 Python Primer\n",
    "**We will practice the basics of Numpy and Matplotlib**"
   ]
  },
  {
   "cell_type": "markdown",
   "metadata": {},
   "source": [
    "Numpy and Matplotlib are the two most fundamental modules in python. We will learn how to generate n-Dimensional numpy arrays (usually n=1,2,3) and plot them.\n",
    "\n",
    "\n",
    "### Numpy tutorials\n",
    " Python lists can contain any type, while numpy arrays have to be declared with the same type of data (integers, floats, strings etc ). Numpy arrays can be of multi dimensions, though their dimensions are fixed once declared.\n",
    "Numpy arrays support arithmetic operations.\n",
    "There are numerous tutorials to get help. https://www.earthdatascience.org/courses/intro-to-earth-data-science/scientific-data-structures-python/numpy-arrays/"
   ]
  },
  {
   "cell_type": "code",
   "execution_count": null,
   "metadata": {},
   "outputs": [],
   "source": [
    "# import module\n",
    "import numpy as np\n",
    "\n",
    "# define an array of dimension one from.\n",
    "#this is a list of floats:\n",
    "a=[0.7 , 0.75, 1.85]\n",
    "# convert a list to a numpy array\n",
    "a_nparray = np.array(a)"
   ]
  },
  {
   "cell_type": "markdown",
   "metadata": {},
   "source": [
    "### 1D arrays in Numpy"
   ]
  },
  {
   "cell_type": "code",
   "execution_count": null,
   "metadata": {},
   "outputs": [],
   "source": [
    "# create 1D arrays\n",
    "N=100\n",
    "x_int = np.arange(N)# this will make a vector of int from 0 to N-1\n",
    "print(x_int)"
   ]
  },
  {
   "cell_type": "code",
   "execution_count": null,
   "metadata": {},
   "outputs": [],
   "source": [
    "N = 100 # number of points\n",
    "\n",
    "# linearly spaced vectors\n",
    "x_lat = np.linspace(39,50,N)# this will make a vector of floats from min to max values evenly spaced\n",
    "x_lon = np.linspace(-128,-125,N)# same for longitude\n",
    "print(x_lat)\n",
    "print(x_lon)\n",
    "\n",
    "\n",
    "# time vectors\n",
    "x_t = np.linspace(0,100,N)\n",
    "dt=x_t[1]\n",
    "print(dt)\n",
    "\n",
    "# logspaced vectors\n",
    "# 10^(-1) -> 10^(1) => 0.1 - 1\n",
    "x_tl = np.logspace(-1,1,N)\n",
    "\n",
    "print(x_tl)\n"
   ]
  },
  {
   "cell_type": "markdown",
   "metadata": {},
   "source": [
    "## Some Matplotlib\n",
    "\n",
    "**Some tips from Sofware-Carpentry**\n",
    "\n",
    "- Make sure your text is **large** enough to read. Use the fontsize parameter in  <code>xlabel</code>, <code> ylabel</code>, <code>title</code>, and <code>legend</code>, and <code>tick_params</code> with labelsize to increase the text size of the numbers on your axes.\n",
    "\n",
    "- Similarly, you should make your graph elements easy to see. Use s to increase the size of your scatterplot markers and linewidth to increase the sizes of your plot lines.\n",
    "\n",
    "- Using color (and nothing else) to distinguish between different plot elements will make your plots unreadable to anyone who is colorblind, or who happens to have a black-and-white office printer. For lines, the linestyle parameter lets you use different types of lines. For scatterplots, marker lets you change the shape of your points. If you’re unsure about your colors, you can use Coblis or Color Oracle to simulate what your plots would look like to those with colorblindness."
   ]
  },
  {
   "cell_type": "code",
   "execution_count": null,
   "metadata": {},
   "outputs": [],
   "source": [
    "# make the plots appear in the notebook\n",
    "%matplotlib inline \n",
    "import matplotlib.pyplot as plt\n",
    "# import matplotlib.pylab as pylab\n",
    "\n",
    "# set default parameters\n",
    "params = {'legend.fontsize': 14, \\\n",
    "          'xtick.labelsize':14, \\\n",
    "          'ytick.labelsize':14, \\\n",
    "          'font.size':14}\n",
    "plt.rcParams.update(params)"
   ]
  },
  {
   "cell_type": "code",
   "execution_count": null,
   "metadata": {},
   "outputs": [],
   "source": [
    "fig, (ax1,ax2) = plt.subplots(1,2, figsize=(10,5))  # 1 row, 2 co\n",
    "ax1.plot(x_t,'.')\n",
    "ax2.plot(x_tl,'r.');ax2.set_yscale('log')\n",
    "ax2.set_xlabel('Index of vector')\n",
    "ax1.set_xlabel('Index of vector')\n",
    "ax2.set_ylabel('Time (s)')\n",
    "ax1.set_ylabel('Time (s)')\n",
    "ax1.set_title('My first plot!')\n",
    "ax2.set_title('My second plot!')\n",
    "ax1.grid(True)\n",
    "ax2.grid(True)\n",
    "plt.savefig('plot_test.png')"
   ]
  },
  {
   "cell_type": "markdown",
   "metadata": {},
   "source": [
    "## create random fields\n",
    "Find some basic function from the statistics functions in Numpy:\n",
    "https://numpy.org/doc/stable/reference/routines.statistics.html"
   ]
  },
  {
   "cell_type": "code",
   "execution_count": null,
   "metadata": {},
   "outputs": [],
   "source": [
    "# generate random fields\n",
    "from numpy import random\n",
    "\n",
    "N=10000 # number of samples\n",
    "# Uniform distribution\n",
    "x1=2*random.rand(N)-1    # uniform distribution centered at 0, varying between -1 and 2.\n",
    "# Gaussian distribution\n",
    "x2=random.randn(N)   # Gaussian distribution with a standard deviation of 1\n",
    "# Power law\n",
    "a=2 # power of the distribution\n",
    "x3=random.power(a,N)\n",
    "# poisson\n",
    "aa=4\n",
    "x4=random.poisson(aa,N)"
   ]
  },
  {
   "cell_type": "code",
   "execution_count": null,
   "metadata": {},
   "outputs": [],
   "source": [
    "# now compare this distribution to the Gaussian distribution\n",
    "fig1, (ax1,ax2,ax3,ax4) = plt.subplots(1,4, figsize=(15,5))  # 1 row, 2 co\n",
    "ax1.plot(x1);ax1.set_title('Uniform')\n",
    "ax2.plot(x2);ax2.set_title('Gaussian')\n",
    "ax3.plot(x3);ax3.set_title('Power')\n",
    "ax4.plot(x4);ax4.set_title('Poisson')\n",
    "\n",
    "\n",
    "# plot the 2 histograms\n",
    "fig2, (ax11,ax12,ax13,ax14) = plt.subplots(1,4, figsize=(15,5))  # 1 row, 2 co\n",
    "ax11.hist(x1,bins=100);ax11.set_title('Uniform')\n",
    "ax12.hist(x2,bins=100);ax12.set_title('Gaussian')\n",
    "ax13.hist(x3,bins=100);ax13.set_title('Power')\n",
    "ax14.hist(x4,bins=100);ax14.set_title('Poisson')"
   ]
  },
  {
   "cell_type": "code",
   "execution_count": null,
   "metadata": {},
   "outputs": [],
   "source": [
    "# numpy has built-in functions to calculate basic statistical properties of numpy arrays\n",
    "print(\"mean of x1\", \"standard deviation of x1\",\"mean of x2\", \"standard deviation of x2\",)\n",
    "print(np.mean(x1),np.std(x1),np.mean(x2),np.std(x2))"
   ]
  },
  {
   "cell_type": "markdown",
   "metadata": {},
   "source": [
    "## 2D arrays in Numpy"
   ]
  },
  {
   "cell_type": "code",
   "execution_count": null,
   "metadata": {
    "scrolled": true
   },
   "outputs": [],
   "source": [
    "N=1000 # number of samples\n",
    "# create\n",
    "# Uniform distribution\n",
    "x1=2*random.rand(N,N)-1    # uniform distribution centered at 0, varying between -1 and 2.\n",
    "# Gaussian distribution\n",
    "x2=random.randn(N,N)   # Gaussian distribution with a standard deviation of 1\n",
    "# Power law\n",
    "a=2 # power of the distribution\n",
    "x3=random.power(a,[N,N])\n",
    "# poisson\n",
    "aa=4\n",
    "x4=random.poisson(aa,[N,N])\n",
    "\n",
    "# now compare this distribution to the Gaussian distribution\n",
    "fig, (ax1,ax2,ax3,ax4) = plt.subplots(1,4, figsize=(26,4))  # 1 row, 2 co\n",
    "ax1.pcolor(x1,vmin=-1, vmax=1)\n",
    "ax2.pcolor(x2,vmin=-1, vmax=1)\n",
    "ax3.pcolor(x3,vmin=-1, vmax=1)\n",
    "ax4.pcolor(x4,vmin=0, vmax=10)"
   ]
  },
  {
   "cell_type": "markdown",
   "metadata": {},
   "source": [
    "## Comparing 1D and 2D arrays\n",
    "Comparing data often means calculating a distance or dissimilarity between the two data. Similarity is equialent to proximity of two data.\n",
    "\n",
    "**Euclidian distance**\n",
    "\n",
    "$L_2$ norm of the residual between 2 vectors:\n",
    "\n",
    "$d = ||X -Y||_2 = \\sqrt{\\sum_i^N \\left(X_i^2 - Y_i^2 \\right) / N} $\n",
    "In numpy that is the default norm of the linear algebra module linalg: <code> d=np.linalg.norm(X-Y) </code>\n",
    "\n",
    "**Total variation distance**\n",
    "\n",
    "Is the $L_1$-norm equivalent of the Euclidian distance:  <code> d=np.linalg.norm(X-Y,ord=1) </code>\n",
    "\n",
    "\n",
    "**Pearson coefficient (aka the correlation coefficient)**\n",
    "\n",
    "$ P(X,Y) = \\frac{cov(X,Y)}{std(Xstd(Y)} $\n",
    "\n",
    "$ P(X,Y) = \\frac{  \\sum{ (X_i-mean(X)) (Y_i-mean(Y)}}{\\sqrt{\\sum{ (X_i-mean(X))^2 } \\sum{ (Y_i-mean(Y))^2 } }} $"
   ]
  },
  {
   "cell_type": "code",
   "execution_count": null,
   "metadata": {},
   "outputs": [],
   "source": [
    "# cross correlate 2 vectors:\n",
    "\n",
    "x2=random.randn(N)   # Gaussian distribution \n",
    "x3=random.randn(N)   # Gaussian distribution \n",
    "\n",
    "# Euclidian distance:\n",
    "d2=np.linalg.norm(x3-x2)\n",
    "# Total variation distance:\n",
    "d1=np.linalg.norm(x3-x2,ord=1)\n",
    "# Pearson coefficient\n",
    "r = np.corrcoef(x2,x3)[0,1]\n",
    "\n",
    "print(\"the three distances are:\")\n",
    "print(d2,d1,r)\n",
    "\n",
    "plt.plot(x2,x3,'o');plt.grid(True)\n",
    "plt.xlabel('X2');plt.ylabel('X3')\n"
   ]
  },
  {
   "cell_type": "markdown",
   "metadata": {},
   "source": [
    "## Read a real geoscience data file\n",
    "Now we are going to read a CSV file of the PNSN earthquake catalog and plot the seismicity."
   ]
  },
  {
   "cell_type": "code",
   "execution_count": null,
   "metadata": {},
   "outputs": [],
   "source": [
    "# now we are going to open and read each line of a CSV file.\n",
    "# at each line, we append the earthquake information to their list\n",
    "import csv\n",
    "# first we initialize the python lists for basic earthquake properties\n",
    "with open('pnsn_catalog.csv', 'r') as file:\n",
    "    reader = list(csv.reader(file, delimiter = ','))\n",
    "    L=len(reader)\n",
    "    # sanity check\n",
    "    print(\"There are \"+str(L)+\" earthquakes in the catalog\")\n",
    "    print(f\"There are {L} earthquakes in the catalog\")\n",
    "    mag=np.zeros(L);depth=np.zeros(L)\n",
    "    lat=np.zeros(L);lon=np.zeros(L)\n",
    "    mat = np.zeros((L,L)) #make sure you check\n",
    "    for i,row in enumerate(reader[1:]):\n",
    "        mag[i]=row[1] # 2nd row.\n",
    "        lat[i]=row[-4] # before^2-last row\n",
    "        lon[i]=row[-3] # before-last row\n",
    "        depth[i]=row[-2] # last row"
   ]
  },
  {
   "cell_type": "code",
   "execution_count": null,
   "metadata": {},
   "outputs": [],
   "source": [
    "# now we are going to analyze the magnitude distribution of earthquakes in the PNW\n",
    "plt.hist(mag,bins=20);plt.grid(True);plt.title('Histograms of magnitude distribution in PNW')\n",
    "plt.xlabel('Local magnitude')"
   ]
  },
  {
   "cell_type": "code",
   "execution_count": null,
   "metadata": {},
   "outputs": [],
   "source": [
    "# plot their location\n",
    "plt.scatter(lon[lon!=0],lat[lat!=0])"
   ]
  }
 ],
 "metadata": {
  "kernelspec": {
   "display_name": "Python 3.9.6 ('madrona')",
   "language": "python",
   "name": "python3"
  },
  "language_info": {
   "codemirror_mode": {
    "name": "ipython",
    "version": 3
   },
   "file_extension": ".py",
   "mimetype": "text/x-python",
   "name": "python",
   "nbconvert_exporter": "python",
   "pygments_lexer": "ipython3",
   "version": "3.9.6"
  },
  "vscode": {
   "interpreter": {
    "hash": "1c2df93b363d800c8a9b94963221f1be1d8deaf6a76f83b6b9a486ad05d69583"
   }
  }
 },
 "nbformat": 4,
 "nbformat_minor": 5
}
