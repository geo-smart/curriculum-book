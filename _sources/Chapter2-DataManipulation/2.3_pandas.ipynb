{
 "cells": [
  {
   "cell_type": "markdown",
   "metadata": {},
   "source": [
    "# 2.2 Pandas, Basic Mapping\n",
    "\n",
    "This section aims to provide new skills in python to handle structured \"table\" data. \n",
    "\n",
    "Learning outcome:\n",
    "-   Manipulation of data frames (describing, filtering, ...) \n",
    "-   Learn about Lambda functions\n",
    "-   Intro to datetime objects\n",
    "-   Plotting data from data frames (histograms and maps)\n",
    "-   Introduction to Plotly\n",
    "-   Introduction to CSV & Parquet\n",
    "\n",
    "\n",
    "We will work on several structured data sets: sensor metadata, seismic data product (earthquake catalog).\n",
    "\n",
    "First, we import all the modules we need:"
   ]
  },
  {
   "cell_type": "code",
   "execution_count": null,
   "id": "28d926f9",
   "metadata": {},
   "outputs": [],
   "source": [
    "import numpy as np\n",
    "import pandas as pd\n",
    "import io\n",
    "import requests\n",
    "import time\n",
    "from datetime import datetime, timedelta\n",
    "\n",
    "import plotly.express as px\n",
    "import plotly.io as pio\n",
    "# pio.renderers.default = 'vscode' # writes as standalone html, \n",
    "# pio.renderers.default = 'iframe' # writes files as standalone html, \n",
    "# pio.renderers.default = 'png' # writes files as standalone pnl, \n",
    "# try notebook, jupyterlab, png, vscode, iframe\n"
   ]
  },
  {
   "cell_type": "markdown",
   "id": "3f1829a3",
   "metadata": {},
   "source": [
    "# The Basics of Pandas \n",
    "\n",
    "Pandas are composed of ``Series`` and ``DataFrame``. ``Series`` are columns with attributes or keys. The ``DataFrame`` is a multi-dimensional table made up of ``Series``.\n",
    "\n",
    "We can create a DataFrame composed of series from scratch using Python dictionary:"
   ]
  },
  {
   "cell_type": "code",
   "execution_count": null,
   "id": "3cdfc90e",
   "metadata": {},
   "outputs": [],
   "source": [
    "data = {\n",
    "    'temperature' : [36,37,30,50],\n",
    "    'precipitation':[3,1,0,0]\n",
    "}\n",
    "my_pd = pd.DataFrame(data)\n",
    "print(my_pd)"
   ]
  },
  {
   "cell_type": "markdown",
   "id": "8e041ce5",
   "metadata": {},
   "source": [
    "Each (key,value) item in the dataframe correspond to a value in ``data``. To get the keys of the dataframe, type:"
   ]
  },
  {
   "cell_type": "code",
   "execution_count": null,
   "id": "fb8d9c69",
   "metadata": {},
   "outputs": [],
   "source": [
    "my_pd.keys()"
   ]
  },
  {
   "cell_type": "markdown",
   "id": "ff7935a4",
   "metadata": {},
   "source": [
    "get a specific ``Series`` (different from the array)"
   ]
  },
  {
   "cell_type": "code",
   "execution_count": null,
   "id": "c5d734fd",
   "metadata": {},
   "outputs": [],
   "source": [
    "print(my_pd.temperature[:])\n",
    "print(type(my_pd.temperature[:]))"
   ]
  },
  {
   "cell_type": "markdown",
   "id": "1f5f2426",
   "metadata": {},
   "source": [
    "to get the _value_ of a specific key (e.g., temperature), at a specific index (e.g., 2) type:"
   ]
  },
  {
   "cell_type": "code",
   "execution_count": null,
   "id": "2ab0ad9d",
   "metadata": {},
   "outputs": [],
   "source": [
    "print(my_pd.temperature[2])\n",
    "print(type(my_pd.temperature[2]))"
   ]
  },
  {
   "cell_type": "markdown",
   "id": "9fca0cf5",
   "metadata": {},
   "source": [
    "# Reading a DataFrame from a CSV file\n",
    "\n",
    "We can read a pandas directly from a standard file. Here you will read a catatalog of earthquakes."
   ]
  },
  {
   "cell_type": "code",
   "execution_count": null,
   "id": "f029ed84",
   "metadata": {},
   "outputs": [],
   "source": [
    "quake = pd.read_csv(\"Global_Quakes_IRIS.csv\")"
   ]
  },
  {
   "cell_type": "markdown",
   "id": "62e31c2c",
   "metadata": {},
   "source": [
    "Now you use the ``head`` function to display what is in the file"
   ]
  },
  {
   "cell_type": "code",
   "execution_count": null,
   "id": "ed565400",
   "metadata": {},
   "outputs": [],
   "source": [
    "# enter answer here\n",
    "quake.head()"
   ]
  },
  {
   "cell_type": "markdown",
   "id": "73bfcd15",
   "metadata": {},
   "source": [
    "Display the depth using two ways to use the pandas object"
   ]
  },
  {
   "cell_type": "code",
   "execution_count": null,
   "id": "9b01ce51",
   "metadata": {},
   "outputs": [],
   "source": [
    "print(quake.depth)\n",
    "print(quake['depth'])"
   ]
  },
  {
   "cell_type": "markdown",
   "id": "9c623644",
   "metadata": {},
   "source": [
    "Calculate basic statitics of the data using the function ``describe``."
   ]
  },
  {
   "cell_type": "code",
   "execution_count": null,
   "id": "2b9f083e",
   "metadata": {},
   "outputs": [],
   "source": [
    "quake.describe()"
   ]
  },
  {
   "cell_type": "markdown",
   "id": "8b54218c",
   "metadata": {},
   "source": [
    "Calculate mean and median of specific ``Series``, for example depth."
   ]
  },
  {
   "cell_type": "code",
   "execution_count": null,
   "id": "83f21ca3",
   "metadata": {},
   "outputs": [],
   "source": [
    "# answer it here\n",
    "print(quake.depth.mean())\n",
    "print(quake.depth.median())\n"
   ]
  },
  {
   "cell_type": "markdown",
   "id": "591f8d33",
   "metadata": {},
   "source": [
    "## Simple Python Functions\n",
    "We will now practice how to modify the content of the DataFrame using functions. We will take the example that we want to change the depth values from meters to kilometers. First we can define this operation as a function"
   ]
  },
  {
   "cell_type": "code",
   "execution_count": null,
   "id": "5b4f94b4",
   "metadata": {},
   "outputs": [],
   "source": [
    "# this function converts a value in meters to a value in kilometers\n",
    "m2km = 1000 # this is defined as a global variable\n",
    "def meters2kilometers(x):\n",
    "    return x/m2km\n"
   ]
  },
  {
   "cell_type": "code",
   "execution_count": null,
   "id": "16cb70b9",
   "metadata": {},
   "outputs": [],
   "source": [
    "# now test it using the first element of the quake DataFrame\n",
    "meters2kilometers(quake.depth[0])"
   ]
  },
  {
   "cell_type": "markdown",
   "id": "aa52810b",
   "metadata": {},
   "source": [
    "Let's define another function that uses a local instead of global variable"
   ]
  },
  {
   "cell_type": "code",
   "execution_count": null,
   "id": "d8e21ea1",
   "metadata": {},
   "outputs": [],
   "source": [
    "def meters2kilometers2(x):\n",
    "    m2km2=1000\n",
    "    return x/m2km2\n",
    "# m2km2 is a local variable and cannot be called outside of the function. Prove it next by inquiring its value in the next cell."
   ]
  },
  {
   "cell_type": "code",
   "execution_count": null,
   "id": "34ec93ea",
   "metadata": {},
   "outputs": [],
   "source": [
    "print(m2km2)"
   ]
  },
  {
   "cell_type": "markdown",
   "id": "f6db26f1",
   "metadata": {},
   "source": [
    "We now discuss the **lambda** functions."
   ]
  },
  {
   "cell_type": "code",
   "execution_count": null,
   "id": "a2713d55",
   "metadata": {},
   "outputs": [],
   "source": [
    "# now we apply it on the entire Series\n",
    "meters2kilometers(quake.depth)"
   ]
  },
  {
   "cell_type": "markdown",
   "id": "5b296ab5",
   "metadata": {},
   "source": [
    "We can also define this very basic function as a **lambda** function. There are several ways of doing an operation on all rows of a column. The first option is to use the map function.\n",
    "\n",
    "If you are not familiar with lambda function in Python, look at:\n",
    "\n",
    "https://realpython.com/python-lambda/\n",
    "\n",
    "We will practice a bit lambda functions\n",
    "\n"
   ]
  },
  {
   "cell_type": "code",
   "execution_count": null,
   "id": "cbb26a36",
   "metadata": {},
   "outputs": [],
   "source": [
    "# Now the equivalent in lambda is:\n",
    "lambda_meters2kilometers = lambda x:x/1000\n",
    "# x is the variable"
   ]
  },
  {
   "cell_type": "code",
   "execution_count": null,
   "id": "7d94f6a8",
   "metadata": {},
   "outputs": [],
   "source": [
    "# apply it to the entire series\n",
    "lambda_meters2kilometers(quake.depth)"
   ]
  },
  {
   "cell_type": "code",
   "execution_count": null,
   "id": "caad68a3",
   "metadata": {},
   "outputs": [],
   "source": [
    "# you can add several variables into lambda functions\n",
    "remove_anything = lambda x,y:x-y\n",
    "remove_anything(3,2)"
   ]
  },
  {
   "cell_type": "markdown",
   "id": "a6da00e2",
   "metadata": {},
   "source": [
    "This did not affect the values of the DataFrame, check it:"
   ]
  },
  {
   "cell_type": "code",
   "execution_count": null,
   "id": "40367bfb",
   "metadata": {},
   "outputs": [],
   "source": [
    "quake.depth"
   ]
  },
  {
   "cell_type": "markdown",
   "id": "ed149895",
   "metadata": {},
   "source": [
    "Instead, you could overwrite ``quake.depth=X``. Try two approaches but just do it once!"
   ]
  },
  {
   "cell_type": "code",
   "execution_count": null,
   "id": "8a1da18f",
   "metadata": {},
   "outputs": [],
   "source": [
    "#type answer below\n",
    "quake.depth=quake.depth.map(lambda x:x/1000)"
   ]
  },
  {
   "cell_type": "code",
   "execution_count": null,
   "id": "ec3420af",
   "metadata": {},
   "outputs": [],
   "source": [
    "# or like this\n",
    "# quake.depth=quake.depth.apply(lambda x:x/1000)"
   ]
  },
  {
   "cell_type": "markdown",
   "id": "fa66b4e8",
   "metadata": {},
   "source": [
    "Plot a histogram of the depth distributions using matplotlib function ``hist``."
   ]
  },
  {
   "cell_type": "code",
   "execution_count": null,
   "id": "ae368fd4",
   "metadata": {},
   "outputs": [],
   "source": [
    "# answer here\n",
    "plt.hist(quake.depth,100)\n",
    "plt.grid(True)\n",
    "plt.xlabel('Quake depth (km)')\n",
    "plt.show()"
   ]
  },
  {
   "cell_type": "markdown",
   "id": "8bb58e3c",
   "metadata": {},
   "source": [
    "You can use the interactive plotting package Plotly. First we will show a histogram of the event depth using the function ``histogram``"
   ]
  },
  {
   "cell_type": "code",
   "execution_count": null,
   "id": "5f07dc52",
   "metadata": {},
   "outputs": [],
   "source": [
    "fig = px.histogram(quake,   #specify what dataframe to use\n",
    "             x=\"depth\",  #specify the variable for the histogram \n",
    "             nbins=50,       #number of bins for the histogram \n",
    "             height=400,     #dimensions of the figure\n",
    "             width=600);\n",
    "fig.show()"
   ]
  },
  {
   "cell_type": "markdown",
   "id": "b87c6c42",
   "metadata": {},
   "source": [
    "We will now make a new plot of the location of the earthquakes. We will use Plotly tool. \n",
    "\n",
    "The markersize will be scaled with the earthquake magnitude. To do so, we add a ``marker_size`` series in the DataFrame"
   ]
  },
  {
   "cell_type": "code",
   "execution_count": null,
   "id": "d9cb41c3",
   "metadata": {},
   "outputs": [],
   "source": [
    "quake['marker_size'] =np.fix(np.exp(quake['magnitude'])) # add marker size as exp(mag)\n",
    "quake['magnitude bin'] = 0.5*np.fix(2*quake['magnitude']) # add marker size as exp(mag)"
   ]
  },
  {
   "cell_type": "markdown",
   "id": "f004df73",
   "metadata": {},
   "source": [
    "## Mapping using Plotly\n",
    "\n",
    "Now we will plot the earthquakes locations on a map using the Plotly package. More tutorials on [Plotly](https://plotly.com/). Input of the function in the function is self-explanatory and typical of Python's function. The code [documentation](https://plotly.com/python/scatter-plots-on-maps/) of Plotly scatter_geo lists the variables."
   ]
  },
  {
   "cell_type": "code",
   "execution_count": null,
   "id": "ff53045a",
   "metadata": {},
   "outputs": [],
   "source": [
    "fig = px.scatter_geo(quake,\n",
    "                     lat='latitude',lon='longitude', \n",
    "                     range_color=(6,9),\n",
    "                     height=600, width=600,\n",
    "                     size='marker_size', color='magnitude',\n",
    "                     hover_name=\"description\",\n",
    "                     hover_data=['description','magnitude','depth']);\n",
    "fig.update_geos(resolution=110, showcountries=True)\n",
    "fig.update_geos(resolution=110, showcountries=True,projection_type=\"orthographic\")\n"
   ]
  },
  {
   "cell_type": "markdown",
   "id": "69b7c97f",
   "metadata": {},
   "source": [
    "The data was sorted by time. We now want to sort and show the data instead by magnitude. We use the pandas function ``sort`` to create a new DataFrame with sorted values."
   ]
  },
  {
   "cell_type": "code",
   "execution_count": null,
   "id": "7738e4d0",
   "metadata": {},
   "outputs": [],
   "source": [
    "quakes2plot=quake.sort_values(by='magnitude bin')\n",
    "\n",
    "quakes2plot.head()"
   ]
  },
  {
   "cell_type": "markdown",
   "id": "dcf7472d",
   "metadata": {},
   "source": [
    "Now we will plot again using Plotly"
   ]
  },
  {
   "cell_type": "code",
   "execution_count": null,
   "id": "c21ce4ea",
   "metadata": {},
   "outputs": [],
   "source": [
    "fig = px.scatter_geo(quakes2plot,\n",
    "                     lat='latitude',lon='longitude', \n",
    "                     range_color=(6,9),\n",
    "                     height=600, width=600,\n",
    "                     size='marker_size', color='magnitude',\n",
    "                     hover_name=\"description\",\n",
    "                     hover_data=['description','magnitude','depth']);\n",
    "fig.update_geos(resolution=110, showcountries=True)\n",
    "# fig.update_geos(resolution=110, showcountries=True,projection_type=\"orthographic\")\n"
   ]
  },
  {
   "cell_type": "markdown",
   "id": "3355fe19",
   "metadata": {},
   "source": [
    "## Create a Pandas from a text file.\n",
    "\n",
    "The python package pandas is very useful to read csv files, but also many text files that are more or less formated as one observation per row and one column for each feature.\n",
    "\n",
    "As an example, we are going to look at the list of seismic stations from the Northern California seismic network, available [here](http://ncedc.org/ftp/pub/doc/NC.info/NC.channel.summary.day):\n",
    "\n"
   ]
  },
  {
   "cell_type": "code",
   "execution_count": 1,
   "metadata": {},
   "outputs": [],
   "source": [
    "url = 'http://ncedc.org/ftp/pub/doc/NC.info/NC.channel.summary.day'"
   ]
  },
  {
   "cell_type": "code",
   "execution_count": null,
   "id": "3a60ef42",
   "metadata": {},
   "outputs": [],
   "source": [
    "# this gets the file linked in the URL page and convert it to a string\n",
    "s = requests.get(url).content "
   ]
  },
  {
   "cell_type": "code",
   "execution_count": 3,
   "metadata": {},
   "outputs": [],
   "source": [
    "\n",
    "# this will convert the string, decode it , and make it a table\n",
    "data = pd.read_csv(io.StringIO(s.decode('utf-8')), header=None, skiprows=2, sep='\\s+', usecols=list(range(0, 13)))\n",
    "# because columns/keys were not assigned, assign them now\n",
    "data.columns = ['station', 'network', 'channel', 'location', 'rate', 'start_time', 'end_time', 'latitude', 'longitude', 'elevation', 'depth', 'dip', 'azimuth']"
   ]
  },
  {
   "cell_type": "markdown",
   "metadata": {},
   "source": [
    "Let us look at the data. They are now stored into a pandas dataframe."
   ]
  },
  {
   "cell_type": "code",
   "execution_count": 4,
   "metadata": {},
   "outputs": [
    {
     "data": {
      "text/html": [
       "<div>\n",
       "<style scoped>\n",
       "    .dataframe tbody tr th:only-of-type {\n",
       "        vertical-align: middle;\n",
       "    }\n",
       "\n",
       "    .dataframe tbody tr th {\n",
       "        vertical-align: top;\n",
       "    }\n",
       "\n",
       "    .dataframe thead th {\n",
       "        text-align: right;\n",
       "    }\n",
       "</style>\n",
       "<table border=\"1\" class=\"dataframe\">\n",
       "  <thead>\n",
       "    <tr style=\"text-align: right;\">\n",
       "      <th></th>\n",
       "      <th>station</th>\n",
       "      <th>network</th>\n",
       "      <th>channel</th>\n",
       "      <th>location</th>\n",
       "      <th>rate</th>\n",
       "      <th>start_time</th>\n",
       "      <th>end_time</th>\n",
       "      <th>latitude</th>\n",
       "      <th>longitude</th>\n",
       "      <th>elevation</th>\n",
       "      <th>depth</th>\n",
       "      <th>dip</th>\n",
       "      <th>azimuth</th>\n",
       "    </tr>\n",
       "  </thead>\n",
       "  <tbody>\n",
       "    <tr>\n",
       "      <th>0</th>\n",
       "      <td>AAR</td>\n",
       "      <td>NC</td>\n",
       "      <td>EHZ</td>\n",
       "      <td>--</td>\n",
       "      <td>100.0</td>\n",
       "      <td>1984/01/01,00:00:00</td>\n",
       "      <td>1987/05/01,00:00:00</td>\n",
       "      <td>39.27594</td>\n",
       "      <td>-121.02696</td>\n",
       "      <td>911.0</td>\n",
       "      <td>0.0</td>\n",
       "      <td>-90.0</td>\n",
       "      <td>0.0</td>\n",
       "    </tr>\n",
       "    <tr>\n",
       "      <th>1</th>\n",
       "      <td>AAR</td>\n",
       "      <td>NC</td>\n",
       "      <td>EHZ</td>\n",
       "      <td>--</td>\n",
       "      <td>100.0</td>\n",
       "      <td>1987/05/01,00:00:00</td>\n",
       "      <td>2006/01/04,19:19:00</td>\n",
       "      <td>39.27594</td>\n",
       "      <td>-121.02696</td>\n",
       "      <td>911.0</td>\n",
       "      <td>0.0</td>\n",
       "      <td>-90.0</td>\n",
       "      <td>0.0</td>\n",
       "    </tr>\n",
       "    <tr>\n",
       "      <th>2</th>\n",
       "      <td>AAR</td>\n",
       "      <td>NC</td>\n",
       "      <td>SHZ</td>\n",
       "      <td>--</td>\n",
       "      <td>20.0</td>\n",
       "      <td>1994/11/28,00:00:00</td>\n",
       "      <td>2006/01/04,19:19:00</td>\n",
       "      <td>39.27594</td>\n",
       "      <td>-121.02696</td>\n",
       "      <td>911.0</td>\n",
       "      <td>0.0</td>\n",
       "      <td>-90.0</td>\n",
       "      <td>0.0</td>\n",
       "    </tr>\n",
       "    <tr>\n",
       "      <th>3</th>\n",
       "      <td>AAS</td>\n",
       "      <td>NC</td>\n",
       "      <td>EHZ</td>\n",
       "      <td>--</td>\n",
       "      <td>100.0</td>\n",
       "      <td>1984/11/27,18:45:00</td>\n",
       "      <td>1987/05/01,00:00:00</td>\n",
       "      <td>38.43014</td>\n",
       "      <td>-121.10959</td>\n",
       "      <td>31.0</td>\n",
       "      <td>0.0</td>\n",
       "      <td>-90.0</td>\n",
       "      <td>0.0</td>\n",
       "    </tr>\n",
       "    <tr>\n",
       "      <th>4</th>\n",
       "      <td>AAS</td>\n",
       "      <td>NC</td>\n",
       "      <td>EHZ</td>\n",
       "      <td>--</td>\n",
       "      <td>100.0</td>\n",
       "      <td>1987/05/01,00:00:00</td>\n",
       "      <td>3000/01/01,00:00:00</td>\n",
       "      <td>38.43014</td>\n",
       "      <td>-121.10959</td>\n",
       "      <td>31.0</td>\n",
       "      <td>0.0</td>\n",
       "      <td>-90.0</td>\n",
       "      <td>0.0</td>\n",
       "    </tr>\n",
       "  </tbody>\n",
       "</table>\n",
       "</div>"
      ],
      "text/plain": [
       "  station network channel location   rate           start_time  \\\n",
       "0     AAR      NC     EHZ       --  100.0  1984/01/01,00:00:00   \n",
       "1     AAR      NC     EHZ       --  100.0  1987/05/01,00:00:00   \n",
       "2     AAR      NC     SHZ       --   20.0  1994/11/28,00:00:00   \n",
       "3     AAS      NC     EHZ       --  100.0  1984/11/27,18:45:00   \n",
       "4     AAS      NC     EHZ       --  100.0  1987/05/01,00:00:00   \n",
       "\n",
       "              end_time  latitude  longitude  elevation  depth   dip  azimuth  \n",
       "0  1987/05/01,00:00:00  39.27594 -121.02696      911.0    0.0 -90.0      0.0  \n",
       "1  2006/01/04,19:19:00  39.27594 -121.02696      911.0    0.0 -90.0      0.0  \n",
       "2  2006/01/04,19:19:00  39.27594 -121.02696      911.0    0.0 -90.0      0.0  \n",
       "3  1987/05/01,00:00:00  38.43014 -121.10959       31.0    0.0 -90.0      0.0  \n",
       "4  3000/01/01,00:00:00  38.43014 -121.10959       31.0    0.0 -90.0      0.0  "
      ]
     },
     "execution_count": 4,
     "metadata": {},
     "output_type": "execute_result"
    }
   ],
   "source": [
    "data.head()"
   ]
  },
  {
   "cell_type": "markdown",
   "id": "d05055aa",
   "metadata": {},
   "source": [
    "We can output the first element of the DataFrame:"
   ]
  },
  {
   "cell_type": "code",
   "execution_count": null,
   "id": "51971cde",
   "metadata": {},
   "outputs": [],
   "source": [
    "data.iloc[0]"
   ]
  },
  {
   "cell_type": "code",
   "execution_count": null,
   "id": "b3cc09c6",
   "metadata": {},
   "outputs": [],
   "source": [
    "data.iloc[:, 0]"
   ]
  },
  {
   "cell_type": "markdown",
   "id": "a201c0e9",
   "metadata": {},
   "source": [
    "The DataFrame may have bad values. A typical data cleaning involves removing Nan and Zeros for instance."
   ]
  },
  {
   "cell_type": "markdown",
   "id": "fc8219f0",
   "metadata": {},
   "source": [
    "Use Plotly to map the stations."
   ]
  },
  {
   "cell_type": "code",
   "execution_count": null,
   "id": "78c75b19",
   "metadata": {},
   "outputs": [],
   "source": [
    "data.dropna(inplace=True)\n",
    "data=data[data.longitude!=0]"
   ]
  },
  {
   "cell_type": "code",
   "execution_count": null,
   "id": "7f3533db",
   "metadata": {},
   "outputs": [],
   "source": [
    "fig = px.scatter_geo(data,\n",
    "                     lat='latitude',lon='longitude', \n",
    "                     range_color=(6,9),\n",
    "                     height=600, width=600,\n",
    "                     hover_name=\"station\",\n",
    "                     hover_data=['network','station','channel','rate']);\n",
    "fig.update_geos(resolution=110, showcountries=True)\n"
   ]
  },
  {
   "cell_type": "code",
   "execution_count": null,
   "id": "819da3ef",
   "metadata": {},
   "outputs": [],
   "source": [
    "fig = px.scatter_mapbox(data,\n",
    "                     lat='latitude',lon='longitude', \n",
    "                     range_color=(6,9),mapbox_style=\"carto-positron\",\n",
    "                     height=600, width=500,\n",
    "                     hover_name=\"station\",\n",
    "                     hover_data=['network','station','channel','rate']);\n",
    "fig.update_layout(title=\"Northern California Seismic Network\")\n",
    "fig.show()"
   ]
  },
  {
   "cell_type": "markdown",
   "id": "373751b7",
   "metadata": {},
   "source": [
    "## Pandas: data selection\n",
    "We can filter the data with the value taken by a given column:"
   ]
  },
  {
   "cell_type": "code",
   "execution_count": null,
   "id": "d28d4e95",
   "metadata": {},
   "outputs": [],
   "source": [
    "data.loc[data.station=='KCPB']"
   ]
  },
  {
   "cell_type": "code",
   "execution_count": 10,
   "metadata": {},
   "outputs": [
    {
     "data": {
      "text/plain": [
       "'AAR'"
      ]
     },
     "execution_count": 10,
     "metadata": {},
     "output_type": "execute_result"
    }
   ],
   "source": [
    "# Select two stations, use the typical \"OR\" |\n",
    "data.loc[(data.station=='KCPB') | (data.station=='KHBB')]"
   ]
  },
  {
   "cell_type": "code",
   "execution_count": null,
   "id": "ebba2b90",
   "metadata": {},
   "outputs": [],
   "source": [
    "# Select two stations, use the typical \"AND\" &\n",
    "data.loc[(data.station=='KCPB') & (data.channel=='HNZ')]"
   ]
  },
  {
   "cell_type": "code",
   "execution_count": null,
   "id": "561aecf9",
   "metadata": {},
   "outputs": [],
   "source": [
    "# or like this\n",
    "data.loc[data.station.isin(['KCPB', 'KHBB'])]"
   ]
  },
  {
   "cell_type": "markdown",
   "metadata": {},
   "source": [
    "We can filter the data with the value taken by a given column:"
   ]
  },
  {
   "cell_type": "code",
   "execution_count": 11,
   "metadata": {},
   "outputs": [
    {
     "data": {
      "text/html": [
       "<div>\n",
       "<style scoped>\n",
       "    .dataframe tbody tr th:only-of-type {\n",
       "        vertical-align: middle;\n",
       "    }\n",
       "\n",
       "    .dataframe tbody tr th {\n",
       "        vertical-align: top;\n",
       "    }\n",
       "\n",
       "    .dataframe thead th {\n",
       "        text-align: right;\n",
       "    }\n",
       "</style>\n",
       "<table border=\"1\" class=\"dataframe\">\n",
       "  <thead>\n",
       "    <tr style=\"text-align: right;\">\n",
       "      <th></th>\n",
       "      <th>station</th>\n",
       "      <th>network</th>\n",
       "      <th>channel</th>\n",
       "      <th>location</th>\n",
       "      <th>rate</th>\n",
       "      <th>start_time</th>\n",
       "      <th>end_time</th>\n",
       "      <th>latitude</th>\n",
       "      <th>longitude</th>\n",
       "      <th>elevation</th>\n",
       "      <th>depth</th>\n",
       "      <th>dip</th>\n",
       "      <th>azimuth</th>\n",
       "    </tr>\n",
       "  </thead>\n",
       "  <tbody>\n",
       "    <tr>\n",
       "      <th>2993</th>\n",
       "      <td>KCPB</td>\n",
       "      <td>NC</td>\n",
       "      <td>BHE</td>\n",
       "      <td>--</td>\n",
       "      <td>50.0</td>\n",
       "      <td>1999/08/03,00:00:00</td>\n",
       "      <td>2000/06/06,16:00:00</td>\n",
       "      <td>39.68631</td>\n",
       "      <td>-123.58242</td>\n",
       "      <td>1261.0</td>\n",
       "      <td>0.0</td>\n",
       "      <td>0.0</td>\n",
       "      <td>90.0</td>\n",
       "    </tr>\n",
       "    <tr>\n",
       "      <th>2994</th>\n",
       "      <td>KCPB</td>\n",
       "      <td>NC</td>\n",
       "      <td>BHE</td>\n",
       "      <td>--</td>\n",
       "      <td>50.0</td>\n",
       "      <td>2000/06/06,16:00:00</td>\n",
       "      <td>2002/01/24,23:50:00</td>\n",
       "      <td>39.68631</td>\n",
       "      <td>-123.58242</td>\n",
       "      <td>1261.0</td>\n",
       "      <td>0.0</td>\n",
       "      <td>0.0</td>\n",
       "      <td>90.0</td>\n",
       "    </tr>\n",
       "    <tr>\n",
       "      <th>2995</th>\n",
       "      <td>KCPB</td>\n",
       "      <td>NC</td>\n",
       "      <td>BHE</td>\n",
       "      <td>--</td>\n",
       "      <td>50.0</td>\n",
       "      <td>2002/01/24,23:50:00</td>\n",
       "      <td>2002/10/16,23:59:00</td>\n",
       "      <td>39.68631</td>\n",
       "      <td>-123.58242</td>\n",
       "      <td>1261.0</td>\n",
       "      <td>0.0</td>\n",
       "      <td>0.0</td>\n",
       "      <td>90.0</td>\n",
       "    </tr>\n",
       "    <tr>\n",
       "      <th>2996</th>\n",
       "      <td>KCPB</td>\n",
       "      <td>NC</td>\n",
       "      <td>BHE</td>\n",
       "      <td>--</td>\n",
       "      <td>20.0</td>\n",
       "      <td>2002/10/17,00:00:00</td>\n",
       "      <td>2006/01/24,18:00:00</td>\n",
       "      <td>39.68631</td>\n",
       "      <td>-123.58242</td>\n",
       "      <td>1261.0</td>\n",
       "      <td>0.0</td>\n",
       "      <td>0.0</td>\n",
       "      <td>90.0</td>\n",
       "    </tr>\n",
       "    <tr>\n",
       "      <th>2997</th>\n",
       "      <td>KCPB</td>\n",
       "      <td>NC</td>\n",
       "      <td>BHN</td>\n",
       "      <td>--</td>\n",
       "      <td>50.0</td>\n",
       "      <td>1999/08/03,00:00:00</td>\n",
       "      <td>2000/06/06,16:00:00</td>\n",
       "      <td>39.68631</td>\n",
       "      <td>-123.58242</td>\n",
       "      <td>1261.0</td>\n",
       "      <td>0.0</td>\n",
       "      <td>0.0</td>\n",
       "      <td>0.0</td>\n",
       "    </tr>\n",
       "    <tr>\n",
       "      <th>...</th>\n",
       "      <td>...</td>\n",
       "      <td>...</td>\n",
       "      <td>...</td>\n",
       "      <td>...</td>\n",
       "      <td>...</td>\n",
       "      <td>...</td>\n",
       "      <td>...</td>\n",
       "      <td>...</td>\n",
       "      <td>...</td>\n",
       "      <td>...</td>\n",
       "      <td>...</td>\n",
       "      <td>...</td>\n",
       "      <td>...</td>\n",
       "    </tr>\n",
       "    <tr>\n",
       "      <th>3066</th>\n",
       "      <td>KCPB</td>\n",
       "      <td>NC</td>\n",
       "      <td>MNE</td>\n",
       "      <td>--</td>\n",
       "      <td>10.0</td>\n",
       "      <td>2000/06/06,16:00:00</td>\n",
       "      <td>2000/07/12,00:00:00</td>\n",
       "      <td>39.68631</td>\n",
       "      <td>-123.58242</td>\n",
       "      <td>1261.0</td>\n",
       "      <td>0.0</td>\n",
       "      <td>0.0</td>\n",
       "      <td>90.0</td>\n",
       "    </tr>\n",
       "    <tr>\n",
       "      <th>3067</th>\n",
       "      <td>KCPB</td>\n",
       "      <td>NC</td>\n",
       "      <td>MNN</td>\n",
       "      <td>--</td>\n",
       "      <td>10.0</td>\n",
       "      <td>1999/08/03,00:00:00</td>\n",
       "      <td>2000/06/06,16:00:00</td>\n",
       "      <td>39.68631</td>\n",
       "      <td>-123.58242</td>\n",
       "      <td>1261.0</td>\n",
       "      <td>0.0</td>\n",
       "      <td>0.0</td>\n",
       "      <td>0.0</td>\n",
       "    </tr>\n",
       "    <tr>\n",
       "      <th>3068</th>\n",
       "      <td>KCPB</td>\n",
       "      <td>NC</td>\n",
       "      <td>MNN</td>\n",
       "      <td>--</td>\n",
       "      <td>10.0</td>\n",
       "      <td>2000/06/06,16:00:00</td>\n",
       "      <td>2000/07/12,00:00:00</td>\n",
       "      <td>39.68631</td>\n",
       "      <td>-123.58242</td>\n",
       "      <td>1261.0</td>\n",
       "      <td>0.0</td>\n",
       "      <td>0.0</td>\n",
       "      <td>0.0</td>\n",
       "    </tr>\n",
       "    <tr>\n",
       "      <th>3069</th>\n",
       "      <td>KCPB</td>\n",
       "      <td>NC</td>\n",
       "      <td>MNZ</td>\n",
       "      <td>--</td>\n",
       "      <td>10.0</td>\n",
       "      <td>1999/08/03,00:00:00</td>\n",
       "      <td>2000/06/06,16:00:00</td>\n",
       "      <td>39.68631</td>\n",
       "      <td>-123.58242</td>\n",
       "      <td>1261.0</td>\n",
       "      <td>0.0</td>\n",
       "      <td>-90.0</td>\n",
       "      <td>0.0</td>\n",
       "    </tr>\n",
       "    <tr>\n",
       "      <th>3070</th>\n",
       "      <td>KCPB</td>\n",
       "      <td>NC</td>\n",
       "      <td>MNZ</td>\n",
       "      <td>--</td>\n",
       "      <td>10.0</td>\n",
       "      <td>2000/06/06,16:00:00</td>\n",
       "      <td>2000/07/12,00:00:00</td>\n",
       "      <td>39.68631</td>\n",
       "      <td>-123.58242</td>\n",
       "      <td>1261.0</td>\n",
       "      <td>0.0</td>\n",
       "      <td>-90.0</td>\n",
       "      <td>0.0</td>\n",
       "    </tr>\n",
       "  </tbody>\n",
       "</table>\n",
       "<p>78 rows × 13 columns</p>\n",
       "</div>"
      ],
      "text/plain": [
       "     station network channel location  rate           start_time  \\\n",
       "2993    KCPB      NC     BHE       --  50.0  1999/08/03,00:00:00   \n",
       "2994    KCPB      NC     BHE       --  50.0  2000/06/06,16:00:00   \n",
       "2995    KCPB      NC     BHE       --  50.0  2002/01/24,23:50:00   \n",
       "2996    KCPB      NC     BHE       --  20.0  2002/10/17,00:00:00   \n",
       "2997    KCPB      NC     BHN       --  50.0  1999/08/03,00:00:00   \n",
       "...      ...     ...     ...      ...   ...                  ...   \n",
       "3066    KCPB      NC     MNE       --  10.0  2000/06/06,16:00:00   \n",
       "3067    KCPB      NC     MNN       --  10.0  1999/08/03,00:00:00   \n",
       "3068    KCPB      NC     MNN       --  10.0  2000/06/06,16:00:00   \n",
       "3069    KCPB      NC     MNZ       --  10.0  1999/08/03,00:00:00   \n",
       "3070    KCPB      NC     MNZ       --  10.0  2000/06/06,16:00:00   \n",
       "\n",
       "                 end_time  latitude  longitude  elevation  depth   dip  \\\n",
       "2993  2000/06/06,16:00:00  39.68631 -123.58242     1261.0    0.0   0.0   \n",
       "2994  2002/01/24,23:50:00  39.68631 -123.58242     1261.0    0.0   0.0   \n",
       "2995  2002/10/16,23:59:00  39.68631 -123.58242     1261.0    0.0   0.0   \n",
       "2996  2006/01/24,18:00:00  39.68631 -123.58242     1261.0    0.0   0.0   \n",
       "2997  2000/06/06,16:00:00  39.68631 -123.58242     1261.0    0.0   0.0   \n",
       "...                   ...       ...        ...        ...    ...   ...   \n",
       "3066  2000/07/12,00:00:00  39.68631 -123.58242     1261.0    0.0   0.0   \n",
       "3067  2000/06/06,16:00:00  39.68631 -123.58242     1261.0    0.0   0.0   \n",
       "3068  2000/07/12,00:00:00  39.68631 -123.58242     1261.0    0.0   0.0   \n",
       "3069  2000/06/06,16:00:00  39.68631 -123.58242     1261.0    0.0 -90.0   \n",
       "3070  2000/07/12,00:00:00  39.68631 -123.58242     1261.0    0.0 -90.0   \n",
       "\n",
       "      azimuth  \n",
       "2993     90.0  \n",
       "2994     90.0  \n",
       "2995     90.0  \n",
       "2996     90.0  \n",
       "2997      0.0  \n",
       "...       ...  \n",
       "3066     90.0  \n",
       "3067      0.0  \n",
       "3068      0.0  \n",
       "3069      0.0  \n",
       "3070      0.0  \n",
       "\n",
       "[78 rows x 13 columns]"
      ]
     },
     "execution_count": 11,
     "metadata": {},
     "output_type": "execute_result"
    }
   ],
   "source": [
    "data.loc[data.station=='KCPB']"
   ]
  },
  {
   "cell_type": "markdown",
   "metadata": {},
   "source": [
    "We can access to a brief summary of the data:"
   ]
  },
  {
   "cell_type": "code",
   "execution_count": 14,
   "metadata": {},
   "outputs": [
    {
     "data": {
      "text/plain": [
       "count     6140\n",
       "unique     893\n",
       "top       KCPB\n",
       "freq        78\n",
       "Name: station, dtype: object"
      ]
     },
     "execution_count": 14,
     "metadata": {},
     "output_type": "execute_result"
    }
   ],
   "source": [
    "data.station.describe()"
   ]
  },
  {
   "cell_type": "code",
   "execution_count": 15,
   "metadata": {},
   "outputs": [
    {
     "data": {
      "text/plain": [
       "count    6140.000000\n",
       "mean      650.942248\n",
       "std       681.708404\n",
       "min     -1388.000000\n",
       "25%       146.750000\n",
       "50%       406.000000\n",
       "75%       918.000000\n",
       "max      3680.000000\n",
       "Name: elevation, dtype: float64"
      ]
     },
     "execution_count": 15,
     "metadata": {},
     "output_type": "execute_result"
    }
   ],
   "source": [
    "data.elevation.describe()"
   ]
  },
  {
   "cell_type": "markdown",
   "metadata": {},
   "source": [
    "We can perform standard operations on the whole data set:"
   ]
  },
  {
   "cell_type": "code",
   "execution_count": 16,
   "metadata": {},
   "outputs": [
    {
     "data": {
      "text/plain": [
       "rate          92.544982\n",
       "latitude      37.930985\n",
       "longitude   -121.440088\n",
       "elevation    650.942248\n",
       "depth         17.581270\n",
       "dip          -45.894137\n",
       "azimuth       18.549186\n",
       "dtype: float64"
      ]
     },
     "execution_count": 16,
     "metadata": {},
     "output_type": "execute_result"
    }
   ],
   "source": [
    "data.mean()"
   ]
  },
  {
   "cell_type": "markdown",
   "metadata": {},
   "source": [
    "In the case of a categorical variable, we can get the list of possile values that this variable can take:"
   ]
  },
  {
   "cell_type": "code",
   "execution_count": 17,
   "metadata": {},
   "outputs": [
    {
     "data": {
      "text/plain": [
       "array(['EHZ', 'SHZ', 'HHE', 'HHN', 'HHZ', 'HNE', 'HNN', 'HNZ', 'LHE',\n",
       "       'LHN', 'LHZ', 'ELE', 'ELN', 'ELZ', 'SLE', 'SLN', 'SLZ', 'LCE',\n",
       "       'LCL', 'LCQ', 'LOG', 'OCF', 'VCO', 'VEA', 'VEC', 'VEP', 'VFP',\n",
       "       'VKI', 'GAN', 'GNS', 'GPL', 'GST', 'VDT', 'VEI', 'VPB', 'EHE',\n",
       "       'EHN', 'BNE', 'BNN', 'BN1', 'BN2', 'BN3', 'BV1', 'EP1', 'EP2',\n",
       "       'EP3', 'HDO', 'HN1', 'HN2', 'HN3', 'HV1', 'SP2', 'SP3', 'BNZ',\n",
       "       'LDO', 'HJ2', 'HJ3', 'HJZ', 'ACE', 'GEL', 'GLA', 'GLO', 'ATT',\n",
       "       'SHE', 'SHN', 'BHE', 'BHN', 'BHZ', 'LNE', 'LNN', 'LNZ', 'MHE',\n",
       "       'MHN', 'MHZ', 'MNE', 'MNN', 'MNZ', 'HH2', 'HH3', 'LH2', 'LH3',\n",
       "       'SP1', 'DP1', 'DP2', 'DP3', 'HLE', 'HLN', 'HLZ', 'XNE', 'XNN',\n",
       "       'XNZ', 'EH1'], dtype=object)"
      ]
     },
     "execution_count": 17,
     "metadata": {},
     "output_type": "execute_result"
    }
   ],
   "source": [
    "data.channel.unique()"
   ]
  },
  {
   "cell_type": "markdown",
   "metadata": {},
   "source": [
    "and get the number of times that each value is taken:"
   ]
  },
  {
   "cell_type": "code",
   "execution_count": 18,
   "metadata": {},
   "outputs": [
    {
     "data": {
      "text/plain": [
       "KCPB     78\n",
       "KMPB     72\n",
       "JSGB     69\n",
       "KHMB     63\n",
       "CCH1     60\n",
       "         ..\n",
       "PL21      1\n",
       "LSS       1\n",
       "IRG1A     1\n",
       "AGI       1\n",
       "BVLB      1\n",
       "Name: station, Length: 893, dtype: int64"
      ]
     },
     "execution_count": 18,
     "metadata": {},
     "output_type": "execute_result"
    }
   ],
   "source": [
    "data.station.value_counts()"
   ]
  },
  {
   "cell_type": "markdown",
   "metadata": {},
   "source": [
    "The second option is to use the apply function:"
   ]
  },
  {
   "cell_type": "code",
   "execution_count": 19,
   "metadata": {},
   "outputs": [
    {
     "data": {
      "text/plain": [
       "0       260.057752\n",
       "1       260.057752\n",
       "2       260.057752\n",
       "3      -619.942248\n",
       "4      -619.942248\n",
       "           ...    \n",
       "6135    427.057752\n",
       "6136    427.057752\n",
       "6137    427.057752\n",
       "6138    427.057752\n",
       "6139   -649.942248\n",
       "Name: elevation, Length: 6140, dtype: float64"
      ]
     },
     "execution_count": 19,
     "metadata": {},
     "output_type": "execute_result"
    }
   ],
   "source": [
    "data_elevation_mean=data.elevation.unique().mean()\n",
    "def remean_elevation(row):\n",
    "    row.elevation = row.elevation - data_elevation_mean\n",
    "    return row\n",
    "data.apply(remean_elevation, axis='columns')"
   ]
  },
  {
   "cell_type": "markdown",
   "metadata": {},
   "source": [
    "We can also carry out simple operations on columns, provided they make sense."
   ]
  },
  {
   "cell_type": "code",
   "execution_count": 21,
   "metadata": {},
   "outputs": [
    {
     "data": {
      "text/plain": [
       "0        NC - AAR\n",
       "1        NC - AAR\n",
       "2        NC - AAR\n",
       "3        NC - AAS\n",
       "4        NC - AAS\n",
       "          ...    \n",
       "6135     NC - WMP\n",
       "6136     NC - WMP\n",
       "6137     NC - WMP\n",
       "6138     NC - WMP\n",
       "6139    NC - WWVB\n",
       "Length: 6140, dtype: object"
      ]
     },
     "execution_count": 21,
     "metadata": {},
     "output_type": "execute_result"
    }
   ],
   "source": [
    "data.network + ' - ' + data.station"
   ]
  },
  {
   "cell_type": "markdown",
   "metadata": {},
   "source": [
    "A useful feature is to group the rows depending on the value of a categorical variable, and then apply the same operation to all the groups. For instance, I want to know how many times each station appears in the file:"
   ]
  },
  {
   "cell_type": "code",
   "execution_count": 22,
   "metadata": {},
   "outputs": [
    {
     "data": {
      "text/plain": [
       "station\n",
       "AAR      3\n",
       "AAS      3\n",
       "ABJ      4\n",
       "ABR      3\n",
       "ADW      3\n",
       "        ..\n",
       "VRC      4\n",
       "VSP      2\n",
       "VWB      1\n",
       "WMP     10\n",
       "WWVB     1\n",
       "Name: station, Length: 893, dtype: int64"
      ]
     },
     "execution_count": 22,
     "metadata": {},
     "output_type": "execute_result"
    }
   ],
   "source": [
    "data.groupby('station').station.count()"
   ]
  },
  {
   "cell_type": "markdown",
   "metadata": {},
   "source": [
    "We can have access to the data type of each column:"
   ]
  },
  {
   "cell_type": "code",
   "execution_count": 25,
   "metadata": {},
   "outputs": [
    {
     "data": {
      "text/plain": [
       "station        object\n",
       "network        object\n",
       "channel        object\n",
       "location       object\n",
       "rate          float64\n",
       "start_time     object\n",
       "end_time       object\n",
       "latitude      float64\n",
       "longitude     float64\n",
       "elevation     float64\n",
       "depth         float64\n",
       "dip           float64\n",
       "azimuth       float64\n",
       "dtype: object"
      ]
     },
     "execution_count": 25,
     "metadata": {},
     "output_type": "execute_result"
    }
   ],
   "source": [
    "data.dtypes"
   ]
  },
  {
   "cell_type": "markdown",
   "metadata": {},
   "source": [
    "Here, pandas does not recognize the start_time and end_time columns as a datetime format, so we cannot use datetime operations on them. We first need to convert these columns into a datetime format:"
   ]
  },
  {
   "cell_type": "code",
   "execution_count": null,
   "id": "02663a77",
   "metadata": {},
   "outputs": [],
   "source": [
    "data.start_time.values()"
   ]
  },
  {
   "cell_type": "code",
   "execution_count": null,
   "id": "62d6937c",
   "metadata": {},
   "outputs": [],
   "source": [
    "type(data['start_time'][0])"
   ]
  },
  {
   "cell_type": "code",
   "execution_count": 26,
   "metadata": {},
   "outputs": [],
   "source": [
    "# Transform column from string into datetime format\n",
    "startdate = pd.to_datetime(data['start_time'], format='%Y/%m/%d,%H:%M:%S')\n",
    "data['start_time'] = startdate\n",
    "print(data['start_time'] )\n",
    "type(data['start_time'][0])"
   ]
  },
  {
   "cell_type": "code",
   "execution_count": null,
   "id": "78278bab",
   "metadata": {},
   "outputs": [],
   "source": [
    "print(data['end_time'])"
   ]
  },
  {
   "cell_type": "code",
   "execution_count": 27,
   "metadata": {},
   "outputs": [
    {
     "data": {
      "text/plain": [
       "station\n",
       "AAR    1984-01-01 00:00:00\n",
       "AAS    1984-11-27 18:45:00\n",
       "ABJ    1984-01-01 00:00:00\n",
       "ABR    1984-01-01 00:00:00\n",
       "ADW    1984-01-01 00:00:00\n",
       "               ...        \n",
       "VRC    1993-09-23 22:20:00\n",
       "VSP    1993-09-24 22:05:00\n",
       "VWB    1985-01-01 00:00:00\n",
       "WMP    1995-03-02 19:00:00\n",
       "WWVB   1984-01-01 00:00:00\n",
       "Length: 893, dtype: datetime64[ns]"
      ]
     },
     "execution_count": 27,
     "metadata": {},
     "output_type": "execute_result"
    }
   ],
   "source": [
    "# do the same for end times\n",
    "# Avoid 'OutOfBoundsDatetime' error with year 3000\n",
    "enddate = data['end_time'].str.replace('3000', '2025')\n",
    "enddate = pd.to_datetime(enddate, format='%Y/%m/%d,%H:%M:%S')\n",
    "data['end_time'] = enddate"
   ]
  },
  {
   "cell_type": "markdown",
   "id": "f00ce758",
   "metadata": {},
   "source": [
    "We can now look when each seismic station was installed:"
   ]
  },
  {
   "cell_type": "code",
   "execution_count": null,
   "id": "a0cc2a86",
   "metadata": {},
   "outputs": [],
   "source": [
    "data.groupby('station').apply(lambda df: df.start_time.min())"
   ]
  },
  {
   "cell_type": "markdown",
   "metadata": {},
   "source": [
    "The ``agg`` function allows to carry out several operations to each group of rows:"
   ]
  },
  {
   "cell_type": "code",
   "execution_count": 28,
   "metadata": {},
   "outputs": [
    {
     "data": {
      "text/html": [
       "<div>\n",
       "<style scoped>\n",
       "    .dataframe tbody tr th:only-of-type {\n",
       "        vertical-align: middle;\n",
       "    }\n",
       "\n",
       "    .dataframe tbody tr th {\n",
       "        vertical-align: top;\n",
       "    }\n",
       "\n",
       "    .dataframe thead th {\n",
       "        text-align: right;\n",
       "    }\n",
       "</style>\n",
       "<table border=\"1\" class=\"dataframe\">\n",
       "  <thead>\n",
       "    <tr style=\"text-align: right;\">\n",
       "      <th></th>\n",
       "      <th>min</th>\n",
       "      <th>max</th>\n",
       "    </tr>\n",
       "    <tr>\n",
       "      <th>station</th>\n",
       "      <th></th>\n",
       "      <th></th>\n",
       "    </tr>\n",
       "  </thead>\n",
       "  <tbody>\n",
       "    <tr>\n",
       "      <th>AAR</th>\n",
       "      <td>911.0</td>\n",
       "      <td>911.0</td>\n",
       "    </tr>\n",
       "    <tr>\n",
       "      <th>AAS</th>\n",
       "      <td>31.0</td>\n",
       "      <td>31.0</td>\n",
       "    </tr>\n",
       "    <tr>\n",
       "      <th>ABJ</th>\n",
       "      <td>434.0</td>\n",
       "      <td>434.0</td>\n",
       "    </tr>\n",
       "    <tr>\n",
       "      <th>ABR</th>\n",
       "      <td>-1.0</td>\n",
       "      <td>-1.0</td>\n",
       "    </tr>\n",
       "    <tr>\n",
       "      <th>ADW</th>\n",
       "      <td>228.0</td>\n",
       "      <td>228.0</td>\n",
       "    </tr>\n",
       "    <tr>\n",
       "      <th>...</th>\n",
       "      <td>...</td>\n",
       "      <td>...</td>\n",
       "    </tr>\n",
       "    <tr>\n",
       "      <th>VRC</th>\n",
       "      <td>1666.0</td>\n",
       "      <td>1666.0</td>\n",
       "    </tr>\n",
       "    <tr>\n",
       "      <th>VSP</th>\n",
       "      <td>1545.0</td>\n",
       "      <td>1545.0</td>\n",
       "    </tr>\n",
       "    <tr>\n",
       "      <th>VWB</th>\n",
       "      <td>1736.0</td>\n",
       "      <td>1736.0</td>\n",
       "    </tr>\n",
       "    <tr>\n",
       "      <th>WMP</th>\n",
       "      <td>1078.0</td>\n",
       "      <td>1078.0</td>\n",
       "    </tr>\n",
       "    <tr>\n",
       "      <th>WWVB</th>\n",
       "      <td>1.0</td>\n",
       "      <td>1.0</td>\n",
       "    </tr>\n",
       "  </tbody>\n",
       "</table>\n",
       "<p>893 rows × 2 columns</p>\n",
       "</div>"
      ],
      "text/plain": [
       "            min     max\n",
       "station                \n",
       "AAR       911.0   911.0\n",
       "AAS        31.0    31.0\n",
       "ABJ       434.0   434.0\n",
       "ABR        -1.0    -1.0\n",
       "ADW       228.0   228.0\n",
       "...         ...     ...\n",
       "VRC      1666.0  1666.0\n",
       "VSP      1545.0  1545.0\n",
       "VWB      1736.0  1736.0\n",
       "WMP      1078.0  1078.0\n",
       "WWVB        1.0     1.0\n",
       "\n",
       "[893 rows x 2 columns]"
      ]
     },
     "execution_count": 28,
     "metadata": {},
     "output_type": "execute_result"
    }
   ],
   "source": [
    "data.groupby(['station']).elevation.agg(['min', 'max'])"
   ]
  },
  {
   "cell_type": "markdown",
   "id": "5183304a",
   "metadata": {},
   "source": [
    "Select the stations that were deployed first and recovered last"
   ]
  },
  {
   "cell_type": "code",
   "execution_count": 29,
   "metadata": {},
   "outputs": [
    {
     "data": {
      "text/html": [
       "<div>\n",
       "<style scoped>\n",
       "    .dataframe tbody tr th:only-of-type {\n",
       "        vertical-align: middle;\n",
       "    }\n",
       "\n",
       "    .dataframe tbody tr th {\n",
       "        vertical-align: top;\n",
       "    }\n",
       "\n",
       "    .dataframe thead th {\n",
       "        text-align: right;\n",
       "    }\n",
       "</style>\n",
       "<table border=\"1\" class=\"dataframe\">\n",
       "  <thead>\n",
       "    <tr style=\"text-align: right;\">\n",
       "      <th></th>\n",
       "      <th>start_time</th>\n",
       "      <th>end_time</th>\n",
       "    </tr>\n",
       "    <tr>\n",
       "      <th>station</th>\n",
       "      <th></th>\n",
       "      <th></th>\n",
       "    </tr>\n",
       "  </thead>\n",
       "  <tbody>\n",
       "    <tr>\n",
       "      <th>AAR</th>\n",
       "      <td>1984-01-01 00:00:00</td>\n",
       "      <td>2006-01-04 19:19:00</td>\n",
       "    </tr>\n",
       "    <tr>\n",
       "      <th>AAS</th>\n",
       "      <td>1984-11-27 18:45:00</td>\n",
       "      <td>2025-01-01 00:00:00</td>\n",
       "    </tr>\n",
       "    <tr>\n",
       "      <th>ABJ</th>\n",
       "      <td>1984-01-01 00:00:00</td>\n",
       "      <td>2019-06-26 19:17:00</td>\n",
       "    </tr>\n",
       "    <tr>\n",
       "      <th>ABR</th>\n",
       "      <td>1984-01-01 00:00:00</td>\n",
       "      <td>1997-08-04 21:02:00</td>\n",
       "    </tr>\n",
       "    <tr>\n",
       "      <th>ADW</th>\n",
       "      <td>1984-01-01 00:00:00</td>\n",
       "      <td>2006-04-20 01:08:00</td>\n",
       "    </tr>\n",
       "    <tr>\n",
       "      <th>...</th>\n",
       "      <td>...</td>\n",
       "      <td>...</td>\n",
       "    </tr>\n",
       "    <tr>\n",
       "      <th>VRC</th>\n",
       "      <td>1993-09-23 22:20:00</td>\n",
       "      <td>2001-07-12 16:50:00</td>\n",
       "    </tr>\n",
       "    <tr>\n",
       "      <th>VSP</th>\n",
       "      <td>1993-09-24 22:05:00</td>\n",
       "      <td>2001-07-12 16:50:00</td>\n",
       "    </tr>\n",
       "    <tr>\n",
       "      <th>VWB</th>\n",
       "      <td>1985-01-01 00:00:00</td>\n",
       "      <td>1985-03-25 19:00:00</td>\n",
       "    </tr>\n",
       "    <tr>\n",
       "      <th>WMP</th>\n",
       "      <td>1995-03-02 19:00:00</td>\n",
       "      <td>2002-05-08 22:30:00</td>\n",
       "    </tr>\n",
       "    <tr>\n",
       "      <th>WWVB</th>\n",
       "      <td>1984-01-01 00:00:00</td>\n",
       "      <td>1999-03-20 23:59:00</td>\n",
       "    </tr>\n",
       "  </tbody>\n",
       "</table>\n",
       "<p>893 rows × 2 columns</p>\n",
       "</div>"
      ],
      "text/plain": [
       "                 start_time            end_time\n",
       "station                                        \n",
       "AAR     1984-01-01 00:00:00 2006-01-04 19:19:00\n",
       "AAS     1984-11-27 18:45:00 2025-01-01 00:00:00\n",
       "ABJ     1984-01-01 00:00:00 2019-06-26 19:17:00\n",
       "ABR     1984-01-01 00:00:00 1997-08-04 21:02:00\n",
       "ADW     1984-01-01 00:00:00 2006-04-20 01:08:00\n",
       "...                     ...                 ...\n",
       "VRC     1993-09-23 22:20:00 2001-07-12 16:50:00\n",
       "VSP     1993-09-24 22:05:00 2001-07-12 16:50:00\n",
       "VWB     1985-01-01 00:00:00 1985-03-25 19:00:00\n",
       "WMP     1995-03-02 19:00:00 2002-05-08 22:30:00\n",
       "WWVB    1984-01-01 00:00:00 1999-03-20 23:59:00\n",
       "\n",
       "[893 rows x 2 columns]"
      ]
     },
     "execution_count": 29,
     "metadata": {},
     "output_type": "execute_result"
    }
   ],
   "source": [
    "data.groupby(['station']).agg({'start_time':lambda x: min(x), 'end_time':lambda x: max(x)})"
   ]
  },
  {
   "cell_type": "markdown",
   "metadata": {},
   "source": [
    "We can also make groups by selecting the values of two categorical variables:"
   ]
  },
  {
   "cell_type": "code",
   "execution_count": 30,
   "metadata": {},
   "outputs": [
    {
     "data": {
      "text/html": [
       "<div>\n",
       "<style scoped>\n",
       "    .dataframe tbody tr th:only-of-type {\n",
       "        vertical-align: middle;\n",
       "    }\n",
       "\n",
       "    .dataframe tbody tr th {\n",
       "        vertical-align: top;\n",
       "    }\n",
       "\n",
       "    .dataframe thead th {\n",
       "        text-align: right;\n",
       "    }\n",
       "</style>\n",
       "<table border=\"1\" class=\"dataframe\">\n",
       "  <thead>\n",
       "    <tr style=\"text-align: right;\">\n",
       "      <th></th>\n",
       "      <th></th>\n",
       "      <th>start_time</th>\n",
       "      <th>end_time</th>\n",
       "    </tr>\n",
       "    <tr>\n",
       "      <th>station</th>\n",
       "      <th>channel</th>\n",
       "      <th></th>\n",
       "      <th></th>\n",
       "    </tr>\n",
       "  </thead>\n",
       "  <tbody>\n",
       "    <tr>\n",
       "      <th rowspan=\"2\" valign=\"top\">AAR</th>\n",
       "      <th>EHZ</th>\n",
       "      <td>1984-01-01 00:00:00</td>\n",
       "      <td>2006-01-04 19:19:00</td>\n",
       "    </tr>\n",
       "    <tr>\n",
       "      <th>SHZ</th>\n",
       "      <td>1994-11-28 00:00:00</td>\n",
       "      <td>2006-01-04 19:19:00</td>\n",
       "    </tr>\n",
       "    <tr>\n",
       "      <th rowspan=\"2\" valign=\"top\">AAS</th>\n",
       "      <th>EHZ</th>\n",
       "      <td>1984-11-27 18:45:00</td>\n",
       "      <td>2025-01-01 00:00:00</td>\n",
       "    </tr>\n",
       "    <tr>\n",
       "      <th>SHZ</th>\n",
       "      <td>1994-11-28 00:00:00</td>\n",
       "      <td>2006-01-24 18:00:00</td>\n",
       "    </tr>\n",
       "    <tr>\n",
       "      <th>ABJ</th>\n",
       "      <th>EHZ</th>\n",
       "      <td>1984-01-01 00:00:00</td>\n",
       "      <td>2019-06-26 19:17:00</td>\n",
       "    </tr>\n",
       "    <tr>\n",
       "      <th>...</th>\n",
       "      <th>...</th>\n",
       "      <td>...</td>\n",
       "      <td>...</td>\n",
       "    </tr>\n",
       "    <tr>\n",
       "      <th rowspan=\"4\" valign=\"top\">WMP</th>\n",
       "      <th>EHZ</th>\n",
       "      <td>1995-03-02 19:00:00</td>\n",
       "      <td>2002-05-08 22:30:00</td>\n",
       "    </tr>\n",
       "    <tr>\n",
       "      <th>SHE</th>\n",
       "      <td>1995-07-02 12:00:00</td>\n",
       "      <td>2002-05-08 22:30:00</td>\n",
       "    </tr>\n",
       "    <tr>\n",
       "      <th>SHN</th>\n",
       "      <td>1995-07-02 12:00:00</td>\n",
       "      <td>2002-05-08 22:30:00</td>\n",
       "    </tr>\n",
       "    <tr>\n",
       "      <th>SHZ</th>\n",
       "      <td>1995-03-02 19:00:00</td>\n",
       "      <td>2002-05-08 22:30:00</td>\n",
       "    </tr>\n",
       "    <tr>\n",
       "      <th>WWVB</th>\n",
       "      <th>ATT</th>\n",
       "      <td>1984-01-01 00:00:00</td>\n",
       "      <td>1999-03-20 23:59:00</td>\n",
       "    </tr>\n",
       "  </tbody>\n",
       "</table>\n",
       "<p>3725 rows × 2 columns</p>\n",
       "</div>"
      ],
      "text/plain": [
       "                         start_time            end_time\n",
       "station channel                                        \n",
       "AAR     EHZ     1984-01-01 00:00:00 2006-01-04 19:19:00\n",
       "        SHZ     1994-11-28 00:00:00 2006-01-04 19:19:00\n",
       "AAS     EHZ     1984-11-27 18:45:00 2025-01-01 00:00:00\n",
       "        SHZ     1994-11-28 00:00:00 2006-01-24 18:00:00\n",
       "ABJ     EHZ     1984-01-01 00:00:00 2019-06-26 19:17:00\n",
       "...                             ...                 ...\n",
       "WMP     EHZ     1995-03-02 19:00:00 2002-05-08 22:30:00\n",
       "        SHE     1995-07-02 12:00:00 2002-05-08 22:30:00\n",
       "        SHN     1995-07-02 12:00:00 2002-05-08 22:30:00\n",
       "        SHZ     1995-03-02 19:00:00 2002-05-08 22:30:00\n",
       "WWVB    ATT     1984-01-01 00:00:00 1999-03-20 23:59:00\n",
       "\n",
       "[3725 rows x 2 columns]"
      ]
     },
     "execution_count": 30,
     "metadata": {},
     "output_type": "execute_result"
    }
   ],
   "source": [
    "data.groupby(['station', 'channel']).agg({'start_time':lambda x: min(x), 'end_time':lambda x: max(x)})"
   ]
  },
  {
   "cell_type": "markdown",
   "metadata": {},
   "source": [
    "Previously, we just printed the output, but we can also store it in a new variable:"
   ]
  },
  {
   "cell_type": "code",
   "execution_count": 31,
   "metadata": {},
   "outputs": [],
   "source": [
    "data_grouped = data.groupby(['station', 'channel']).agg({'start_time':lambda x: min(x), 'end_time':lambda x: max(x)})"
   ]
  },
  {
   "cell_type": "code",
   "execution_count": 32,
   "metadata": {},
   "outputs": [
    {
     "data": {
      "text/html": [
       "<div>\n",
       "<style scoped>\n",
       "    .dataframe tbody tr th:only-of-type {\n",
       "        vertical-align: middle;\n",
       "    }\n",
       "\n",
       "    .dataframe tbody tr th {\n",
       "        vertical-align: top;\n",
       "    }\n",
       "\n",
       "    .dataframe thead th {\n",
       "        text-align: right;\n",
       "    }\n",
       "</style>\n",
       "<table border=\"1\" class=\"dataframe\">\n",
       "  <thead>\n",
       "    <tr style=\"text-align: right;\">\n",
       "      <th></th>\n",
       "      <th></th>\n",
       "      <th>start_time</th>\n",
       "      <th>end_time</th>\n",
       "    </tr>\n",
       "    <tr>\n",
       "      <th>station</th>\n",
       "      <th>channel</th>\n",
       "      <th></th>\n",
       "      <th></th>\n",
       "    </tr>\n",
       "  </thead>\n",
       "  <tbody>\n",
       "    <tr>\n",
       "      <th rowspan=\"2\" valign=\"top\">AAR</th>\n",
       "      <th>EHZ</th>\n",
       "      <td>1984-01-01 00:00:00</td>\n",
       "      <td>2006-01-04 19:19:00</td>\n",
       "    </tr>\n",
       "    <tr>\n",
       "      <th>SHZ</th>\n",
       "      <td>1994-11-28 00:00:00</td>\n",
       "      <td>2006-01-04 19:19:00</td>\n",
       "    </tr>\n",
       "    <tr>\n",
       "      <th rowspan=\"2\" valign=\"top\">AAS</th>\n",
       "      <th>EHZ</th>\n",
       "      <td>1984-11-27 18:45:00</td>\n",
       "      <td>2025-01-01 00:00:00</td>\n",
       "    </tr>\n",
       "    <tr>\n",
       "      <th>SHZ</th>\n",
       "      <td>1994-11-28 00:00:00</td>\n",
       "      <td>2006-01-24 18:00:00</td>\n",
       "    </tr>\n",
       "    <tr>\n",
       "      <th>ABJ</th>\n",
       "      <th>EHZ</th>\n",
       "      <td>1984-01-01 00:00:00</td>\n",
       "      <td>2019-06-26 19:17:00</td>\n",
       "    </tr>\n",
       "  </tbody>\n",
       "</table>\n",
       "</div>"
      ],
      "text/plain": [
       "                         start_time            end_time\n",
       "station channel                                        \n",
       "AAR     EHZ     1984-01-01 00:00:00 2006-01-04 19:19:00\n",
       "        SHZ     1994-11-28 00:00:00 2006-01-04 19:19:00\n",
       "AAS     EHZ     1984-11-27 18:45:00 2025-01-01 00:00:00\n",
       "        SHZ     1994-11-28 00:00:00 2006-01-24 18:00:00\n",
       "ABJ     EHZ     1984-01-01 00:00:00 2019-06-26 19:17:00"
      ]
     },
     "execution_count": 32,
     "metadata": {},
     "output_type": "execute_result"
    }
   ],
   "source": [
    "data_grouped.head()"
   ]
  },
  {
   "cell_type": "markdown",
   "metadata": {},
   "source": [
    "When we select only some rows, the index is not automatically reset to start at 0. We can do it manually. Many functions in pandas have also an option to reset the index, and option to transform the dataframe in place, instead of saving the results in another variable."
   ]
  },
  {
   "cell_type": "code",
   "execution_count": 33,
   "metadata": {},
   "outputs": [
    {
     "data": {
      "text/html": [
       "<div>\n",
       "<style scoped>\n",
       "    .dataframe tbody tr th:only-of-type {\n",
       "        vertical-align: middle;\n",
       "    }\n",
       "\n",
       "    .dataframe tbody tr th {\n",
       "        vertical-align: top;\n",
       "    }\n",
       "\n",
       "    .dataframe thead th {\n",
       "        text-align: right;\n",
       "    }\n",
       "</style>\n",
       "<table border=\"1\" class=\"dataframe\">\n",
       "  <thead>\n",
       "    <tr style=\"text-align: right;\">\n",
       "      <th></th>\n",
       "      <th>station</th>\n",
       "      <th>channel</th>\n",
       "      <th>start_time</th>\n",
       "      <th>end_time</th>\n",
       "    </tr>\n",
       "  </thead>\n",
       "  <tbody>\n",
       "    <tr>\n",
       "      <th>0</th>\n",
       "      <td>AAR</td>\n",
       "      <td>EHZ</td>\n",
       "      <td>1984-01-01 00:00:00</td>\n",
       "      <td>2006-01-04 19:19:00</td>\n",
       "    </tr>\n",
       "    <tr>\n",
       "      <th>1</th>\n",
       "      <td>AAR</td>\n",
       "      <td>SHZ</td>\n",
       "      <td>1994-11-28 00:00:00</td>\n",
       "      <td>2006-01-04 19:19:00</td>\n",
       "    </tr>\n",
       "    <tr>\n",
       "      <th>2</th>\n",
       "      <td>AAS</td>\n",
       "      <td>EHZ</td>\n",
       "      <td>1984-11-27 18:45:00</td>\n",
       "      <td>2025-01-01 00:00:00</td>\n",
       "    </tr>\n",
       "    <tr>\n",
       "      <th>3</th>\n",
       "      <td>AAS</td>\n",
       "      <td>SHZ</td>\n",
       "      <td>1994-11-28 00:00:00</td>\n",
       "      <td>2006-01-24 18:00:00</td>\n",
       "    </tr>\n",
       "    <tr>\n",
       "      <th>4</th>\n",
       "      <td>ABJ</td>\n",
       "      <td>EHZ</td>\n",
       "      <td>1984-01-01 00:00:00</td>\n",
       "      <td>2019-06-26 19:17:00</td>\n",
       "    </tr>\n",
       "    <tr>\n",
       "      <th>...</th>\n",
       "      <td>...</td>\n",
       "      <td>...</td>\n",
       "      <td>...</td>\n",
       "      <td>...</td>\n",
       "    </tr>\n",
       "    <tr>\n",
       "      <th>3720</th>\n",
       "      <td>WMP</td>\n",
       "      <td>EHZ</td>\n",
       "      <td>1995-03-02 19:00:00</td>\n",
       "      <td>2002-05-08 22:30:00</td>\n",
       "    </tr>\n",
       "    <tr>\n",
       "      <th>3721</th>\n",
       "      <td>WMP</td>\n",
       "      <td>SHE</td>\n",
       "      <td>1995-07-02 12:00:00</td>\n",
       "      <td>2002-05-08 22:30:00</td>\n",
       "    </tr>\n",
       "    <tr>\n",
       "      <th>3722</th>\n",
       "      <td>WMP</td>\n",
       "      <td>SHN</td>\n",
       "      <td>1995-07-02 12:00:00</td>\n",
       "      <td>2002-05-08 22:30:00</td>\n",
       "    </tr>\n",
       "    <tr>\n",
       "      <th>3723</th>\n",
       "      <td>WMP</td>\n",
       "      <td>SHZ</td>\n",
       "      <td>1995-03-02 19:00:00</td>\n",
       "      <td>2002-05-08 22:30:00</td>\n",
       "    </tr>\n",
       "    <tr>\n",
       "      <th>3724</th>\n",
       "      <td>WWVB</td>\n",
       "      <td>ATT</td>\n",
       "      <td>1984-01-01 00:00:00</td>\n",
       "      <td>1999-03-20 23:59:00</td>\n",
       "    </tr>\n",
       "  </tbody>\n",
       "</table>\n",
       "<p>3725 rows × 4 columns</p>\n",
       "</div>"
      ],
      "text/plain": [
       "     station channel          start_time            end_time\n",
       "0        AAR     EHZ 1984-01-01 00:00:00 2006-01-04 19:19:00\n",
       "1        AAR     SHZ 1994-11-28 00:00:00 2006-01-04 19:19:00\n",
       "2        AAS     EHZ 1984-11-27 18:45:00 2025-01-01 00:00:00\n",
       "3        AAS     SHZ 1994-11-28 00:00:00 2006-01-24 18:00:00\n",
       "4        ABJ     EHZ 1984-01-01 00:00:00 2019-06-26 19:17:00\n",
       "...      ...     ...                 ...                 ...\n",
       "3720     WMP     EHZ 1995-03-02 19:00:00 2002-05-08 22:30:00\n",
       "3721     WMP     SHE 1995-07-02 12:00:00 2002-05-08 22:30:00\n",
       "3722     WMP     SHN 1995-07-02 12:00:00 2002-05-08 22:30:00\n",
       "3723     WMP     SHZ 1995-03-02 19:00:00 2002-05-08 22:30:00\n",
       "3724    WWVB     ATT 1984-01-01 00:00:00 1999-03-20 23:59:00\n",
       "\n",
       "[3725 rows x 4 columns]"
      ]
     },
     "execution_count": 33,
     "metadata": {},
     "output_type": "execute_result"
    }
   ],
   "source": [
    "data_grouped.reset_index()"
   ]
  },
  {
   "cell_type": "markdown",
   "metadata": {},
   "source": [
    "It is also possible to sort the dataset by value."
   ]
  },
  {
   "cell_type": "code",
   "execution_count": 34,
   "metadata": {},
   "outputs": [
    {
     "data": {
      "text/html": [
       "<div>\n",
       "<style scoped>\n",
       "    .dataframe tbody tr th:only-of-type {\n",
       "        vertical-align: middle;\n",
       "    }\n",
       "\n",
       "    .dataframe tbody tr th {\n",
       "        vertical-align: top;\n",
       "    }\n",
       "\n",
       "    .dataframe thead th {\n",
       "        text-align: right;\n",
       "    }\n",
       "</style>\n",
       "<table border=\"1\" class=\"dataframe\">\n",
       "  <thead>\n",
       "    <tr style=\"text-align: right;\">\n",
       "      <th></th>\n",
       "      <th></th>\n",
       "      <th>start_time</th>\n",
       "      <th>end_time</th>\n",
       "    </tr>\n",
       "    <tr>\n",
       "      <th>station</th>\n",
       "      <th>channel</th>\n",
       "      <th></th>\n",
       "      <th></th>\n",
       "    </tr>\n",
       "  </thead>\n",
       "  <tbody>\n",
       "    <tr>\n",
       "      <th>PG1</th>\n",
       "      <th>HV1</th>\n",
       "      <td>1983-06-27 00:00:00</td>\n",
       "      <td>1993-11-10 18:00:00</td>\n",
       "    </tr>\n",
       "    <tr>\n",
       "      <th>AAR</th>\n",
       "      <th>EHZ</th>\n",
       "      <td>1984-01-01 00:00:00</td>\n",
       "      <td>2006-01-04 19:19:00</td>\n",
       "    </tr>\n",
       "    <tr>\n",
       "      <th rowspan=\"3\" valign=\"top\">HQR</th>\n",
       "      <th>EHZ</th>\n",
       "      <td>1984-01-01 00:00:00</td>\n",
       "      <td>1992-10-19 18:45:00</td>\n",
       "    </tr>\n",
       "    <tr>\n",
       "      <th>ELE</th>\n",
       "      <td>1984-01-01 00:00:00</td>\n",
       "      <td>1992-10-19 18:45:00</td>\n",
       "    </tr>\n",
       "    <tr>\n",
       "      <th>ELN</th>\n",
       "      <td>1984-01-01 00:00:00</td>\n",
       "      <td>1992-10-19 18:45:00</td>\n",
       "    </tr>\n",
       "    <tr>\n",
       "      <th>...</th>\n",
       "      <th>...</th>\n",
       "      <td>...</td>\n",
       "      <td>...</td>\n",
       "    </tr>\n",
       "    <tr>\n",
       "      <th>PBIB</th>\n",
       "      <th>HNE</th>\n",
       "      <td>2020-11-19 00:00:00</td>\n",
       "      <td>2025-01-01 00:00:00</td>\n",
       "    </tr>\n",
       "    <tr>\n",
       "      <th>PPBB</th>\n",
       "      <th>HNE</th>\n",
       "      <td>2020-11-19 00:00:00</td>\n",
       "      <td>2025-01-01 00:00:00</td>\n",
       "    </tr>\n",
       "    <tr>\n",
       "      <th rowspan=\"3\" valign=\"top\">KBN</th>\n",
       "      <th>HNE</th>\n",
       "      <td>2021-02-26 00:48:00</td>\n",
       "      <td>2025-01-01 00:00:00</td>\n",
       "    </tr>\n",
       "    <tr>\n",
       "      <th>HNN</th>\n",
       "      <td>2021-02-26 00:48:00</td>\n",
       "      <td>2025-01-01 00:00:00</td>\n",
       "    </tr>\n",
       "    <tr>\n",
       "      <th>HNZ</th>\n",
       "      <td>2021-02-26 00:48:00</td>\n",
       "      <td>2025-01-01 00:00:00</td>\n",
       "    </tr>\n",
       "  </tbody>\n",
       "</table>\n",
       "<p>3725 rows × 2 columns</p>\n",
       "</div>"
      ],
      "text/plain": [
       "                         start_time            end_time\n",
       "station channel                                        \n",
       "PG1     HV1     1983-06-27 00:00:00 1993-11-10 18:00:00\n",
       "AAR     EHZ     1984-01-01 00:00:00 2006-01-04 19:19:00\n",
       "HQR     EHZ     1984-01-01 00:00:00 1992-10-19 18:45:00\n",
       "        ELE     1984-01-01 00:00:00 1992-10-19 18:45:00\n",
       "        ELN     1984-01-01 00:00:00 1992-10-19 18:45:00\n",
       "...                             ...                 ...\n",
       "PBIB    HNE     2020-11-19 00:00:00 2025-01-01 00:00:00\n",
       "PPBB    HNE     2020-11-19 00:00:00 2025-01-01 00:00:00\n",
       "KBN     HNE     2021-02-26 00:48:00 2025-01-01 00:00:00\n",
       "        HNN     2021-02-26 00:48:00 2025-01-01 00:00:00\n",
       "        HNZ     2021-02-26 00:48:00 2025-01-01 00:00:00\n",
       "\n",
       "[3725 rows x 2 columns]"
      ]
     },
     "execution_count": 34,
     "metadata": {},
     "output_type": "execute_result"
    }
   ],
   "source": [
    "data_grouped.sort_values(by='start_time')"
   ]
  },
  {
   "cell_type": "markdown",
   "metadata": {},
   "source": [
    "We can apply the sorting to several columns:"
   ]
  },
  {
   "cell_type": "code",
   "execution_count": 35,
   "metadata": {},
   "outputs": [
    {
     "data": {
      "text/html": [
       "<div>\n",
       "<style scoped>\n",
       "    .dataframe tbody tr th:only-of-type {\n",
       "        vertical-align: middle;\n",
       "    }\n",
       "\n",
       "    .dataframe tbody tr th {\n",
       "        vertical-align: top;\n",
       "    }\n",
       "\n",
       "    .dataframe thead th {\n",
       "        text-align: right;\n",
       "    }\n",
       "</style>\n",
       "<table border=\"1\" class=\"dataframe\">\n",
       "  <thead>\n",
       "    <tr style=\"text-align: right;\">\n",
       "      <th></th>\n",
       "      <th></th>\n",
       "      <th>start_time</th>\n",
       "      <th>end_time</th>\n",
       "    </tr>\n",
       "    <tr>\n",
       "      <th>station</th>\n",
       "      <th>channel</th>\n",
       "      <th></th>\n",
       "      <th></th>\n",
       "    </tr>\n",
       "  </thead>\n",
       "  <tbody>\n",
       "    <tr>\n",
       "      <th>PG1</th>\n",
       "      <th>HV1</th>\n",
       "      <td>1983-06-27 00:00:00</td>\n",
       "      <td>1993-11-10 18:00:00</td>\n",
       "    </tr>\n",
       "    <tr>\n",
       "      <th>PGC</th>\n",
       "      <th>EHZ</th>\n",
       "      <td>1984-01-01 00:00:00</td>\n",
       "      <td>1984-04-12 18:00:00</td>\n",
       "    </tr>\n",
       "    <tr>\n",
       "      <th>AFO</th>\n",
       "      <th>EHZ</th>\n",
       "      <td>1984-01-01 00:00:00</td>\n",
       "      <td>1984-04-23 00:00:00</td>\n",
       "    </tr>\n",
       "    <tr>\n",
       "      <th>MCH</th>\n",
       "      <th>EHZ</th>\n",
       "      <td>1984-01-01 00:00:00</td>\n",
       "      <td>1984-08-01 19:31:00</td>\n",
       "    </tr>\n",
       "    <tr>\n",
       "      <th>MCN</th>\n",
       "      <th>EHZ</th>\n",
       "      <td>1984-01-01 00:00:00</td>\n",
       "      <td>1984-09-22 16:45:00</td>\n",
       "    </tr>\n",
       "    <tr>\n",
       "      <th>...</th>\n",
       "      <th>...</th>\n",
       "      <td>...</td>\n",
       "      <td>...</td>\n",
       "    </tr>\n",
       "    <tr>\n",
       "      <th rowspan=\"2\" valign=\"top\">PPBB</th>\n",
       "      <th>VEI</th>\n",
       "      <td>2020-11-19 00:00:00</td>\n",
       "      <td>2025-01-01 00:00:00</td>\n",
       "    </tr>\n",
       "    <tr>\n",
       "      <th>VPB</th>\n",
       "      <td>2020-11-19 00:00:00</td>\n",
       "      <td>2025-01-01 00:00:00</td>\n",
       "    </tr>\n",
       "    <tr>\n",
       "      <th rowspan=\"3\" valign=\"top\">KBN</th>\n",
       "      <th>HNE</th>\n",
       "      <td>2021-02-26 00:48:00</td>\n",
       "      <td>2025-01-01 00:00:00</td>\n",
       "    </tr>\n",
       "    <tr>\n",
       "      <th>HNN</th>\n",
       "      <td>2021-02-26 00:48:00</td>\n",
       "      <td>2025-01-01 00:00:00</td>\n",
       "    </tr>\n",
       "    <tr>\n",
       "      <th>HNZ</th>\n",
       "      <td>2021-02-26 00:48:00</td>\n",
       "      <td>2025-01-01 00:00:00</td>\n",
       "    </tr>\n",
       "  </tbody>\n",
       "</table>\n",
       "<p>3725 rows × 2 columns</p>\n",
       "</div>"
      ],
      "text/plain": [
       "                         start_time            end_time\n",
       "station channel                                        \n",
       "PG1     HV1     1983-06-27 00:00:00 1993-11-10 18:00:00\n",
       "PGC     EHZ     1984-01-01 00:00:00 1984-04-12 18:00:00\n",
       "AFO     EHZ     1984-01-01 00:00:00 1984-04-23 00:00:00\n",
       "MCH     EHZ     1984-01-01 00:00:00 1984-08-01 19:31:00\n",
       "MCN     EHZ     1984-01-01 00:00:00 1984-09-22 16:45:00\n",
       "...                             ...                 ...\n",
       "PPBB    VEI     2020-11-19 00:00:00 2025-01-01 00:00:00\n",
       "        VPB     2020-11-19 00:00:00 2025-01-01 00:00:00\n",
       "KBN     HNE     2021-02-26 00:48:00 2025-01-01 00:00:00\n",
       "        HNN     2021-02-26 00:48:00 2025-01-01 00:00:00\n",
       "        HNZ     2021-02-26 00:48:00 2025-01-01 00:00:00\n",
       "\n",
       "[3725 rows x 2 columns]"
      ]
     },
     "execution_count": 35,
     "metadata": {},
     "output_type": "execute_result"
    }
   ],
   "source": [
    "data_grouped.sort_values(by=['start_time', 'end_time'])"
   ]
  },
  {
   "cell_type": "markdown",
   "id": "c5c38796",
   "metadata": {},
   "source": [
    "## CSV vs Parquet\n",
    "\n",
    "Parquet is a compressed data format that stores and compress the culumns. It is fast for I/O and compact formt.\n",
    "\n",
    "Save ``data`` into a CSV file:"
   ]
  },
  {
   "cell_type": "code",
   "execution_count": null,
   "metadata": {},
   "outputs": [],
   "source": [
    "%timeit data.to_csv(\"my_metadata.csv\")\n",
    "!ls -lh my_metadata.csv"
   ]
  },
  {
   "cell_type": "markdown",
   "id": "4b5dd078",
   "metadata": {},
   "source": [
    "Try and save in Parquet, compare time and memory"
   ]
  },
  {
   "cell_type": "code",
   "execution_count": null,
   "id": "0952eb9f",
   "metadata": {},
   "outputs": [],
   "source": [
    "%timeit data.to_parquet(\"my_metadata.pq\")\n",
    "!ls -lh my_metadata.pq"
   ]
  }
 ],
 "metadata": {
  "kernelspec": {
   "display_name": "Python 3.9.6 ('madrona')",
   "language": "python",
   "name": "python3"
  },
  "language_info": {
   "codemirror_mode": {
    "name": "ipython",
    "version": 3
   },
   "file_extension": ".py",
   "mimetype": "text/x-python",
   "name": "python",
   "nbconvert_exporter": "python",
   "pygments_lexer": "ipython3",
   "version": "3.9.6"
  },
  "vscode": {
   "interpreter": {
    "hash": "1c2df93b363d800c8a9b94963221f1be1d8deaf6a76f83b6b9a486ad05d69583"
   }
  }
 },
 "nbformat": 4,
 "nbformat_minor": 5
}
