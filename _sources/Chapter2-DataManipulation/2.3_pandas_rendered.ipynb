{
 "cells": [
  {
   "cell_type": "markdown",
   "id": "50e82750",
   "metadata": {},
   "source": [
    "# 2.3 Pandas, Basic Mapping\n",
    "\n",
    "This section aims to provide new skills in python to handle structured \"table\" data. \n",
    "\n",
    "Learning outcome:\n",
    "-   Manipulation of data frames (describing, filtering, ...) \n",
    "-   Learn about Lambda functions\n",
    "-   Intro to datetime objects\n",
    "-   Plotting data from data frames (histograms and maps)\n",
    "-   Introduction to Plotly\n",
    "-   Introduction to CSV & Parquet\n",
    "\n",
    "\n",
    "We will work on several structured data sets: sensor metadata, seismic data product (earthquake catalog).\n",
    "\n",
    "First, we import all the modules we need:"
   ]
  },
  {
   "cell_type": "code",
   "execution_count": 1,
   "id": "28d926f9",
   "metadata": {},
   "outputs": [],
   "source": [
    "import numpy as np\n",
    "import pandas as pd\n",
    "import io\n",
    "import requests\n",
    "import time\n",
    "from datetime import datetime, timedelta\n",
    "\n",
    "import plotly.express as px\n",
    "import plotly.io as pio\n",
    "# pio.renderers.default = 'vscode' # writes as standalone html, \n",
    "# pio.renderers.default = 'iframe' # writes files as standalone html, \n",
    "# pio.renderers.default = 'png' # writes files as standalone png, \n",
    "# try notebook, jupyterlab, png, vscode, iframe\n"
   ]
  },
  {
   "cell_type": "markdown",
   "id": "3f1829a3",
   "metadata": {},
   "source": [
    "# The Basics of Pandas \n",
    "\n",
    "Pandas are composed of ``Series`` and ``DataFrame``. ``Series`` are columns with attributes or keys. The ``DataFrame`` is a multi-dimensional table made up of ``Series``.\n",
    "\n",
    "We can create a DataFrame composed of series from scratch using Python dictionary:"
   ]
  },
  {
   "cell_type": "code",
   "execution_count": 2,
   "id": "3cdfc90e",
   "metadata": {},
   "outputs": [
    {
     "name": "stdout",
     "output_type": "stream",
     "text": [
      "   temperature  precipitation\n",
      "0           36              3\n",
      "1           37              1\n",
      "2           30              0\n",
      "3           50              0\n"
     ]
    }
   ],
   "source": [
    "data = {\n",
    "    'temperature' : [36,37,30,50],\n",
    "    'precipitation':[3,1,0,0]\n",
    "}\n",
    "my_pd = pd.DataFrame(data)\n",
    "print(my_pd)"
   ]
  },
  {
   "cell_type": "markdown",
   "id": "8e041ce5",
   "metadata": {},
   "source": [
    "Each (key,value) item in the dataframe correspond to a value in ``data``. To get the keys of the dataframe, type:"
   ]
  },
  {
   "cell_type": "code",
   "execution_count": 3,
   "id": "fb8d9c69",
   "metadata": {},
   "outputs": [
    {
     "data": {
      "text/plain": [
       "Index(['temperature', 'precipitation'], dtype='object')"
      ]
     },
     "execution_count": 3,
     "metadata": {},
     "output_type": "execute_result"
    }
   ],
   "source": [
    "my_pd.keys()"
   ]
  },
  {
   "cell_type": "markdown",
   "id": "ff7935a4",
   "metadata": {},
   "source": [
    "get a specific ``Series`` (different from the array)"
   ]
  },
  {
   "cell_type": "code",
   "execution_count": 4,
   "id": "c5d734fd",
   "metadata": {},
   "outputs": [
    {
     "name": "stdout",
     "output_type": "stream",
     "text": [
      "0    36\n",
      "1    37\n",
      "2    30\n",
      "3    50\n",
      "Name: temperature, dtype: int64\n",
      "<class 'pandas.core.series.Series'>\n"
     ]
    }
   ],
   "source": [
    "print(my_pd.temperature[:])\n",
    "print(type(my_pd.temperature[:]))"
   ]
  },
  {
   "cell_type": "markdown",
   "id": "1f5f2426",
   "metadata": {},
   "source": [
    "to get the _value_ of a specific key (e.g., temperature), at a specific index (e.g., 2) type:"
   ]
  },
  {
   "cell_type": "code",
   "execution_count": 5,
   "id": "2ab0ad9d",
   "metadata": {},
   "outputs": [
    {
     "name": "stdout",
     "output_type": "stream",
     "text": [
      "30\n",
      "<class 'numpy.int64'>\n"
     ]
    }
   ],
   "source": [
    "print(my_pd.temperature[2])\n",
    "print(type(my_pd.temperature[2]))"
   ]
  },
  {
   "cell_type": "markdown",
   "id": "9fca0cf5",
   "metadata": {},
   "source": [
    "# Reading a DataFrame from a CSV file\n",
    "\n",
    "We can read a pandas directly from a standard file. Here you will read a catatalog of earthquakes."
   ]
  },
  {
   "cell_type": "code",
   "execution_count": 6,
   "id": "f029ed84",
   "metadata": {},
   "outputs": [],
   "source": [
    "quake = pd.read_csv(\"Global_Quakes_IRIS.csv\")"
   ]
  },
  {
   "cell_type": "markdown",
   "id": "62e31c2c",
   "metadata": {},
   "source": [
    "Now you use the ``head`` function to display what is in the file"
   ]
  },
  {
   "cell_type": "code",
   "execution_count": 7,
   "id": "ed565400",
   "metadata": {},
   "outputs": [
    {
     "data": {
      "text/html": [
       "<div>\n",
       "<style scoped>\n",
       "    .dataframe tbody tr th:only-of-type {\n",
       "        vertical-align: middle;\n",
       "    }\n",
       "\n",
       "    .dataframe tbody tr th {\n",
       "        vertical-align: top;\n",
       "    }\n",
       "\n",
       "    .dataframe thead th {\n",
       "        text-align: right;\n",
       "    }\n",
       "</style>\n",
       "<table border=\"1\" class=\"dataframe\">\n",
       "  <thead>\n",
       "    <tr style=\"text-align: right;\">\n",
       "      <th></th>\n",
       "      <th>time</th>\n",
       "      <th>latitude</th>\n",
       "      <th>longitude</th>\n",
       "      <th>depth</th>\n",
       "      <th>magnitude</th>\n",
       "      <th>description</th>\n",
       "    </tr>\n",
       "  </thead>\n",
       "  <tbody>\n",
       "    <tr>\n",
       "      <th>0</th>\n",
       "      <td>2010-07-02 06:04:03.570</td>\n",
       "      <td>-13.6098</td>\n",
       "      <td>166.6541</td>\n",
       "      <td>34400.0</td>\n",
       "      <td>6.3</td>\n",
       "      <td>VANUATU ISLANDS</td>\n",
       "    </tr>\n",
       "    <tr>\n",
       "      <th>1</th>\n",
       "      <td>2010-07-04 21:55:52.370</td>\n",
       "      <td>39.6611</td>\n",
       "      <td>142.5792</td>\n",
       "      <td>30100.0</td>\n",
       "      <td>6.3</td>\n",
       "      <td>NEAR EAST COAST OF HONSHU</td>\n",
       "    </tr>\n",
       "    <tr>\n",
       "      <th>2</th>\n",
       "      <td>2010-07-10 11:43:33.000</td>\n",
       "      <td>11.1664</td>\n",
       "      <td>146.0823</td>\n",
       "      <td>16900.0</td>\n",
       "      <td>6.3</td>\n",
       "      <td>SOUTH OF MARIANA ISLANDS</td>\n",
       "    </tr>\n",
       "    <tr>\n",
       "      <th>3</th>\n",
       "      <td>2010-07-12 00:11:20.060</td>\n",
       "      <td>-22.2789</td>\n",
       "      <td>-68.3159</td>\n",
       "      <td>109400.0</td>\n",
       "      <td>6.2</td>\n",
       "      <td>NORTHERN CHILE</td>\n",
       "    </tr>\n",
       "    <tr>\n",
       "      <th>4</th>\n",
       "      <td>2010-07-14 08:32:21.850</td>\n",
       "      <td>-38.0635</td>\n",
       "      <td>-73.4649</td>\n",
       "      <td>25700.0</td>\n",
       "      <td>6.6</td>\n",
       "      <td>NEAR COAST OF CENTRAL CHILE</td>\n",
       "    </tr>\n",
       "  </tbody>\n",
       "</table>\n",
       "</div>"
      ],
      "text/plain": [
       "                      time  latitude  longitude     depth  magnitude  \\\n",
       "0  2010-07-02 06:04:03.570  -13.6098   166.6541   34400.0        6.3   \n",
       "1  2010-07-04 21:55:52.370   39.6611   142.5792   30100.0        6.3   \n",
       "2  2010-07-10 11:43:33.000   11.1664   146.0823   16900.0        6.3   \n",
       "3  2010-07-12 00:11:20.060  -22.2789   -68.3159  109400.0        6.2   \n",
       "4  2010-07-14 08:32:21.850  -38.0635   -73.4649   25700.0        6.6   \n",
       "\n",
       "                   description  \n",
       "0              VANUATU ISLANDS  \n",
       "1    NEAR EAST COAST OF HONSHU  \n",
       "2     SOUTH OF MARIANA ISLANDS  \n",
       "3               NORTHERN CHILE  \n",
       "4  NEAR COAST OF CENTRAL CHILE  "
      ]
     },
     "execution_count": 7,
     "metadata": {},
     "output_type": "execute_result"
    }
   ],
   "source": [
    "# enter answer here\n",
    "quake.head()"
   ]
  },
  {
   "cell_type": "markdown",
   "id": "73bfcd15",
   "metadata": {},
   "source": [
    "Display the depth using two ways to use the pandas object"
   ]
  },
  {
   "cell_type": "code",
   "execution_count": 8,
   "id": "9b01ce51",
   "metadata": {},
   "outputs": [
    {
     "name": "stdout",
     "output_type": "stream",
     "text": [
      "0        34400.0\n",
      "1        30100.0\n",
      "2        16900.0\n",
      "3       109400.0\n",
      "4        25700.0\n",
      "          ...   \n",
      "1780     10000.0\n",
      "1781    105000.0\n",
      "1782    608510.0\n",
      "1783     10000.0\n",
      "1784     35440.0\n",
      "Name: depth, Length: 1785, dtype: float64\n",
      "0        34400.0\n",
      "1        30100.0\n",
      "2        16900.0\n",
      "3       109400.0\n",
      "4        25700.0\n",
      "          ...   \n",
      "1780     10000.0\n",
      "1781    105000.0\n",
      "1782    608510.0\n",
      "1783     10000.0\n",
      "1784     35440.0\n",
      "Name: depth, Length: 1785, dtype: float64\n"
     ]
    }
   ],
   "source": [
    "print(quake.depth)\n",
    "print(quake['depth'])"
   ]
  },
  {
   "cell_type": "markdown",
   "id": "9c623644",
   "metadata": {},
   "source": [
    "Calculate basic statitics of the data using the function ``describe``."
   ]
  },
  {
   "cell_type": "code",
   "execution_count": 9,
   "id": "2b9f083e",
   "metadata": {},
   "outputs": [
    {
     "data": {
      "text/html": [
       "<div>\n",
       "<style scoped>\n",
       "    .dataframe tbody tr th:only-of-type {\n",
       "        vertical-align: middle;\n",
       "    }\n",
       "\n",
       "    .dataframe tbody tr th {\n",
       "        vertical-align: top;\n",
       "    }\n",
       "\n",
       "    .dataframe thead th {\n",
       "        text-align: right;\n",
       "    }\n",
       "</style>\n",
       "<table border=\"1\" class=\"dataframe\">\n",
       "  <thead>\n",
       "    <tr style=\"text-align: right;\">\n",
       "      <th></th>\n",
       "      <th>latitude</th>\n",
       "      <th>longitude</th>\n",
       "      <th>depth</th>\n",
       "      <th>magnitude</th>\n",
       "    </tr>\n",
       "  </thead>\n",
       "  <tbody>\n",
       "    <tr>\n",
       "      <th>count</th>\n",
       "      <td>1785.000000</td>\n",
       "      <td>1785.000000</td>\n",
       "      <td>1785.000000</td>\n",
       "      <td>1785.000000</td>\n",
       "    </tr>\n",
       "    <tr>\n",
       "      <th>mean</th>\n",
       "      <td>0.840700</td>\n",
       "      <td>40.608674</td>\n",
       "      <td>82773.187675</td>\n",
       "      <td>6.382403</td>\n",
       "    </tr>\n",
       "    <tr>\n",
       "      <th>std</th>\n",
       "      <td>30.579308</td>\n",
       "      <td>125.558363</td>\n",
       "      <td>146988.302031</td>\n",
       "      <td>0.429012</td>\n",
       "    </tr>\n",
       "    <tr>\n",
       "      <th>min</th>\n",
       "      <td>-69.782500</td>\n",
       "      <td>-179.957200</td>\n",
       "      <td>0.000000</td>\n",
       "      <td>6.000000</td>\n",
       "    </tr>\n",
       "    <tr>\n",
       "      <th>25%</th>\n",
       "      <td>-19.905100</td>\n",
       "      <td>-73.832200</td>\n",
       "      <td>12000.000000</td>\n",
       "      <td>6.100000</td>\n",
       "    </tr>\n",
       "    <tr>\n",
       "      <th>50%</th>\n",
       "      <td>-4.478900</td>\n",
       "      <td>113.077800</td>\n",
       "      <td>24400.000000</td>\n",
       "      <td>6.300000</td>\n",
       "    </tr>\n",
       "    <tr>\n",
       "      <th>75%</th>\n",
       "      <td>27.161700</td>\n",
       "      <td>145.305700</td>\n",
       "      <td>58000.000000</td>\n",
       "      <td>6.600000</td>\n",
       "    </tr>\n",
       "    <tr>\n",
       "      <th>max</th>\n",
       "      <td>74.391800</td>\n",
       "      <td>179.998100</td>\n",
       "      <td>685500.000000</td>\n",
       "      <td>9.100000</td>\n",
       "    </tr>\n",
       "  </tbody>\n",
       "</table>\n",
       "</div>"
      ],
      "text/plain": [
       "          latitude    longitude          depth    magnitude\n",
       "count  1785.000000  1785.000000    1785.000000  1785.000000\n",
       "mean      0.840700    40.608674   82773.187675     6.382403\n",
       "std      30.579308   125.558363  146988.302031     0.429012\n",
       "min     -69.782500  -179.957200       0.000000     6.000000\n",
       "25%     -19.905100   -73.832200   12000.000000     6.100000\n",
       "50%      -4.478900   113.077800   24400.000000     6.300000\n",
       "75%      27.161700   145.305700   58000.000000     6.600000\n",
       "max      74.391800   179.998100  685500.000000     9.100000"
      ]
     },
     "execution_count": 9,
     "metadata": {},
     "output_type": "execute_result"
    }
   ],
   "source": [
    "quake.describe()"
   ]
  },
  {
   "cell_type": "markdown",
   "id": "8b54218c",
   "metadata": {},
   "source": [
    "Calculate mean and median of specific ``Series``, for example depth."
   ]
  },
  {
   "cell_type": "code",
   "execution_count": 10,
   "id": "83f21ca3",
   "metadata": {},
   "outputs": [
    {
     "name": "stdout",
     "output_type": "stream",
     "text": [
      "82773.18767507003\n",
      "24400.0\n"
     ]
    }
   ],
   "source": [
    "# answer it here\n",
    "print(quake.depth.mean())\n",
    "print(quake.depth.median())\n"
   ]
  },
  {
   "cell_type": "markdown",
   "id": "591f8d33",
   "metadata": {},
   "source": [
    "## Simple Python Functions\n",
    "We will now practice how to modify the content of the DataFrame using functions. We will take the example that we want to change the depth values from meters to kilometers. First we can define this operation as a function"
   ]
  },
  {
   "cell_type": "code",
   "execution_count": 11,
   "id": "5b4f94b4",
   "metadata": {},
   "outputs": [],
   "source": [
    "# this function converts a value in meters to a value in kilometers\n",
    "m2km = 1000 # this is defined as a global variable\n",
    "def meters2kilometers(x):\n",
    "    return x/m2km\n"
   ]
  },
  {
   "cell_type": "code",
   "execution_count": 12,
   "id": "16cb70b9",
   "metadata": {},
   "outputs": [
    {
     "data": {
      "text/plain": [
       "34.4"
      ]
     },
     "execution_count": 12,
     "metadata": {},
     "output_type": "execute_result"
    }
   ],
   "source": [
    "# now test it using the first element of the quake DataFrame\n",
    "meters2kilometers(quake.depth[0])"
   ]
  },
  {
   "cell_type": "markdown",
   "id": "aa52810b",
   "metadata": {},
   "source": [
    "Let's define another function that uses a local instead of global variable"
   ]
  },
  {
   "cell_type": "code",
   "execution_count": 13,
   "id": "d8e21ea1",
   "metadata": {},
   "outputs": [],
   "source": [
    "def meters2kilometers2(x):\n",
    "    m2km2=1000\n",
    "    return x/m2km2\n",
    "# m2km2 is a local variable and cannot be called outside of the function. Prove it next by inquiring its value in the next cell."
   ]
  },
  {
   "cell_type": "markdown",
   "id": "f6db26f1",
   "metadata": {},
   "source": [
    "We now discuss the **lambda** functions."
   ]
  },
  {
   "cell_type": "code",
   "execution_count": 14,
   "id": "a2713d55",
   "metadata": {},
   "outputs": [
    {
     "data": {
      "text/plain": [
       "0        34.40\n",
       "1        30.10\n",
       "2        16.90\n",
       "3       109.40\n",
       "4        25.70\n",
       "         ...  \n",
       "1780     10.00\n",
       "1781    105.00\n",
       "1782    608.51\n",
       "1783     10.00\n",
       "1784     35.44\n",
       "Name: depth, Length: 1785, dtype: float64"
      ]
     },
     "execution_count": 14,
     "metadata": {},
     "output_type": "execute_result"
    }
   ],
   "source": [
    "# now we apply it on the entire Series\n",
    "meters2kilometers(quake.depth)"
   ]
  },
  {
   "cell_type": "markdown",
   "id": "5b296ab5",
   "metadata": {},
   "source": [
    "We can also define this very basic function as a **lambda** function. There are several ways of doing an operation on all rows of a column. The first option is to use the map function.\n",
    "\n",
    "If you are not familiar with lambda function in Python, please read additional tutorials [here](!https://realpython.com/python-lambda/).\n",
    "\n",
    "We will practice a bit lambda functions"
   ]
  },
  {
   "cell_type": "code",
   "execution_count": 15,
   "id": "cbb26a36",
   "metadata": {},
   "outputs": [],
   "source": [
    "# Now the equivalent in lambda is:\n",
    "lambda_meters2kilometers = lambda x:x/1000\n",
    "# x is the variable"
   ]
  },
  {
   "cell_type": "code",
   "execution_count": 16,
   "id": "7d94f6a8",
   "metadata": {},
   "outputs": [
    {
     "data": {
      "text/plain": [
       "0        34.40\n",
       "1        30.10\n",
       "2        16.90\n",
       "3       109.40\n",
       "4        25.70\n",
       "         ...  \n",
       "1780     10.00\n",
       "1781    105.00\n",
       "1782    608.51\n",
       "1783     10.00\n",
       "1784     35.44\n",
       "Name: depth, Length: 1785, dtype: float64"
      ]
     },
     "execution_count": 16,
     "metadata": {},
     "output_type": "execute_result"
    }
   ],
   "source": [
    "# apply it to the entire series\n",
    "lambda_meters2kilometers(quake.depth)"
   ]
  },
  {
   "cell_type": "code",
   "execution_count": 17,
   "id": "caad68a3",
   "metadata": {},
   "outputs": [
    {
     "data": {
      "text/plain": [
       "1"
      ]
     },
     "execution_count": 17,
     "metadata": {},
     "output_type": "execute_result"
    }
   ],
   "source": [
    "# you can add several variables into lambda functions\n",
    "remove_anything = lambda x,y:x-y\n",
    "remove_anything(3,2)"
   ]
  },
  {
   "cell_type": "markdown",
   "id": "a6da00e2",
   "metadata": {},
   "source": [
    "This did not affect the values of the DataFrame, check it:"
   ]
  },
  {
   "cell_type": "code",
   "execution_count": 18,
   "id": "40367bfb",
   "metadata": {},
   "outputs": [
    {
     "data": {
      "text/plain": [
       "0        34400.0\n",
       "1        30100.0\n",
       "2        16900.0\n",
       "3       109400.0\n",
       "4        25700.0\n",
       "          ...   \n",
       "1780     10000.0\n",
       "1781    105000.0\n",
       "1782    608510.0\n",
       "1783     10000.0\n",
       "1784     35440.0\n",
       "Name: depth, Length: 1785, dtype: float64"
      ]
     },
     "execution_count": 18,
     "metadata": {},
     "output_type": "execute_result"
    }
   ],
   "source": [
    "quake.depth"
   ]
  },
  {
   "cell_type": "markdown",
   "id": "6347a1ec",
   "metadata": {},
   "source": [
    "Instead, you could overwrite ``quake.depth=X``. Try two approaches but just do it once!"
   ]
  },
  {
   "cell_type": "markdown",
   "id": "ade5723d",
   "metadata": {},
   "source": [
    "```{admonition} student response\n",
    "Student response section:\n",
    "```"
   ]
  },
  {
   "cell_type": "code",
   "execution_count": 19,
   "id": "8a1da18f",
   "metadata": {},
   "outputs": [],
   "source": [
    "#type answer below\n",
    "quake.depth=quake.depth.map(lambda x:x/1000)"
   ]
  },
  {
   "cell_type": "code",
   "execution_count": 20,
   "id": "ec3420af",
   "metadata": {},
   "outputs": [],
   "source": [
    "# or like this\n",
    "quake.depth=quake.depth.apply(lambda x:x/1000)"
   ]
  },
  {
   "cell_type": "markdown",
   "id": "fa66b4e8",
   "metadata": {},
   "source": [
    "Plot a histogram of the depth distributions using matplotlib function ``hist``."
   ]
  },
  {
   "cell_type": "code",
   "execution_count": 21,
   "id": "ae368fd4",
   "metadata": {},
   "outputs": [
    {
     "ename": "NameError",
     "evalue": "name 'plt' is not defined",
     "output_type": "error",
     "traceback": [
      "\u001b[1;31m---------------------------------------------------------------------------\u001b[0m",
      "\u001b[1;31mNameError\u001b[0m                                 Traceback (most recent call last)",
      "Input \u001b[1;32mIn [21]\u001b[0m, in \u001b[0;36m<cell line: 2>\u001b[1;34m()\u001b[0m\n\u001b[0;32m      1\u001b[0m \u001b[38;5;66;03m# answer here\u001b[39;00m\n\u001b[1;32m----> 2\u001b[0m \u001b[43mplt\u001b[49m\u001b[38;5;241m.\u001b[39mhist(quake\u001b[38;5;241m.\u001b[39mdepth,\u001b[38;5;241m100\u001b[39m)\n\u001b[0;32m      3\u001b[0m plt\u001b[38;5;241m.\u001b[39mgrid(\u001b[38;5;28;01mTrue\u001b[39;00m)\n\u001b[0;32m      4\u001b[0m plt\u001b[38;5;241m.\u001b[39mxlabel(\u001b[38;5;124m'\u001b[39m\u001b[38;5;124mQuake depth (km)\u001b[39m\u001b[38;5;124m'\u001b[39m)\n",
      "\u001b[1;31mNameError\u001b[0m: name 'plt' is not defined"
     ]
    }
   ],
   "source": [
    "# answer here\n",
    "plt.hist(quake.depth,100)\n",
    "plt.grid(True)\n",
    "plt.xlabel('Quake depth (km)')\n",
    "plt.show()"
   ]
  },
  {
   "cell_type": "markdown",
   "id": "8bb58e3c",
   "metadata": {},
   "source": [
    "You can use the interactive plotting package Plotly. First we will show a histogram of the event depth using the function ``histogram``"
   ]
  },
  {
   "cell_type": "code",
   "execution_count": 25,
   "id": "5f07dc52",
   "metadata": {
    "scrolled": false
   },
   "outputs": [
    {
     "data": {
      "application/vnd.plotly.v1+json": {
       "config": {
        "plotlyServerURL": "https://plot.ly"
       },
       "data": [
        {
         "alignmentgroup": "True",
         "bingroup": "x",
         "hovertemplate": "depth=%{x}<br>count=%{y}<extra></extra>",
         "legendgroup": "",
         "marker": {
          "color": "#636efa",
          "pattern": {
           "shape": ""
          }
         },
         "name": "",
         "nbinsx": 50,
         "offsetgroup": "",
         "orientation": "v",
         "showlegend": false,
         "type": "histogram",
         "x": [
          0.0344,
          0.030100000000000002,
          0.0169,
          0.10940000000000001,
          0.0257,
          0.0215,
          0.0458,
          0.0431,
          0.0356,
          0.041100000000000005,
          0.1119,
          0.6102000000000001,
          0.5847,
          0.6337,
          0.5647000000000001,
          0.6157999999999999,
          0.0303,
          0.0506,
          0.21969999999999998,
          0.033299999999999996,
          0.046,
          0.032,
          0.0335,
          0.2065,
          0.016399999999999998,
          0.0216,
          0.028399999999999998,
          0.18080000000000002,
          0.0147,
          0.6008,
          0.0183,
          0.0235,
          0.0332,
          0.03,
          0.0458,
          0.004,
          0.0649,
          0.0147,
          0.05,
          0.018600000000000002,
          0.2154,
          0.020399999999999998,
          0.0183,
          0.0205,
          0.032799999999999996,
          0.024399999999999998,
          0.0324,
          0.1408,
          0.013900000000000001,
          0.02,
          0.022600000000000002,
          0.01,
          0.0246,
          0.033100000000000004,
          0.015300000000000001,
          0.0228,
          0.073,
          0.485,
          0.015,
          0.030699999999999998,
          0.029,
          0.1448,
          0.1404,
          0.0145,
          0.013800000000000002,
          0.0319,
          0.0264,
          0.01,
          0.0157,
          0.5509,
          0.0349,
          0.5842999999999999,
          0.024399999999999998,
          0.1232,
          0.0207,
          0.03,
          0.5245,
          0.0148,
          0.0297,
          0.0391,
          0.0237,
          0.0799,
          0.1019,
          0.0238,
          0.0185,
          0.0064,
          0.0693,
          0.0865,
          0.4148,
          0.5327999999999999,
          0.5312,
          0.0128,
          0.0165,
          0.01,
          0.0859,
          0.017,
          0.0268,
          0.0391,
          0.5518,
          0.0048,
          0.1306,
          0.0038,
          0.1145,
          0.092,
          0.1012,
          0.0441,
          0.026199999999999998,
          0.025,
          0.0294,
          0.0147,
          0.051,
          0.5186000000000001,
          0.0197,
          0.033,
          0.035,
          0.035,
          0.0095,
          0.014,
          0.0195,
          0.0292,
          0.02,
          0.026,
          0.035,
          0.0282,
          0.035,
          0.0254,
          0.023,
          0.023,
          0.023,
          0.023100000000000002,
          0.0198,
          0.035,
          0.035,
          0.009,
          0.014,
          0.035,
          0.0334,
          0.03,
          0.0247,
          0.028399999999999998,
          0.0253,
          0.0338,
          0.027100000000000003,
          0.0346,
          0.0246,
          0.026,
          0.024,
          0.023,
          0.0291,
          0.004200000000000001,
          0.0281,
          0.0189,
          0.0192,
          0.019,
          0.0146,
          0.0242,
          0.033,
          0.0112,
          0.0147,
          0.0248,
          0.0338,
          0.024,
          0.0188,
          0.030899999999999997,
          0.0149,
          0.0229,
          0.0275,
          0.037700000000000004,
          0.0399,
          0.016399999999999998,
          0.028399999999999998,
          0.0192,
          0.0128,
          0.039,
          0.022,
          0.0198,
          0.0198,
          0.019399999999999997,
          0.0417,
          0.0755,
          0.5472,
          0.0319,
          0.1651,
          0.053200000000000004,
          0.026199999999999998,
          0.013300000000000001,
          0.0167,
          0.0162,
          0.09809999999999999,
          0.0434,
          0.0856,
          0.0317,
          0.028300000000000002,
          0.01,
          0.0197,
          0.0334,
          0.0768,
          0.0386,
          0.2076,
          0.0189,
          0.0469,
          0.01,
          0.019600000000000003,
          0.0144,
          0.0087,
          0.066,
          0.0269,
          0.1262,
          0.018699999999999998,
          0.032100000000000004,
          0.0498,
          0.0498,
          0.0253,
          0.0254,
          0.0238,
          0.0247,
          0.0216,
          0.0086,
          0.0205,
          0.0409,
          0.0195,
          0.0308,
          0.045899999999999996,
          0.041100000000000005,
          0.0297,
          0.017,
          0.5227999999999999,
          0.048100000000000004,
          0.0228,
          0.019600000000000003,
          0.023100000000000002,
          0.0498,
          0.011699999999999999,
          0.038700000000000005,
          0.023100000000000002,
          0.4059,
          0.048600000000000004,
          0.0346,
          0.0315,
          0.0315,
          0.0334,
          0.14930000000000002,
          0.0189,
          0.4672,
          0.052,
          0.046,
          0.5927,
          0.0963,
          0.1366,
          0.0346,
          0.1066,
          0.015,
          0.0154,
          0.019399999999999997,
          0.042,
          0.024300000000000002,
          0.629,
          0.0297,
          0.0254,
          0.0296,
          0.0127,
          0.0417,
          0.0632,
          0.0432,
          0.013900000000000001,
          0.0298,
          0.189,
          0.0348,
          0.0076,
          0.0101,
          0.606,
          0.029,
          0.03,
          0.01,
          0.1772,
          0.2282,
          0.0064,
          0.024399999999999998,
          0.019600000000000003,
          0.5602999999999999,
          0.0427,
          0.0482,
          0.0432,
          0.0211,
          0.013800000000000002,
          0.0654,
          0.1306,
          0.1674,
          0.1285,
          0.0669,
          0.0128,
          0.35969999999999996,
          0.033299999999999996,
          0.0209,
          0.0173,
          0.023,
          0.0635,
          0.018699999999999998,
          0.0235,
          0.579,
          0.0342,
          0.0273,
          0.0247,
          0.15880000000000002,
          0.0195,
          0.0175,
          0.0126,
          0.5774,
          0.0693,
          0.0172,
          0.013,
          0.0174,
          0.5519,
          0.0337,
          0.0192,
          0.0144,
          0.0197,
          0.0466,
          0.0692,
          0.019399999999999997,
          0.1177,
          0.0282,
          0.01,
          0.0144,
          0.016300000000000002,
          0.09340000000000001,
          0.0263,
          0.01,
          0.0216,
          0.016399999999999998,
          0.027600000000000003,
          0.017,
          0.01,
          0.008400000000000001,
          0.0114,
          0.025,
          0.0297,
          0.2082,
          0.0136,
          0.024399999999999998,
          0.024,
          0.1138,
          0.1325,
          0.0287,
          0.1087,
          0.035,
          0.0177,
          0.0128,
          0.06409999999999999,
          0.019100000000000002,
          0.008199999999999999,
          0.48160000000000003,
          0.5911000000000001,
          0.5394,
          0.015,
          0.0095,
          0.0208,
          0.0058,
          0.1067,
          0.032,
          0.044899999999999995,
          0.0451,
          0.0202,
          0.1019,
          0.016,
          0.0171,
          0.239,
          0.1648,
          0.037700000000000004,
          0.037899999999999996,
          0.0286,
          0.0237,
          0.0162,
          0.0588,
          0.14880000000000002,
          0.0611,
          0.0123,
          0.0087,
          0.0189,
          0.014,
          0.5907,
          0.027899999999999998,
          0.08020000000000001,
          0.09090000000000001,
          0.016,
          0.0111,
          0.0444,
          0.0348,
          0.027,
          0.0207,
          0.032299999999999995,
          0.054,
          0.0233,
          0.0081,
          0.0268,
          0.15519999999999998,
          0.018,
          0.017,
          0.0296,
          0.0121,
          0.0346,
          0.3384,
          0.0435,
          0.0223,
          0.0074,
          0.0050999999999999995,
          0.0095,
          0.0555,
          0.038700000000000005,
          0.011,
          0.1286,
          0.014199999999999999,
          0.018600000000000002,
          0.019,
          0.035,
          0.0615,
          0.0579,
          0.0508,
          0.0229,
          0.025,
          0.04,
          0.0353,
          0.0319,
          0.171,
          0.1615,
          0.0438,
          0.0158,
          0.038799999999999994,
          0.0585,
          0.0464,
          0.1981,
          0.0031,
          0.01,
          0.0246,
          0.0143,
          0.0461,
          0.036,
          0.0222,
          0.0148,
          0.03,
          0.03,
          0.105,
          0.0075,
          0.0238,
          0.034,
          0.0099,
          0.029,
          0.015,
          0.0253,
          0.013699999999999999,
          0.0127,
          0.0224,
          0.1442,
          0.0179,
          0.0357,
          0.0089,
          0.1164,
          0.5856,
          0.0528,
          0.0583,
          0.058,
          0.0289,
          0.052,
          0.03,
          0.011699999999999999,
          0.19369999999999998,
          0.018600000000000002,
          0.0162,
          0.5712999999999999,
          0.0694,
          0.0128,
          0.2693,
          0.0471,
          0.0631,
          0.016300000000000002,
          0.109,
          0.0246,
          0.018,
          0.1139,
          0.032799999999999996,
          0.4313,
          0.0315,
          0.024399999999999998,
          0.3554,
          0.015099999999999999,
          0.21030000000000001,
          0.6117,
          0.0456,
          0.035,
          0.023399999999999997,
          0.045899999999999996,
          0.1777,
          0.15159999999999998,
          0.607,
          0.632,
          0.017,
          0.0536,
          0.0206,
          0.21,
          0.0215,
          0.0414,
          0.025,
          0.0175,
          0.0254,
          0.055200000000000006,
          0.0261,
          0.3871,
          0.0659,
          0.019899999999999998,
          0.013,
          0.016300000000000002,
          0.0050999999999999995,
          0.0032,
          0.168,
          0.141,
          0.017,
          0.029,
          0.10479999999999999,
          0.3414,
          0.0128,
          0.018600000000000002,
          0.013800000000000002,
          0.0109,
          0.0189,
          0.48510000000000003,
          0.030199999999999998,
          0.027600000000000003,
          0.1352,
          0.0025,
          0.4144,
          0.01,
          0.0303,
          0.030199999999999998,
          0.0104,
          0.1894,
          0.0741,
          0.013,
          0.031100000000000003,
          0.5501,
          0.0155,
          0.01,
          0.038200000000000005,
          0.018699999999999998,
          0.0378,
          0.5784,
          0.011,
          0.1184,
          0.012,
          0.01,
          0.1529,
          0.08209999999999999,
          0.0469,
          0.0232,
          0.058,
          0.015,
          0.15769999999999998,
          0.01,
          0.0147,
          0.01,
          0.0119,
          0.0148,
          0.0198,
          0.0085,
          0.0193,
          0.5568,
          0.0605,
          0.01,
          0.024,
          0.0079,
          0.056100000000000004,
          0.5311,
          0.37010000000000004,
          0.0431,
          0.01,
          0.0259,
          0.0216,
          0.0341,
          0.022699999999999998,
          0.1948,
          0.030899999999999997,
          0.0329,
          0.01,
          0.0878,
          0.013800000000000002,
          0.1429,
          0.032600000000000004,
          0.0145,
          0.12459999999999999,
          0.0040999999999999995,
          0.028300000000000002,
          0.2712,
          0.0704,
          0.1189,
          0.033100000000000004,
          0.648,
          0.0060999999999999995,
          0.2694,
          0.01,
          0.016300000000000002,
          0.0834,
          0.01,
          0.0265,
          0.0094,
          0.0053,
          0.0193,
          0.0044,
          0.013900000000000001,
          0.49560000000000004,
          0.1097,
          0.0171,
          0.0108,
          0.0246,
          0.0106,
          0.012,
          0.013,
          0.0193,
          0.071,
          0.0126,
          0.0104,
          0.0578,
          0.0455,
          0.1423,
          0.0475,
          0.015300000000000001,
          0.0342,
          0.036,
          0.01,
          0.01,
          0.0214,
          0.024399999999999998,
          0.04,
          0.039799999999999995,
          0.0325,
          0.009800000000000001,
          0.0394,
          0.1164,
          0.5227999999999999,
          0.6273,
          0.16140000000000002,
          0.0152,
          0.01,
          0.041,
          0.0249,
          0.1723,
          0.0233,
          0.0070999999999999995,
          0.013099999999999999,
          0.0272,
          0.0167,
          0.030100000000000002,
          0.0329,
          0.0451,
          0.008199999999999999,
          0.01,
          0.023100000000000002,
          0.0596,
          0.0208,
          0.0265,
          0.019600000000000003,
          0.1021,
          0.10640000000000001,
          0.10940000000000001,
          0.10590000000000001,
          0.0232,
          0.0598,
          0.015099999999999999,
          0.0119,
          0.026,
          0.026,
          0.5274,
          0.01,
          0.012,
          0.035,
          0.049100000000000005,
          0.02,
          0.02,
          0.053,
          0.1102,
          0.1146,
          0.02,
          0.012,
          0.02,
          0.05,
          0.01,
          0.2273,
          0.2338,
          0.01,
          0.061,
          0.6154,
          0.01,
          0.013699999999999999,
          0.099,
          0.009800000000000001,
          0.012,
          0,
          0.002,
          0.028,
          0.01,
          0.0195,
          0.0506,
          0.055600000000000004,
          0.01,
          0.005,
          0.032,
          0.013,
          0.07,
          0.07440000000000001,
          0.014,
          0.0324,
          0.01,
          0.01,
          0.0399,
          0.1422,
          0.2045,
          0.0197,
          0.10690000000000001,
          0.0579,
          0.0128,
          0.0070999999999999995,
          0.004200000000000001,
          0.0105,
          0.0261,
          0.0639,
          0.0016,
          0.008,
          0.4353,
          0.01,
          0.0074,
          0.053399999999999996,
          0.01,
          0.0107,
          0.047799999999999995,
          0.0345,
          0.012199999999999999,
          0.045200000000000004,
          0.002,
          0.0099,
          0.047700000000000006,
          0.614,
          0.015,
          0.116,
          0.023,
          0,
          0.02,
          0.256,
          0.002,
          0.0313,
          0.071,
          0.01,
          0.0352,
          0.008,
          0.588,
          0.01,
          0.0079,
          0.22390000000000002,
          0.48569999999999997,
          0.016800000000000002,
          0.034,
          0.1727,
          0.2036,
          0.0169,
          0.0305,
          0.0181,
          0.0108,
          0.029,
          0.0134,
          0.013300000000000001,
          0.012199999999999999,
          0.01,
          0.5591,
          0.0335,
          0.013099999999999999,
          0.162,
          0.032100000000000004,
          0.0557,
          0.009699999999999999,
          0.6159,
          0.1271,
          0.041299999999999996,
          0.005900000000000001,
          0.0152,
          0.0158,
          0.0485,
          0.0312,
          0.022600000000000002,
          0.0126,
          0.0281,
          0.0314,
          0.0843,
          0.0508,
          0.0064,
          0.0134,
          0.01,
          0.0147,
          0.0134,
          0.5841000000000001,
          0.054700000000000006,
          0.0636,
          0.045,
          0.0296,
          0.014,
          0.0304,
          0.0123,
          0.013800000000000002,
          0.039299999999999995,
          0.1585,
          0.0178,
          0.1986,
          0.0185,
          0.019600000000000003,
          0.0083,
          0.011699999999999999,
          0.015099999999999999,
          0.06459999999999999,
          0.6855,
          0.037899999999999996,
          0.0103,
          0.0181,
          0.060700000000000004,
          0.12179999999999999,
          0.0431,
          0.6561,
          0.027100000000000003,
          0.0174,
          0.5709,
          0.4723,
          0.044,
          0.019,
          0.0508,
          0.0511,
          0.02,
          0.019399999999999997,
          0.011800000000000001,
          0.027800000000000002,
          0.047799999999999995,
          0.1212,
          0.2723,
          0.02,
          0.011300000000000001,
          0.0154,
          0.0192,
          0.2245,
          0.008,
          0.535,
          0.017,
          0.02,
          0.01,
          0.0415,
          0.04155,
          0.006,
          0.02244,
          0.026699999999999998,
          0.019100000000000002,
          0.035,
          0.02841,
          0.04232,
          0.027,
          0.023,
          0.023,
          0.008,
          0.01,
          0.006,
          0.018,
          0.018,
          0.03,
          0.03,
          0.035,
          0.058,
          0.058,
          0.018,
          0.018,
          0.046,
          0.219,
          0.01,
          0.012,
          0.012,
          0.012,
          0.135,
          0.011,
          0.01,
          0.01,
          0.231,
          0.02,
          0.013,
          0.046,
          0.01,
          0.015,
          0.012,
          0.01,
          0.012,
          0.011,
          0.01259,
          0.082,
          0.58688,
          0.60621,
          0.62056,
          0.60275,
          0.034,
          0.035,
          0.022,
          0.021,
          0.01,
          0.085,
          0.01,
          0.014,
          0.01228,
          0.206,
          0.01,
          0.055,
          0.055,
          0.01,
          0.013,
          0.23881,
          0.58256,
          0.046,
          0.01,
          0.1256,
          0.012,
          0.16322,
          0.01,
          0.391,
          0.023,
          0.03162,
          0.029,
          0.028,
          0.013,
          0.01,
          0.01,
          0.024,
          0.019,
          0.017,
          0.026,
          0.03,
          0.006,
          0.0114,
          0.026,
          0.024,
          0.029,
          0.02759,
          0.212,
          0.136,
          0.017,
          0.009,
          0.008,
          0.016,
          0.02241,
          0.01,
          0.02059,
          0.014,
          0.014,
          0.01,
          0.01,
          0.016,
          0.016,
          0.024,
          0.01,
          0.016,
          0.02995,
          0.01,
          0.56748,
          0.40569,
          0.078,
          0.2464,
          0.05,
          0.42962,
          0.04383,
          0.01,
          0.031,
          0.019,
          0.01,
          0.0304,
          0.111,
          0.013,
          0.015,
          0.01,
          0.354,
          0.013,
          0.027,
          0.008,
          0.021,
          0.012,
          0.167,
          0.072,
          0.014,
          0.20762,
          0.27,
          0.51,
          0.01644,
          0.11409,
          0.01,
          0.01,
          0.01,
          0.01,
          0.5324,
          0.00444,
          0.082,
          0.01,
          0.49906,
          0.019,
          0.013730000000000001,
          0.008,
          0.01,
          0.121,
          0.018,
          0.014,
          0.009,
          0.009,
          0.01,
          0.065,
          0.202,
          0.5963999999999999,
          0.442,
          0.035,
          0.614,
          0.0057,
          0.01,
          0.01,
          0.01,
          0.09079000000000001,
          0.0424,
          0.022,
          0.024,
          0.01399,
          0.0062900000000000005,
          0.009,
          0.11579,
          0.011349999999999999,
          0.01034,
          0.017,
          0.01,
          0.02687,
          0.526,
          0.013,
          0.01208,
          0.041,
          0.01226,
          0.02106,
          0.15705000000000002,
          0.02237,
          0.09454000000000001,
          0.0265,
          0.03911,
          0.01243,
          0.62253,
          0.01133,
          0.152,
          0.035,
          0.038,
          0.079,
          0.55162,
          0.012,
          0.031,
          0.6127100000000001,
          0.02865,
          0.036,
          0.135,
          0.024050000000000002,
          0.015,
          0.222,
          0.5959800000000001,
          0.41489,
          0.017,
          0.037,
          0.01,
          0.008369999999999999,
          0.01,
          0.015519999999999999,
          0.029,
          0.013,
          0.155,
          0.628,
          0.021,
          0.028,
          0.026,
          0.008,
          0.0025299999999999997,
          0.01,
          0.01,
          0.01,
          0.169,
          0.01739,
          0.01,
          0.01,
          0.533,
          0.012,
          0.00819,
          0.012,
          0.094,
          0.034,
          0.511,
          0.04682,
          0.038270000000000005,
          0.019,
          0.41461000000000003,
          0.013,
          0.00696,
          0.01,
          0.03478,
          0.01,
          0.01099,
          0.04492,
          0.01,
          0.007,
          0.012,
          0.01,
          0.009,
          0.02,
          0.172,
          0.031,
          0.01,
          0.544,
          0.008,
          0.04314,
          0,
          0.035,
          0.451,
          0.056670000000000005,
          0.051,
          0.01,
          0.011,
          0.197,
          0.00962,
          0.09806999999999999,
          0.009,
          0.01,
          0.01,
          0.11184000000000001,
          0.08243,
          0.009,
          0.01,
          0.5491900000000001,
          0.0091,
          0.01847,
          0.01,
          0.00993,
          0.01,
          0.01,
          0.11056999999999999,
          0.012,
          0.01,
          0.019,
          0.01936,
          0.008,
          0.004,
          0.01651,
          0.01,
          0.01,
          0.006,
          0.052,
          0.01,
          0.009,
          0.03953,
          0.016,
          0.01279,
          0.02027,
          0.01,
          0.01,
          0.008,
          0.01,
          0.09,
          0.01,
          0.009,
          0.039,
          0.01,
          0.116,
          0.04391,
          0.025,
          0.031,
          0.01117,
          0.01,
          0.01,
          0.19119,
          0.01,
          0.01,
          0.012,
          0.017,
          0.01,
          0.02598,
          0.02443,
          0.02364,
          0.00991,
          0.019,
          0.01,
          0.016,
          0.01,
          0.01,
          0.02253,
          0.033,
          0.01,
          0.169,
          0.03997,
          0.035,
          0.08352,
          0.559,
          0.034,
          0.01759,
          0.07608,
          0.034,
          0.01,
          0.01,
          0.00206,
          0.018,
          0.01,
          0.116,
          0.01,
          0.028,
          0.045,
          0.035,
          0.16916,
          0.01,
          0.01,
          0.03796,
          0.02962,
          0.57748,
          0.014,
          0.031,
          0.0022,
          0.0017,
          0.035,
          0.02,
          0.02,
          0.529,
          0.015,
          0.6,
          0.5757599999999999,
          0.02141,
          0.4156,
          0.02521,
          0.14618,
          0.01114,
          0.01,
          0.04391,
          0.60948,
          0.01,
          0.014,
          0.055,
          0.02668,
          0.035,
          0.61787,
          0.09353,
          0.01,
          0.068,
          0.115,
          0.012,
          0.576,
          0.01,
          0.00519,
          0.01,
          0.56413,
          0.029,
          0.02,
          0.009,
          0.05314,
          0.04505,
          0.121,
          0.02,
          0.461,
          0.01,
          0.01,
          0.010960000000000001,
          0.01,
          0.01,
          0.014,
          0.02469,
          0.01,
          0.22728,
          0.102,
          0.581,
          0.01,
          0.035,
          0.01,
          0.05021,
          0.015,
          0.01,
          0.00884,
          0.54,
          0.01,
          0.018,
          0.046700000000000005,
          0.136,
          0.01,
          0.01,
          0.01,
          0.16466,
          0.01,
          0.06197,
          0.01,
          0.01656,
          0.042,
          0.113,
          0.01,
          0.06021,
          0.031,
          0.5711799999999999,
          0.06,
          0.035,
          0.035,
          0.01,
          0.04506,
          0.05482,
          0.01677,
          0.027010000000000003,
          0.013,
          0.36192,
          0.588,
          0.06793,
          0.02,
          0.018,
          0.14432,
          0.01,
          0.36812,
          0.13236,
          0.267,
          0.029,
          0.03,
          0.57868,
          0.03,
          0.359,
          0.119,
          0.122,
          0.045,
          0.008960000000000001,
          0.041,
          0.018,
          0.01,
          0.0079,
          0.0586,
          0.539,
          0.044829999999999995,
          0.018,
          0.01748,
          0.02,
          0.01,
          0.02,
          0.079,
          0.054,
          0.38558,
          0.01,
          0.01,
          0.146,
          0.022,
          0.019,
          0.01,
          0.02,
          0.01995,
          0.02,
          0.03,
          0.12240000000000001,
          0.025,
          0.17785,
          0.09021,
          0.01,
          0.4303,
          0.011,
          0.013,
          0.046,
          0.03152,
          0.016,
          0.012,
          0.01,
          0.01,
          0.014,
          0.028,
          0.212,
          0.01,
          0.01,
          0.02622,
          0.01,
          0.41,
          0.09709000000000001,
          0.01,
          0.01071,
          0.008,
          0.035,
          0.49517,
          0.251,
          0.01,
          0.01,
          0.05897,
          0.01,
          0.01,
          0.367,
          0.181,
          0.025,
          0.01,
          0.05276,
          0.038,
          0.03688,
          0.01,
          0.115,
          0.016,
          0.00474,
          0.591,
          0.61,
          0.01,
          0.01,
          0.00897,
          0.129,
          0.033,
          0.073,
          0.011,
          0.01276,
          0.231,
          0.01,
          0.01495,
          0.01,
          0.008,
          0.053,
          0.01,
          0.01,
          0.01,
          0.01,
          0.58292,
          0.01,
          0.033,
          0.023,
          0.01416,
          0.48681,
          0.01,
          0.005,
          0.02,
          0.02,
          0.07176,
          0.028,
          0.03244,
          0.266,
          0.01,
          0.00751,
          0.018,
          0.212,
          0.01,
          0.01,
          0.58163,
          0.011,
          0.00638,
          0.01,
          0.017,
          0.00807,
          0.117,
          0.01,
          0.044,
          0.00557,
          0.12172,
          0.093,
          0.01,
          0.01,
          0.017,
          0.021,
          0.015179999999999999,
          0.01,
          0.085,
          0.59242,
          0.04364,
          0.016,
          0.034,
          0.144,
          0.01,
          0.01,
          0.01,
          0.176,
          0.02068,
          0.01,
          0.05539,
          0.059,
          0.01453,
          0.038759999999999996,
          0.01,
          0.031,
          0.01,
          0.453,
          0.038,
          0.01294,
          0.016989999999999998,
          0.107,
          0.46617000000000003,
          0.107,
          0.0027,
          0.01,
          0.01,
          0.186,
          0.09684000000000001,
          0.09047,
          0.10686,
          0.01,
          0.165,
          0.622,
          0.01,
          0.01,
          0.109,
          0.02,
          0.01,
          0.01,
          0.53873,
          0.073,
          0.01,
          0.016,
          0.6052000000000001,
          0.028,
          0.01767,
          0.01,
          0.01,
          0.04126,
          0.4806,
          0.01,
          0.1789,
          0.01,
          0.01755,
          0.01,
          0.022,
          0.026,
          0.62776,
          0.01,
          0.023309999999999997,
          0.023,
          0.022,
          0.01,
          0.01,
          0.023,
          0.01653,
          0.01452,
          0.028239999999999998,
          0.01,
          0.01,
          0.12,
          0.01,
          0.051,
          0.034,
          0.344,
          0.01,
          0.01,
          0.01,
          0.028,
          0.10922,
          0.6339199999999999,
          0.10349,
          0.03108,
          0.454,
          0.021,
          0.01,
          0.01082,
          0.02817,
          0.417,
          0.043,
          0.0195,
          0.589,
          0.189,
          0.023,
          0.01,
          0.105,
          0.07317,
          0.114,
          0.014,
          0.035,
          0.011,
          0.109,
          0.01,
          0.01,
          0.021,
          0.03714,
          0.148,
          0.224,
          0.113,
          0.217,
          0.16,
          0.01,
          0.018,
          0.02,
          0.08,
          0.009800000000000001,
          0.01,
          0.02492,
          0.01,
          0.011,
          0.01,
          0.01,
          0.01,
          0.011689999999999999,
          0.012,
          0.01,
          0.05189,
          0.0055899999999999995,
          0.014,
          0.012,
          0.014,
          0.0024100000000000002,
          0.008,
          0.01548,
          0.1733,
          0.043,
          0.02894,
          0.01,
          0.025,
          0.017,
          0.014,
          0.013,
          0.01,
          0.01,
          0.015,
          0.01,
          0.014,
          0.01,
          0.01323,
          0.008,
          0.008,
          0.01,
          0.043,
          0.02,
          0.595,
          0.01,
          0.01,
          0.018,
          0.067,
          0.3,
          0.009,
          0.009,
          0.301,
          0.246,
          0.01,
          0.034,
          0.01,
          0.047299999999999995,
          0.01,
          0.384,
          0.022,
          0.01,
          0.01,
          0.032,
          0.011,
          0.01,
          0.009,
          0.01,
          0.01,
          0.044,
          0.026,
          0.025,
          0.60072,
          0.01,
          0.00745,
          0.004070000000000002,
          0.01,
          0.01,
          0.11,
          0.01,
          0.01067,
          0.035,
          0.03367,
          0.01,
          0.047229999999999994,
          0.055729999999999995,
          0.035,
          0.035,
          0.01,
          0.02068,
          0.01,
          0.01661,
          0.03352,
          0.093,
          0.028,
          0.0112,
          0.014,
          0.03736,
          0.016,
          0.01,
          0.02,
          0.19338,
          0.035,
          0.0188,
          0.021,
          0.018,
          0.00871,
          0.4012,
          0.364,
          0.527,
          0.01,
          0.01,
          0.535,
          0.03506,
          0.0691,
          0.01,
          0.033,
          0.09648000000000001,
          0.487,
          0.069,
          0.022,
          0.008,
          0.034,
          0.02,
          0.012,
          0.01,
          0.01,
          0.009,
          0.01,
          0.01,
          0.034,
          0.01,
          0.04272,
          0.126,
          0.02207,
          0.01,
          0.01,
          0.01,
          0.01,
          0.149,
          0.007,
          0.01,
          0.01506,
          0.015,
          0.01,
          0.01,
          0.01,
          0.027039999999999998,
          0.01,
          0.63916,
          0.16428,
          0.104,
          0.019,
          0.544,
          0.017,
          0.013,
          0.007,
          0.01,
          0.021,
          0.02232,
          0.01123,
          0.033,
          0.379,
          0.039,
          0.021,
          0.029,
          0.011,
          0.0062,
          0.01,
          0.008,
          0.119,
          0.11,
          0.01,
          0.01,
          0.015,
          0.0696,
          0.535,
          0.014,
          0.251,
          0.004940000000000001,
          0.024,
          0.02,
          0.5818099999999999,
          0.011,
          0.033,
          0.028,
          0.05718,
          0.05985,
          0.021,
          0.04757,
          0.01,
          0.024,
          0.115,
          0.01,
          0.01,
          0.02,
          0.031,
          0.017,
          0.149,
          0.20093,
          0.019,
          0.019,
          0.027,
          0.01,
          0.018,
          0.02702,
          0.01,
          0.22,
          0.01,
          0.129,
          0.60201,
          0.012,
          0.252,
          0.015,
          0.01,
          0.049,
          0.237,
          0.01,
          0.105,
          0.60851,
          0.01,
          0.03544
         ],
         "xaxis": "x",
         "yaxis": "y"
        }
       ],
       "layout": {
        "barmode": "relative",
        "height": 400,
        "legend": {
         "tracegroupgap": 0
        },
        "margin": {
         "t": 60
        },
        "template": {
         "data": {
          "bar": [
           {
            "error_x": {
             "color": "#2a3f5f"
            },
            "error_y": {
             "color": "#2a3f5f"
            },
            "marker": {
             "line": {
              "color": "#E5ECF6",
              "width": 0.5
             },
             "pattern": {
              "fillmode": "overlay",
              "size": 10,
              "solidity": 0.2
             }
            },
            "type": "bar"
           }
          ],
          "barpolar": [
           {
            "marker": {
             "line": {
              "color": "#E5ECF6",
              "width": 0.5
             },
             "pattern": {
              "fillmode": "overlay",
              "size": 10,
              "solidity": 0.2
             }
            },
            "type": "barpolar"
           }
          ],
          "carpet": [
           {
            "aaxis": {
             "endlinecolor": "#2a3f5f",
             "gridcolor": "white",
             "linecolor": "white",
             "minorgridcolor": "white",
             "startlinecolor": "#2a3f5f"
            },
            "baxis": {
             "endlinecolor": "#2a3f5f",
             "gridcolor": "white",
             "linecolor": "white",
             "minorgridcolor": "white",
             "startlinecolor": "#2a3f5f"
            },
            "type": "carpet"
           }
          ],
          "choropleth": [
           {
            "colorbar": {
             "outlinewidth": 0,
             "ticks": ""
            },
            "type": "choropleth"
           }
          ],
          "contour": [
           {
            "colorbar": {
             "outlinewidth": 0,
             "ticks": ""
            },
            "colorscale": [
             [
              0,
              "#0d0887"
             ],
             [
              0.1111111111111111,
              "#46039f"
             ],
             [
              0.2222222222222222,
              "#7201a8"
             ],
             [
              0.3333333333333333,
              "#9c179e"
             ],
             [
              0.4444444444444444,
              "#bd3786"
             ],
             [
              0.5555555555555556,
              "#d8576b"
             ],
             [
              0.6666666666666666,
              "#ed7953"
             ],
             [
              0.7777777777777778,
              "#fb9f3a"
             ],
             [
              0.8888888888888888,
              "#fdca26"
             ],
             [
              1,
              "#f0f921"
             ]
            ],
            "type": "contour"
           }
          ],
          "contourcarpet": [
           {
            "colorbar": {
             "outlinewidth": 0,
             "ticks": ""
            },
            "type": "contourcarpet"
           }
          ],
          "heatmap": [
           {
            "colorbar": {
             "outlinewidth": 0,
             "ticks": ""
            },
            "colorscale": [
             [
              0,
              "#0d0887"
             ],
             [
              0.1111111111111111,
              "#46039f"
             ],
             [
              0.2222222222222222,
              "#7201a8"
             ],
             [
              0.3333333333333333,
              "#9c179e"
             ],
             [
              0.4444444444444444,
              "#bd3786"
             ],
             [
              0.5555555555555556,
              "#d8576b"
             ],
             [
              0.6666666666666666,
              "#ed7953"
             ],
             [
              0.7777777777777778,
              "#fb9f3a"
             ],
             [
              0.8888888888888888,
              "#fdca26"
             ],
             [
              1,
              "#f0f921"
             ]
            ],
            "type": "heatmap"
           }
          ],
          "heatmapgl": [
           {
            "colorbar": {
             "outlinewidth": 0,
             "ticks": ""
            },
            "colorscale": [
             [
              0,
              "#0d0887"
             ],
             [
              0.1111111111111111,
              "#46039f"
             ],
             [
              0.2222222222222222,
              "#7201a8"
             ],
             [
              0.3333333333333333,
              "#9c179e"
             ],
             [
              0.4444444444444444,
              "#bd3786"
             ],
             [
              0.5555555555555556,
              "#d8576b"
             ],
             [
              0.6666666666666666,
              "#ed7953"
             ],
             [
              0.7777777777777778,
              "#fb9f3a"
             ],
             [
              0.8888888888888888,
              "#fdca26"
             ],
             [
              1,
              "#f0f921"
             ]
            ],
            "type": "heatmapgl"
           }
          ],
          "histogram": [
           {
            "marker": {
             "pattern": {
              "fillmode": "overlay",
              "size": 10,
              "solidity": 0.2
             }
            },
            "type": "histogram"
           }
          ],
          "histogram2d": [
           {
            "colorbar": {
             "outlinewidth": 0,
             "ticks": ""
            },
            "colorscale": [
             [
              0,
              "#0d0887"
             ],
             [
              0.1111111111111111,
              "#46039f"
             ],
             [
              0.2222222222222222,
              "#7201a8"
             ],
             [
              0.3333333333333333,
              "#9c179e"
             ],
             [
              0.4444444444444444,
              "#bd3786"
             ],
             [
              0.5555555555555556,
              "#d8576b"
             ],
             [
              0.6666666666666666,
              "#ed7953"
             ],
             [
              0.7777777777777778,
              "#fb9f3a"
             ],
             [
              0.8888888888888888,
              "#fdca26"
             ],
             [
              1,
              "#f0f921"
             ]
            ],
            "type": "histogram2d"
           }
          ],
          "histogram2dcontour": [
           {
            "colorbar": {
             "outlinewidth": 0,
             "ticks": ""
            },
            "colorscale": [
             [
              0,
              "#0d0887"
             ],
             [
              0.1111111111111111,
              "#46039f"
             ],
             [
              0.2222222222222222,
              "#7201a8"
             ],
             [
              0.3333333333333333,
              "#9c179e"
             ],
             [
              0.4444444444444444,
              "#bd3786"
             ],
             [
              0.5555555555555556,
              "#d8576b"
             ],
             [
              0.6666666666666666,
              "#ed7953"
             ],
             [
              0.7777777777777778,
              "#fb9f3a"
             ],
             [
              0.8888888888888888,
              "#fdca26"
             ],
             [
              1,
              "#f0f921"
             ]
            ],
            "type": "histogram2dcontour"
           }
          ],
          "mesh3d": [
           {
            "colorbar": {
             "outlinewidth": 0,
             "ticks": ""
            },
            "type": "mesh3d"
           }
          ],
          "parcoords": [
           {
            "line": {
             "colorbar": {
              "outlinewidth": 0,
              "ticks": ""
             }
            },
            "type": "parcoords"
           }
          ],
          "pie": [
           {
            "automargin": true,
            "type": "pie"
           }
          ],
          "scatter": [
           {
            "marker": {
             "colorbar": {
              "outlinewidth": 0,
              "ticks": ""
             }
            },
            "type": "scatter"
           }
          ],
          "scatter3d": [
           {
            "line": {
             "colorbar": {
              "outlinewidth": 0,
              "ticks": ""
             }
            },
            "marker": {
             "colorbar": {
              "outlinewidth": 0,
              "ticks": ""
             }
            },
            "type": "scatter3d"
           }
          ],
          "scattercarpet": [
           {
            "marker": {
             "colorbar": {
              "outlinewidth": 0,
              "ticks": ""
             }
            },
            "type": "scattercarpet"
           }
          ],
          "scattergeo": [
           {
            "marker": {
             "colorbar": {
              "outlinewidth": 0,
              "ticks": ""
             }
            },
            "type": "scattergeo"
           }
          ],
          "scattergl": [
           {
            "marker": {
             "colorbar": {
              "outlinewidth": 0,
              "ticks": ""
             }
            },
            "type": "scattergl"
           }
          ],
          "scattermapbox": [
           {
            "marker": {
             "colorbar": {
              "outlinewidth": 0,
              "ticks": ""
             }
            },
            "type": "scattermapbox"
           }
          ],
          "scatterpolar": [
           {
            "marker": {
             "colorbar": {
              "outlinewidth": 0,
              "ticks": ""
             }
            },
            "type": "scatterpolar"
           }
          ],
          "scatterpolargl": [
           {
            "marker": {
             "colorbar": {
              "outlinewidth": 0,
              "ticks": ""
             }
            },
            "type": "scatterpolargl"
           }
          ],
          "scatterternary": [
           {
            "marker": {
             "colorbar": {
              "outlinewidth": 0,
              "ticks": ""
             }
            },
            "type": "scatterternary"
           }
          ],
          "surface": [
           {
            "colorbar": {
             "outlinewidth": 0,
             "ticks": ""
            },
            "colorscale": [
             [
              0,
              "#0d0887"
             ],
             [
              0.1111111111111111,
              "#46039f"
             ],
             [
              0.2222222222222222,
              "#7201a8"
             ],
             [
              0.3333333333333333,
              "#9c179e"
             ],
             [
              0.4444444444444444,
              "#bd3786"
             ],
             [
              0.5555555555555556,
              "#d8576b"
             ],
             [
              0.6666666666666666,
              "#ed7953"
             ],
             [
              0.7777777777777778,
              "#fb9f3a"
             ],
             [
              0.8888888888888888,
              "#fdca26"
             ],
             [
              1,
              "#f0f921"
             ]
            ],
            "type": "surface"
           }
          ],
          "table": [
           {
            "cells": {
             "fill": {
              "color": "#EBF0F8"
             },
             "line": {
              "color": "white"
             }
            },
            "header": {
             "fill": {
              "color": "#C8D4E3"
             },
             "line": {
              "color": "white"
             }
            },
            "type": "table"
           }
          ]
         },
         "layout": {
          "annotationdefaults": {
           "arrowcolor": "#2a3f5f",
           "arrowhead": 0,
           "arrowwidth": 1
          },
          "autotypenumbers": "strict",
          "coloraxis": {
           "colorbar": {
            "outlinewidth": 0,
            "ticks": ""
           }
          },
          "colorscale": {
           "diverging": [
            [
             0,
             "#8e0152"
            ],
            [
             0.1,
             "#c51b7d"
            ],
            [
             0.2,
             "#de77ae"
            ],
            [
             0.3,
             "#f1b6da"
            ],
            [
             0.4,
             "#fde0ef"
            ],
            [
             0.5,
             "#f7f7f7"
            ],
            [
             0.6,
             "#e6f5d0"
            ],
            [
             0.7,
             "#b8e186"
            ],
            [
             0.8,
             "#7fbc41"
            ],
            [
             0.9,
             "#4d9221"
            ],
            [
             1,
             "#276419"
            ]
           ],
           "sequential": [
            [
             0,
             "#0d0887"
            ],
            [
             0.1111111111111111,
             "#46039f"
            ],
            [
             0.2222222222222222,
             "#7201a8"
            ],
            [
             0.3333333333333333,
             "#9c179e"
            ],
            [
             0.4444444444444444,
             "#bd3786"
            ],
            [
             0.5555555555555556,
             "#d8576b"
            ],
            [
             0.6666666666666666,
             "#ed7953"
            ],
            [
             0.7777777777777778,
             "#fb9f3a"
            ],
            [
             0.8888888888888888,
             "#fdca26"
            ],
            [
             1,
             "#f0f921"
            ]
           ],
           "sequentialminus": [
            [
             0,
             "#0d0887"
            ],
            [
             0.1111111111111111,
             "#46039f"
            ],
            [
             0.2222222222222222,
             "#7201a8"
            ],
            [
             0.3333333333333333,
             "#9c179e"
            ],
            [
             0.4444444444444444,
             "#bd3786"
            ],
            [
             0.5555555555555556,
             "#d8576b"
            ],
            [
             0.6666666666666666,
             "#ed7953"
            ],
            [
             0.7777777777777778,
             "#fb9f3a"
            ],
            [
             0.8888888888888888,
             "#fdca26"
            ],
            [
             1,
             "#f0f921"
            ]
           ]
          },
          "colorway": [
           "#636efa",
           "#EF553B",
           "#00cc96",
           "#ab63fa",
           "#FFA15A",
           "#19d3f3",
           "#FF6692",
           "#B6E880",
           "#FF97FF",
           "#FECB52"
          ],
          "font": {
           "color": "#2a3f5f"
          },
          "geo": {
           "bgcolor": "white",
           "lakecolor": "white",
           "landcolor": "#E5ECF6",
           "showlakes": true,
           "showland": true,
           "subunitcolor": "white"
          },
          "hoverlabel": {
           "align": "left"
          },
          "hovermode": "closest",
          "mapbox": {
           "style": "light"
          },
          "paper_bgcolor": "white",
          "plot_bgcolor": "#E5ECF6",
          "polar": {
           "angularaxis": {
            "gridcolor": "white",
            "linecolor": "white",
            "ticks": ""
           },
           "bgcolor": "#E5ECF6",
           "radialaxis": {
            "gridcolor": "white",
            "linecolor": "white",
            "ticks": ""
           }
          },
          "scene": {
           "xaxis": {
            "backgroundcolor": "#E5ECF6",
            "gridcolor": "white",
            "gridwidth": 2,
            "linecolor": "white",
            "showbackground": true,
            "ticks": "",
            "zerolinecolor": "white"
           },
           "yaxis": {
            "backgroundcolor": "#E5ECF6",
            "gridcolor": "white",
            "gridwidth": 2,
            "linecolor": "white",
            "showbackground": true,
            "ticks": "",
            "zerolinecolor": "white"
           },
           "zaxis": {
            "backgroundcolor": "#E5ECF6",
            "gridcolor": "white",
            "gridwidth": 2,
            "linecolor": "white",
            "showbackground": true,
            "ticks": "",
            "zerolinecolor": "white"
           }
          },
          "shapedefaults": {
           "line": {
            "color": "#2a3f5f"
           }
          },
          "ternary": {
           "aaxis": {
            "gridcolor": "white",
            "linecolor": "white",
            "ticks": ""
           },
           "baxis": {
            "gridcolor": "white",
            "linecolor": "white",
            "ticks": ""
           },
           "bgcolor": "#E5ECF6",
           "caxis": {
            "gridcolor": "white",
            "linecolor": "white",
            "ticks": ""
           }
          },
          "title": {
           "x": 0.05
          },
          "xaxis": {
           "automargin": true,
           "gridcolor": "white",
           "linecolor": "white",
           "ticks": "",
           "title": {
            "standoff": 15
           },
           "zerolinecolor": "white",
           "zerolinewidth": 2
          },
          "yaxis": {
           "automargin": true,
           "gridcolor": "white",
           "linecolor": "white",
           "ticks": "",
           "title": {
            "standoff": 15
           },
           "zerolinecolor": "white",
           "zerolinewidth": 2
          }
         }
        },
        "width": 600,
        "xaxis": {
         "anchor": "y",
         "domain": [
          0,
          1
         ],
         "title": {
          "text": "depth"
         }
        },
        "yaxis": {
         "anchor": "x",
         "domain": [
          0,
          1
         ],
         "title": {
          "text": "count"
         }
        }
       }
      },
      "text/html": [
       "<div>                            <div id=\"06769925-a628-4f3e-9971-a8210fa7067a\" class=\"plotly-graph-div\" style=\"height:400px; width:600px;\"></div>            <script type=\"text/javascript\">                require([\"plotly\"], function(Plotly) {                    window.PLOTLYENV=window.PLOTLYENV || {};                                    if (document.getElementById(\"06769925-a628-4f3e-9971-a8210fa7067a\")) {                    Plotly.newPlot(                        \"06769925-a628-4f3e-9971-a8210fa7067a\",                        [{\"alignmentgroup\":\"True\",\"bingroup\":\"x\",\"hovertemplate\":\"depth=%{x}<br>count=%{y}<extra></extra>\",\"legendgroup\":\"\",\"marker\":{\"color\":\"#636efa\",\"pattern\":{\"shape\":\"\"}},\"name\":\"\",\"nbinsx\":50,\"offsetgroup\":\"\",\"orientation\":\"v\",\"showlegend\":false,\"x\":[0.0344,0.030100000000000002,0.0169,0.10940000000000001,0.0257,0.0215,0.0458,0.0431,0.0356,0.041100000000000005,0.1119,0.6102000000000001,0.5847,0.6337,0.5647000000000001,0.6157999999999999,0.0303,0.0506,0.21969999999999998,0.033299999999999996,0.046,0.032,0.0335,0.2065,0.016399999999999998,0.0216,0.028399999999999998,0.18080000000000002,0.0147,0.6008,0.0183,0.0235,0.0332,0.03,0.0458,0.004,0.0649,0.0147,0.05,0.018600000000000002,0.2154,0.020399999999999998,0.0183,0.0205,0.032799999999999996,0.024399999999999998,0.0324,0.1408,0.013900000000000001,0.02,0.022600000000000002,0.01,0.0246,0.033100000000000004,0.015300000000000001,0.0228,0.073,0.485,0.015,0.030699999999999998,0.029,0.1448,0.1404,0.0145,0.013800000000000002,0.0319,0.0264,0.01,0.0157,0.5509,0.0349,0.5842999999999999,0.024399999999999998,0.1232,0.0207,0.03,0.5245,0.0148,0.0297,0.0391,0.0237,0.0799,0.1019,0.0238,0.0185,0.0064,0.0693,0.0865,0.4148,0.5327999999999999,0.5312,0.0128,0.0165,0.01,0.0859,0.017,0.0268,0.0391,0.5518,0.0048,0.1306,0.0038,0.1145,0.092,0.1012,0.0441,0.026199999999999998,0.025,0.0294,0.0147,0.051,0.5186000000000001,0.0197,0.033,0.035,0.035,0.0095,0.014,0.0195,0.0292,0.02,0.026,0.035,0.0282,0.035,0.0254,0.023,0.023,0.023,0.023100000000000002,0.0198,0.035,0.035,0.009,0.014,0.035,0.0334,0.03,0.0247,0.028399999999999998,0.0253,0.0338,0.027100000000000003,0.0346,0.0246,0.026,0.024,0.023,0.0291,0.004200000000000001,0.0281,0.0189,0.0192,0.019,0.0146,0.0242,0.033,0.0112,0.0147,0.0248,0.0338,0.024,0.0188,0.030899999999999997,0.0149,0.0229,0.0275,0.037700000000000004,0.0399,0.016399999999999998,0.028399999999999998,0.0192,0.0128,0.039,0.022,0.0198,0.0198,0.019399999999999997,0.0417,0.0755,0.5472,0.0319,0.1651,0.053200000000000004,0.026199999999999998,0.013300000000000001,0.0167,0.0162,0.09809999999999999,0.0434,0.0856,0.0317,0.028300000000000002,0.01,0.0197,0.0334,0.0768,0.0386,0.2076,0.0189,0.0469,0.01,0.019600000000000003,0.0144,0.0087,0.066,0.0269,0.1262,0.018699999999999998,0.032100000000000004,0.0498,0.0498,0.0253,0.0254,0.0238,0.0247,0.0216,0.0086,0.0205,0.0409,0.0195,0.0308,0.045899999999999996,0.041100000000000005,0.0297,0.017,0.5227999999999999,0.048100000000000004,0.0228,0.019600000000000003,0.023100000000000002,0.0498,0.011699999999999999,0.038700000000000005,0.023100000000000002,0.4059,0.048600000000000004,0.0346,0.0315,0.0315,0.0334,0.14930000000000002,0.0189,0.4672,0.052,0.046,0.5927,0.0963,0.1366,0.0346,0.1066,0.015,0.0154,0.019399999999999997,0.042,0.024300000000000002,0.629,0.0297,0.0254,0.0296,0.0127,0.0417,0.0632,0.0432,0.013900000000000001,0.0298,0.189,0.0348,0.0076,0.0101,0.606,0.029,0.03,0.01,0.1772,0.2282,0.0064,0.024399999999999998,0.019600000000000003,0.5602999999999999,0.0427,0.0482,0.0432,0.0211,0.013800000000000002,0.0654,0.1306,0.1674,0.1285,0.0669,0.0128,0.35969999999999996,0.033299999999999996,0.0209,0.0173,0.023,0.0635,0.018699999999999998,0.0235,0.579,0.0342,0.0273,0.0247,0.15880000000000002,0.0195,0.0175,0.0126,0.5774,0.0693,0.0172,0.013,0.0174,0.5519,0.0337,0.0192,0.0144,0.0197,0.0466,0.0692,0.019399999999999997,0.1177,0.0282,0.01,0.0144,0.016300000000000002,0.09340000000000001,0.0263,0.01,0.0216,0.016399999999999998,0.027600000000000003,0.017,0.01,0.008400000000000001,0.0114,0.025,0.0297,0.2082,0.0136,0.024399999999999998,0.024,0.1138,0.1325,0.0287,0.1087,0.035,0.0177,0.0128,0.06409999999999999,0.019100000000000002,0.008199999999999999,0.48160000000000003,0.5911000000000001,0.5394,0.015,0.0095,0.0208,0.0058,0.1067,0.032,0.044899999999999995,0.0451,0.0202,0.1019,0.016,0.0171,0.239,0.1648,0.037700000000000004,0.037899999999999996,0.0286,0.0237,0.0162,0.0588,0.14880000000000002,0.0611,0.0123,0.0087,0.0189,0.014,0.5907,0.027899999999999998,0.08020000000000001,0.09090000000000001,0.016,0.0111,0.0444,0.0348,0.027,0.0207,0.032299999999999995,0.054,0.0233,0.0081,0.0268,0.15519999999999998,0.018,0.017,0.0296,0.0121,0.0346,0.3384,0.0435,0.0223,0.0074,0.0050999999999999995,0.0095,0.0555,0.038700000000000005,0.011,0.1286,0.014199999999999999,0.018600000000000002,0.019,0.035,0.0615,0.0579,0.0508,0.0229,0.025,0.04,0.0353,0.0319,0.171,0.1615,0.0438,0.0158,0.038799999999999994,0.0585,0.0464,0.1981,0.0031,0.01,0.0246,0.0143,0.0461,0.036,0.0222,0.0148,0.03,0.03,0.105,0.0075,0.0238,0.034,0.0099,0.029,0.015,0.0253,0.013699999999999999,0.0127,0.0224,0.1442,0.0179,0.0357,0.0089,0.1164,0.5856,0.0528,0.0583,0.058,0.0289,0.052,0.03,0.011699999999999999,0.19369999999999998,0.018600000000000002,0.0162,0.5712999999999999,0.0694,0.0128,0.2693,0.0471,0.0631,0.016300000000000002,0.109,0.0246,0.018,0.1139,0.032799999999999996,0.4313,0.0315,0.024399999999999998,0.3554,0.015099999999999999,0.21030000000000001,0.6117,0.0456,0.035,0.023399999999999997,0.045899999999999996,0.1777,0.15159999999999998,0.607,0.632,0.017,0.0536,0.0206,0.21,0.0215,0.0414,0.025,0.0175,0.0254,0.055200000000000006,0.0261,0.3871,0.0659,0.019899999999999998,0.013,0.016300000000000002,0.0050999999999999995,0.0032,0.168,0.141,0.017,0.029,0.10479999999999999,0.3414,0.0128,0.018600000000000002,0.013800000000000002,0.0109,0.0189,0.48510000000000003,0.030199999999999998,0.027600000000000003,0.1352,0.0025,0.4144,0.01,0.0303,0.030199999999999998,0.0104,0.1894,0.0741,0.013,0.031100000000000003,0.5501,0.0155,0.01,0.038200000000000005,0.018699999999999998,0.0378,0.5784,0.011,0.1184,0.012,0.01,0.1529,0.08209999999999999,0.0469,0.0232,0.058,0.015,0.15769999999999998,0.01,0.0147,0.01,0.0119,0.0148,0.0198,0.0085,0.0193,0.5568,0.0605,0.01,0.024,0.0079,0.056100000000000004,0.5311,0.37010000000000004,0.0431,0.01,0.0259,0.0216,0.0341,0.022699999999999998,0.1948,0.030899999999999997,0.0329,0.01,0.0878,0.013800000000000002,0.1429,0.032600000000000004,0.0145,0.12459999999999999,0.0040999999999999995,0.028300000000000002,0.2712,0.0704,0.1189,0.033100000000000004,0.648,0.0060999999999999995,0.2694,0.01,0.016300000000000002,0.0834,0.01,0.0265,0.0094,0.0053,0.0193,0.0044,0.013900000000000001,0.49560000000000004,0.1097,0.0171,0.0108,0.0246,0.0106,0.012,0.013,0.0193,0.071,0.0126,0.0104,0.0578,0.0455,0.1423,0.0475,0.015300000000000001,0.0342,0.036,0.01,0.01,0.0214,0.024399999999999998,0.04,0.039799999999999995,0.0325,0.009800000000000001,0.0394,0.1164,0.5227999999999999,0.6273,0.16140000000000002,0.0152,0.01,0.041,0.0249,0.1723,0.0233,0.0070999999999999995,0.013099999999999999,0.0272,0.0167,0.030100000000000002,0.0329,0.0451,0.008199999999999999,0.01,0.023100000000000002,0.0596,0.0208,0.0265,0.019600000000000003,0.1021,0.10640000000000001,0.10940000000000001,0.10590000000000001,0.0232,0.0598,0.015099999999999999,0.0119,0.026,0.026,0.5274,0.01,0.012,0.035,0.049100000000000005,0.02,0.02,0.053,0.1102,0.1146,0.02,0.012,0.02,0.05,0.01,0.2273,0.2338,0.01,0.061,0.6154,0.01,0.013699999999999999,0.099,0.009800000000000001,0.012,0.0,0.002,0.028,0.01,0.0195,0.0506,0.055600000000000004,0.01,0.005,0.032,0.013,0.07,0.07440000000000001,0.014,0.0324,0.01,0.01,0.0399,0.1422,0.2045,0.0197,0.10690000000000001,0.0579,0.0128,0.0070999999999999995,0.004200000000000001,0.0105,0.0261,0.0639,0.0016,0.008,0.4353,0.01,0.0074,0.053399999999999996,0.01,0.0107,0.047799999999999995,0.0345,0.012199999999999999,0.045200000000000004,0.002,0.0099,0.047700000000000006,0.614,0.015,0.116,0.023,0.0,0.02,0.256,0.002,0.0313,0.071,0.01,0.0352,0.008,0.588,0.01,0.0079,0.22390000000000002,0.48569999999999997,0.016800000000000002,0.034,0.1727,0.2036,0.0169,0.0305,0.0181,0.0108,0.029,0.0134,0.013300000000000001,0.012199999999999999,0.01,0.5591,0.0335,0.013099999999999999,0.162,0.032100000000000004,0.0557,0.009699999999999999,0.6159,0.1271,0.041299999999999996,0.005900000000000001,0.0152,0.0158,0.0485,0.0312,0.022600000000000002,0.0126,0.0281,0.0314,0.0843,0.0508,0.0064,0.0134,0.01,0.0147,0.0134,0.5841000000000001,0.054700000000000006,0.0636,0.045,0.0296,0.014,0.0304,0.0123,0.013800000000000002,0.039299999999999995,0.1585,0.0178,0.1986,0.0185,0.019600000000000003,0.0083,0.011699999999999999,0.015099999999999999,0.06459999999999999,0.6855,0.037899999999999996,0.0103,0.0181,0.060700000000000004,0.12179999999999999,0.0431,0.6561,0.027100000000000003,0.0174,0.5709,0.4723,0.044,0.019,0.0508,0.0511,0.02,0.019399999999999997,0.011800000000000001,0.027800000000000002,0.047799999999999995,0.1212,0.2723,0.02,0.011300000000000001,0.0154,0.0192,0.2245,0.008,0.535,0.017,0.02,0.01,0.0415,0.04155,0.006,0.02244,0.026699999999999998,0.019100000000000002,0.035,0.02841,0.04232,0.027,0.023,0.023,0.008,0.01,0.006,0.018,0.018,0.03,0.03,0.035,0.058,0.058,0.018,0.018,0.046,0.219,0.01,0.012,0.012,0.012,0.135,0.011,0.01,0.01,0.231,0.02,0.013,0.046,0.01,0.015,0.012,0.01,0.012,0.011,0.01259,0.082,0.58688,0.60621,0.62056,0.60275,0.034,0.035,0.022,0.021,0.01,0.085,0.01,0.014,0.01228,0.206,0.01,0.055,0.055,0.01,0.013,0.23881,0.58256,0.046,0.01,0.1256,0.012,0.16322,0.01,0.391,0.023,0.03162,0.029,0.028,0.013,0.01,0.01,0.024,0.019,0.017,0.026,0.03,0.006,0.0114,0.026,0.024,0.029,0.02759,0.212,0.136,0.017,0.009,0.008,0.016,0.02241,0.01,0.02059,0.014,0.014,0.01,0.01,0.016,0.016,0.024,0.01,0.016,0.02995,0.01,0.56748,0.40569,0.078,0.2464,0.05,0.42962,0.04383,0.01,0.031,0.019,0.01,0.0304,0.111,0.013,0.015,0.01,0.354,0.013,0.027,0.008,0.021,0.012,0.167,0.072,0.014,0.20762,0.27,0.51,0.01644,0.11409,0.01,0.01,0.01,0.01,0.5324,0.00444,0.082,0.01,0.49906,0.019,0.013730000000000001,0.008,0.01,0.121,0.018,0.014,0.009,0.009,0.01,0.065,0.202,0.5963999999999999,0.442,0.035,0.614,0.0057,0.01,0.01,0.01,0.09079000000000001,0.0424,0.022,0.024,0.01399,0.0062900000000000005,0.009,0.11579,0.011349999999999999,0.01034,0.017,0.01,0.02687,0.526,0.013,0.01208,0.041,0.01226,0.02106,0.15705000000000002,0.02237,0.09454000000000001,0.0265,0.03911,0.01243,0.62253,0.01133,0.152,0.035,0.038,0.079,0.55162,0.012,0.031,0.6127100000000001,0.02865,0.036,0.135,0.024050000000000002,0.015,0.222,0.5959800000000001,0.41489,0.017,0.037,0.01,0.008369999999999999,0.01,0.015519999999999999,0.029,0.013,0.155,0.628,0.021,0.028,0.026,0.008,0.0025299999999999997,0.01,0.01,0.01,0.169,0.01739,0.01,0.01,0.533,0.012,0.00819,0.012,0.094,0.034,0.511,0.04682,0.038270000000000005,0.019,0.41461000000000003,0.013,0.00696,0.01,0.03478,0.01,0.01099,0.04492,0.01,0.007,0.012,0.01,0.009,0.02,0.172,0.031,0.01,0.544,0.008,0.04314,0.0,0.035,0.451,0.056670000000000005,0.051,0.01,0.011,0.197,0.00962,0.09806999999999999,0.009,0.01,0.01,0.11184000000000001,0.08243,0.009,0.01,0.5491900000000001,0.0091,0.01847,0.01,0.00993,0.01,0.01,0.11056999999999999,0.012,0.01,0.019,0.01936,0.008,0.004,0.01651,0.01,0.01,0.006,0.052,0.01,0.009,0.03953,0.016,0.01279,0.02027,0.01,0.01,0.008,0.01,0.09,0.01,0.009,0.039,0.01,0.116,0.04391,0.025,0.031,0.01117,0.01,0.01,0.19119,0.01,0.01,0.012,0.017,0.01,0.02598,0.02443,0.02364,0.00991,0.019,0.01,0.016,0.01,0.01,0.02253,0.033,0.01,0.169,0.03997,0.035,0.08352,0.559,0.034,0.01759,0.07608,0.034,0.01,0.01,0.00206,0.018,0.01,0.116,0.01,0.028,0.045,0.035,0.16916,0.01,0.01,0.03796,0.02962,0.57748,0.014,0.031,0.0022,0.0017,0.035,0.02,0.02,0.529,0.015,0.6,0.5757599999999999,0.02141,0.4156,0.02521,0.14618,0.01114,0.01,0.04391,0.60948,0.01,0.014,0.055,0.02668,0.035,0.61787,0.09353,0.01,0.068,0.115,0.012,0.576,0.01,0.00519,0.01,0.56413,0.029,0.02,0.009,0.05314,0.04505,0.121,0.02,0.461,0.01,0.01,0.010960000000000001,0.01,0.01,0.014,0.02469,0.01,0.22728,0.102,0.581,0.01,0.035,0.01,0.05021,0.015,0.01,0.00884,0.54,0.01,0.018,0.046700000000000005,0.136,0.01,0.01,0.01,0.16466,0.01,0.06197,0.01,0.01656,0.042,0.113,0.01,0.06021,0.031,0.5711799999999999,0.06,0.035,0.035,0.01,0.04506,0.05482,0.01677,0.027010000000000003,0.013,0.36192,0.588,0.06793,0.02,0.018,0.14432,0.01,0.36812,0.13236,0.267,0.029,0.03,0.57868,0.03,0.359,0.119,0.122,0.045,0.008960000000000001,0.041,0.018,0.01,0.0079,0.0586,0.539,0.044829999999999995,0.018,0.01748,0.02,0.01,0.02,0.079,0.054,0.38558,0.01,0.01,0.146,0.022,0.019,0.01,0.02,0.01995,0.02,0.03,0.12240000000000001,0.025,0.17785,0.09021,0.01,0.4303,0.011,0.013,0.046,0.03152,0.016,0.012,0.01,0.01,0.014,0.028,0.212,0.01,0.01,0.02622,0.01,0.41,0.09709000000000001,0.01,0.01071,0.008,0.035,0.49517,0.251,0.01,0.01,0.05897,0.01,0.01,0.367,0.181,0.025,0.01,0.05276,0.038,0.03688,0.01,0.115,0.016,0.00474,0.591,0.61,0.01,0.01,0.00897,0.129,0.033,0.073,0.011,0.01276,0.231,0.01,0.01495,0.01,0.008,0.053,0.01,0.01,0.01,0.01,0.58292,0.01,0.033,0.023,0.01416,0.48681,0.01,0.005,0.02,0.02,0.07176,0.028,0.03244,0.266,0.01,0.00751,0.018,0.212,0.01,0.01,0.58163,0.011,0.00638,0.01,0.017,0.00807,0.117,0.01,0.044,0.00557,0.12172,0.093,0.01,0.01,0.017,0.021,0.015179999999999999,0.01,0.085,0.59242,0.04364,0.016,0.034,0.144,0.01,0.01,0.01,0.176,0.02068,0.01,0.05539,0.059,0.01453,0.038759999999999996,0.01,0.031,0.01,0.453,0.038,0.01294,0.016989999999999998,0.107,0.46617000000000003,0.107,0.0027,0.01,0.01,0.186,0.09684000000000001,0.09047,0.10686,0.01,0.165,0.622,0.01,0.01,0.109,0.02,0.01,0.01,0.53873,0.073,0.01,0.016,0.6052000000000001,0.028,0.01767,0.01,0.01,0.04126,0.4806,0.01,0.1789,0.01,0.01755,0.01,0.022,0.026,0.62776,0.01,0.023309999999999997,0.023,0.022,0.01,0.01,0.023,0.01653,0.01452,0.028239999999999998,0.01,0.01,0.12,0.01,0.051,0.034,0.344,0.01,0.01,0.01,0.028,0.10922,0.6339199999999999,0.10349,0.03108,0.454,0.021,0.01,0.01082,0.02817,0.417,0.043,0.0195,0.589,0.189,0.023,0.01,0.105,0.07317,0.114,0.014,0.035,0.011,0.109,0.01,0.01,0.021,0.03714,0.148,0.224,0.113,0.217,0.16,0.01,0.018,0.02,0.08,0.009800000000000001,0.01,0.02492,0.01,0.011,0.01,0.01,0.01,0.011689999999999999,0.012,0.01,0.05189,0.0055899999999999995,0.014,0.012,0.014,0.0024100000000000002,0.008,0.01548,0.1733,0.043,0.02894,0.01,0.025,0.017,0.014,0.013,0.01,0.01,0.015,0.01,0.014,0.01,0.01323,0.008,0.008,0.01,0.043,0.02,0.595,0.01,0.01,0.018,0.067,0.3,0.009,0.009,0.301,0.246,0.01,0.034,0.01,0.047299999999999995,0.01,0.384,0.022,0.01,0.01,0.032,0.011,0.01,0.009,0.01,0.01,0.044,0.026,0.025,0.60072,0.01,0.00745,0.004070000000000002,0.01,0.01,0.11,0.01,0.01067,0.035,0.03367,0.01,0.047229999999999994,0.055729999999999995,0.035,0.035,0.01,0.02068,0.01,0.01661,0.03352,0.093,0.028,0.0112,0.014,0.03736,0.016,0.01,0.02,0.19338,0.035,0.0188,0.021,0.018,0.00871,0.4012,0.364,0.527,0.01,0.01,0.535,0.03506,0.0691,0.01,0.033,0.09648000000000001,0.487,0.069,0.022,0.008,0.034,0.02,0.012,0.01,0.01,0.009,0.01,0.01,0.034,0.01,0.04272,0.126,0.02207,0.01,0.01,0.01,0.01,0.149,0.007,0.01,0.01506,0.015,0.01,0.01,0.01,0.027039999999999998,0.01,0.63916,0.16428,0.104,0.019,0.544,0.017,0.013,0.007,0.01,0.021,0.02232,0.01123,0.033,0.379,0.039,0.021,0.029,0.011,0.0062,0.01,0.008,0.119,0.11,0.01,0.01,0.015,0.0696,0.535,0.014,0.251,0.004940000000000001,0.024,0.02,0.5818099999999999,0.011,0.033,0.028,0.05718,0.05985,0.021,0.04757,0.01,0.024,0.115,0.01,0.01,0.02,0.031,0.017,0.149,0.20093,0.019,0.019,0.027,0.01,0.018,0.02702,0.01,0.22,0.01,0.129,0.60201,0.012,0.252,0.015,0.01,0.049,0.237,0.01,0.105,0.60851,0.01,0.03544],\"xaxis\":\"x\",\"yaxis\":\"y\",\"type\":\"histogram\"}],                        {\"template\":{\"data\":{\"bar\":[{\"error_x\":{\"color\":\"#2a3f5f\"},\"error_y\":{\"color\":\"#2a3f5f\"},\"marker\":{\"line\":{\"color\":\"#E5ECF6\",\"width\":0.5},\"pattern\":{\"fillmode\":\"overlay\",\"size\":10,\"solidity\":0.2}},\"type\":\"bar\"}],\"barpolar\":[{\"marker\":{\"line\":{\"color\":\"#E5ECF6\",\"width\":0.5},\"pattern\":{\"fillmode\":\"overlay\",\"size\":10,\"solidity\":0.2}},\"type\":\"barpolar\"}],\"carpet\":[{\"aaxis\":{\"endlinecolor\":\"#2a3f5f\",\"gridcolor\":\"white\",\"linecolor\":\"white\",\"minorgridcolor\":\"white\",\"startlinecolor\":\"#2a3f5f\"},\"baxis\":{\"endlinecolor\":\"#2a3f5f\",\"gridcolor\":\"white\",\"linecolor\":\"white\",\"minorgridcolor\":\"white\",\"startlinecolor\":\"#2a3f5f\"},\"type\":\"carpet\"}],\"choropleth\":[{\"colorbar\":{\"outlinewidth\":0,\"ticks\":\"\"},\"type\":\"choropleth\"}],\"contour\":[{\"colorbar\":{\"outlinewidth\":0,\"ticks\":\"\"},\"colorscale\":[[0.0,\"#0d0887\"],[0.1111111111111111,\"#46039f\"],[0.2222222222222222,\"#7201a8\"],[0.3333333333333333,\"#9c179e\"],[0.4444444444444444,\"#bd3786\"],[0.5555555555555556,\"#d8576b\"],[0.6666666666666666,\"#ed7953\"],[0.7777777777777778,\"#fb9f3a\"],[0.8888888888888888,\"#fdca26\"],[1.0,\"#f0f921\"]],\"type\":\"contour\"}],\"contourcarpet\":[{\"colorbar\":{\"outlinewidth\":0,\"ticks\":\"\"},\"type\":\"contourcarpet\"}],\"heatmap\":[{\"colorbar\":{\"outlinewidth\":0,\"ticks\":\"\"},\"colorscale\":[[0.0,\"#0d0887\"],[0.1111111111111111,\"#46039f\"],[0.2222222222222222,\"#7201a8\"],[0.3333333333333333,\"#9c179e\"],[0.4444444444444444,\"#bd3786\"],[0.5555555555555556,\"#d8576b\"],[0.6666666666666666,\"#ed7953\"],[0.7777777777777778,\"#fb9f3a\"],[0.8888888888888888,\"#fdca26\"],[1.0,\"#f0f921\"]],\"type\":\"heatmap\"}],\"heatmapgl\":[{\"colorbar\":{\"outlinewidth\":0,\"ticks\":\"\"},\"colorscale\":[[0.0,\"#0d0887\"],[0.1111111111111111,\"#46039f\"],[0.2222222222222222,\"#7201a8\"],[0.3333333333333333,\"#9c179e\"],[0.4444444444444444,\"#bd3786\"],[0.5555555555555556,\"#d8576b\"],[0.6666666666666666,\"#ed7953\"],[0.7777777777777778,\"#fb9f3a\"],[0.8888888888888888,\"#fdca26\"],[1.0,\"#f0f921\"]],\"type\":\"heatmapgl\"}],\"histogram\":[{\"marker\":{\"pattern\":{\"fillmode\":\"overlay\",\"size\":10,\"solidity\":0.2}},\"type\":\"histogram\"}],\"histogram2d\":[{\"colorbar\":{\"outlinewidth\":0,\"ticks\":\"\"},\"colorscale\":[[0.0,\"#0d0887\"],[0.1111111111111111,\"#46039f\"],[0.2222222222222222,\"#7201a8\"],[0.3333333333333333,\"#9c179e\"],[0.4444444444444444,\"#bd3786\"],[0.5555555555555556,\"#d8576b\"],[0.6666666666666666,\"#ed7953\"],[0.7777777777777778,\"#fb9f3a\"],[0.8888888888888888,\"#fdca26\"],[1.0,\"#f0f921\"]],\"type\":\"histogram2d\"}],\"histogram2dcontour\":[{\"colorbar\":{\"outlinewidth\":0,\"ticks\":\"\"},\"colorscale\":[[0.0,\"#0d0887\"],[0.1111111111111111,\"#46039f\"],[0.2222222222222222,\"#7201a8\"],[0.3333333333333333,\"#9c179e\"],[0.4444444444444444,\"#bd3786\"],[0.5555555555555556,\"#d8576b\"],[0.6666666666666666,\"#ed7953\"],[0.7777777777777778,\"#fb9f3a\"],[0.8888888888888888,\"#fdca26\"],[1.0,\"#f0f921\"]],\"type\":\"histogram2dcontour\"}],\"mesh3d\":[{\"colorbar\":{\"outlinewidth\":0,\"ticks\":\"\"},\"type\":\"mesh3d\"}],\"parcoords\":[{\"line\":{\"colorbar\":{\"outlinewidth\":0,\"ticks\":\"\"}},\"type\":\"parcoords\"}],\"pie\":[{\"automargin\":true,\"type\":\"pie\"}],\"scatter\":[{\"marker\":{\"colorbar\":{\"outlinewidth\":0,\"ticks\":\"\"}},\"type\":\"scatter\"}],\"scatter3d\":[{\"line\":{\"colorbar\":{\"outlinewidth\":0,\"ticks\":\"\"}},\"marker\":{\"colorbar\":{\"outlinewidth\":0,\"ticks\":\"\"}},\"type\":\"scatter3d\"}],\"scattercarpet\":[{\"marker\":{\"colorbar\":{\"outlinewidth\":0,\"ticks\":\"\"}},\"type\":\"scattercarpet\"}],\"scattergeo\":[{\"marker\":{\"colorbar\":{\"outlinewidth\":0,\"ticks\":\"\"}},\"type\":\"scattergeo\"}],\"scattergl\":[{\"marker\":{\"colorbar\":{\"outlinewidth\":0,\"ticks\":\"\"}},\"type\":\"scattergl\"}],\"scattermapbox\":[{\"marker\":{\"colorbar\":{\"outlinewidth\":0,\"ticks\":\"\"}},\"type\":\"scattermapbox\"}],\"scatterpolar\":[{\"marker\":{\"colorbar\":{\"outlinewidth\":0,\"ticks\":\"\"}},\"type\":\"scatterpolar\"}],\"scatterpolargl\":[{\"marker\":{\"colorbar\":{\"outlinewidth\":0,\"ticks\":\"\"}},\"type\":\"scatterpolargl\"}],\"scatterternary\":[{\"marker\":{\"colorbar\":{\"outlinewidth\":0,\"ticks\":\"\"}},\"type\":\"scatterternary\"}],\"surface\":[{\"colorbar\":{\"outlinewidth\":0,\"ticks\":\"\"},\"colorscale\":[[0.0,\"#0d0887\"],[0.1111111111111111,\"#46039f\"],[0.2222222222222222,\"#7201a8\"],[0.3333333333333333,\"#9c179e\"],[0.4444444444444444,\"#bd3786\"],[0.5555555555555556,\"#d8576b\"],[0.6666666666666666,\"#ed7953\"],[0.7777777777777778,\"#fb9f3a\"],[0.8888888888888888,\"#fdca26\"],[1.0,\"#f0f921\"]],\"type\":\"surface\"}],\"table\":[{\"cells\":{\"fill\":{\"color\":\"#EBF0F8\"},\"line\":{\"color\":\"white\"}},\"header\":{\"fill\":{\"color\":\"#C8D4E3\"},\"line\":{\"color\":\"white\"}},\"type\":\"table\"}]},\"layout\":{\"annotationdefaults\":{\"arrowcolor\":\"#2a3f5f\",\"arrowhead\":0,\"arrowwidth\":1},\"autotypenumbers\":\"strict\",\"coloraxis\":{\"colorbar\":{\"outlinewidth\":0,\"ticks\":\"\"}},\"colorscale\":{\"diverging\":[[0,\"#8e0152\"],[0.1,\"#c51b7d\"],[0.2,\"#de77ae\"],[0.3,\"#f1b6da\"],[0.4,\"#fde0ef\"],[0.5,\"#f7f7f7\"],[0.6,\"#e6f5d0\"],[0.7,\"#b8e186\"],[0.8,\"#7fbc41\"],[0.9,\"#4d9221\"],[1,\"#276419\"]],\"sequential\":[[0.0,\"#0d0887\"],[0.1111111111111111,\"#46039f\"],[0.2222222222222222,\"#7201a8\"],[0.3333333333333333,\"#9c179e\"],[0.4444444444444444,\"#bd3786\"],[0.5555555555555556,\"#d8576b\"],[0.6666666666666666,\"#ed7953\"],[0.7777777777777778,\"#fb9f3a\"],[0.8888888888888888,\"#fdca26\"],[1.0,\"#f0f921\"]],\"sequentialminus\":[[0.0,\"#0d0887\"],[0.1111111111111111,\"#46039f\"],[0.2222222222222222,\"#7201a8\"],[0.3333333333333333,\"#9c179e\"],[0.4444444444444444,\"#bd3786\"],[0.5555555555555556,\"#d8576b\"],[0.6666666666666666,\"#ed7953\"],[0.7777777777777778,\"#fb9f3a\"],[0.8888888888888888,\"#fdca26\"],[1.0,\"#f0f921\"]]},\"colorway\":[\"#636efa\",\"#EF553B\",\"#00cc96\",\"#ab63fa\",\"#FFA15A\",\"#19d3f3\",\"#FF6692\",\"#B6E880\",\"#FF97FF\",\"#FECB52\"],\"font\":{\"color\":\"#2a3f5f\"},\"geo\":{\"bgcolor\":\"white\",\"lakecolor\":\"white\",\"landcolor\":\"#E5ECF6\",\"showlakes\":true,\"showland\":true,\"subunitcolor\":\"white\"},\"hoverlabel\":{\"align\":\"left\"},\"hovermode\":\"closest\",\"mapbox\":{\"style\":\"light\"},\"paper_bgcolor\":\"white\",\"plot_bgcolor\":\"#E5ECF6\",\"polar\":{\"angularaxis\":{\"gridcolor\":\"white\",\"linecolor\":\"white\",\"ticks\":\"\"},\"bgcolor\":\"#E5ECF6\",\"radialaxis\":{\"gridcolor\":\"white\",\"linecolor\":\"white\",\"ticks\":\"\"}},\"scene\":{\"xaxis\":{\"backgroundcolor\":\"#E5ECF6\",\"gridcolor\":\"white\",\"gridwidth\":2,\"linecolor\":\"white\",\"showbackground\":true,\"ticks\":\"\",\"zerolinecolor\":\"white\"},\"yaxis\":{\"backgroundcolor\":\"#E5ECF6\",\"gridcolor\":\"white\",\"gridwidth\":2,\"linecolor\":\"white\",\"showbackground\":true,\"ticks\":\"\",\"zerolinecolor\":\"white\"},\"zaxis\":{\"backgroundcolor\":\"#E5ECF6\",\"gridcolor\":\"white\",\"gridwidth\":2,\"linecolor\":\"white\",\"showbackground\":true,\"ticks\":\"\",\"zerolinecolor\":\"white\"}},\"shapedefaults\":{\"line\":{\"color\":\"#2a3f5f\"}},\"ternary\":{\"aaxis\":{\"gridcolor\":\"white\",\"linecolor\":\"white\",\"ticks\":\"\"},\"baxis\":{\"gridcolor\":\"white\",\"linecolor\":\"white\",\"ticks\":\"\"},\"bgcolor\":\"#E5ECF6\",\"caxis\":{\"gridcolor\":\"white\",\"linecolor\":\"white\",\"ticks\":\"\"}},\"title\":{\"x\":0.05},\"xaxis\":{\"automargin\":true,\"gridcolor\":\"white\",\"linecolor\":\"white\",\"ticks\":\"\",\"title\":{\"standoff\":15},\"zerolinecolor\":\"white\",\"zerolinewidth\":2},\"yaxis\":{\"automargin\":true,\"gridcolor\":\"white\",\"linecolor\":\"white\",\"ticks\":\"\",\"title\":{\"standoff\":15},\"zerolinecolor\":\"white\",\"zerolinewidth\":2}}},\"xaxis\":{\"anchor\":\"y\",\"domain\":[0.0,1.0],\"title\":{\"text\":\"depth\"}},\"yaxis\":{\"anchor\":\"x\",\"domain\":[0.0,1.0],\"title\":{\"text\":\"count\"}},\"legend\":{\"tracegroupgap\":0},\"margin\":{\"t\":60},\"barmode\":\"relative\",\"height\":400,\"width\":600},                        {\"responsive\": true}                    ).then(function(){\n",
       "                            \n",
       "var gd = document.getElementById('06769925-a628-4f3e-9971-a8210fa7067a');\n",
       "var x = new MutationObserver(function (mutations, observer) {{\n",
       "        var display = window.getComputedStyle(gd).display;\n",
       "        if (!display || display === 'none') {{\n",
       "            console.log([gd, 'removed!']);\n",
       "            Plotly.purge(gd);\n",
       "            observer.disconnect();\n",
       "        }}\n",
       "}});\n",
       "\n",
       "// Listen for the removal of the full notebook cells\n",
       "var notebookContainer = gd.closest('#notebook-container');\n",
       "if (notebookContainer) {{\n",
       "    x.observe(notebookContainer, {childList: true});\n",
       "}}\n",
       "\n",
       "// Listen for the clearing of the current output cell\n",
       "var outputEl = gd.closest('.output');\n",
       "if (outputEl) {{\n",
       "    x.observe(outputEl, {childList: true});\n",
       "}}\n",
       "\n",
       "                        })                };                });            </script>        </div>"
      ]
     },
     "metadata": {},
     "output_type": "display_data"
    }
   ],
   "source": [
    "fig = px.histogram(quake,   #specify what dataframe to use\n",
    "             x=\"depth\",  #specify the variable for the histogram \n",
    "             nbins=50,       #number of bins for the histogram \n",
    "             height=400,     #dimensions of the figure\n",
    "             width=600);\n",
    "fig.show()"
   ]
  },
  {
   "cell_type": "markdown",
   "id": "28a15457",
   "metadata": {},
   "source": [
    "Alternatively, you can try another interactive plotting package Bokeh. Here is the same plot as above but with Bokeh."
   ]
  },
  {
   "cell_type": "code",
   "execution_count": 23,
   "id": "d8f738c6",
   "metadata": {},
   "outputs": [
    {
     "data": {
      "text/html": [
       "\n",
       "    <div class=\"bk-root\">\n",
       "        <a href=\"https://bokeh.org\" target=\"_blank\" class=\"bk-logo bk-logo-small bk-logo-notebook\"></a>\n",
       "        <span id=\"1002\">Loading BokehJS ...</span>\n",
       "    </div>"
      ]
     },
     "metadata": {},
     "output_type": "display_data"
    },
    {
     "data": {
      "application/javascript": "\n(function(root) {\n  function now() {\n    return new Date();\n  }\n\n  const force = true;\n\n  if (typeof root._bokeh_onload_callbacks === \"undefined\" || force === true) {\n    root._bokeh_onload_callbacks = [];\n    root._bokeh_is_loading = undefined;\n  }\n\n  const JS_MIME_TYPE = 'application/javascript';\n  const HTML_MIME_TYPE = 'text/html';\n  const EXEC_MIME_TYPE = 'application/vnd.bokehjs_exec.v0+json';\n  const CLASS_NAME = 'output_bokeh rendered_html';\n\n  /**\n   * Render data to the DOM node\n   */\n  function render(props, node) {\n    const script = document.createElement(\"script\");\n    node.appendChild(script);\n  }\n\n  /**\n   * Handle when an output is cleared or removed\n   */\n  function handleClearOutput(event, handle) {\n    const cell = handle.cell;\n\n    const id = cell.output_area._bokeh_element_id;\n    const server_id = cell.output_area._bokeh_server_id;\n    // Clean up Bokeh references\n    if (id != null && id in Bokeh.index) {\n      Bokeh.index[id].model.document.clear();\n      delete Bokeh.index[id];\n    }\n\n    if (server_id !== undefined) {\n      // Clean up Bokeh references\n      const cmd_clean = \"from bokeh.io.state import curstate; print(curstate().uuid_to_server['\" + server_id + \"'].get_sessions()[0].document.roots[0]._id)\";\n      cell.notebook.kernel.execute(cmd_clean, {\n        iopub: {\n          output: function(msg) {\n            const id = msg.content.text.trim();\n            if (id in Bokeh.index) {\n              Bokeh.index[id].model.document.clear();\n              delete Bokeh.index[id];\n            }\n          }\n        }\n      });\n      // Destroy server and session\n      const cmd_destroy = \"import bokeh.io.notebook as ion; ion.destroy_server('\" + server_id + \"')\";\n      cell.notebook.kernel.execute(cmd_destroy);\n    }\n  }\n\n  /**\n   * Handle when a new output is added\n   */\n  function handleAddOutput(event, handle) {\n    const output_area = handle.output_area;\n    const output = handle.output;\n\n    // limit handleAddOutput to display_data with EXEC_MIME_TYPE content only\n    if ((output.output_type != \"display_data\") || (!Object.prototype.hasOwnProperty.call(output.data, EXEC_MIME_TYPE))) {\n      return\n    }\n\n    const toinsert = output_area.element.find(\".\" + CLASS_NAME.split(' ')[0]);\n\n    if (output.metadata[EXEC_MIME_TYPE][\"id\"] !== undefined) {\n      toinsert[toinsert.length - 1].firstChild.textContent = output.data[JS_MIME_TYPE];\n      // store reference to embed id on output_area\n      output_area._bokeh_element_id = output.metadata[EXEC_MIME_TYPE][\"id\"];\n    }\n    if (output.metadata[EXEC_MIME_TYPE][\"server_id\"] !== undefined) {\n      const bk_div = document.createElement(\"div\");\n      bk_div.innerHTML = output.data[HTML_MIME_TYPE];\n      const script_attrs = bk_div.children[0].attributes;\n      for (let i = 0; i < script_attrs.length; i++) {\n        toinsert[toinsert.length - 1].firstChild.setAttribute(script_attrs[i].name, script_attrs[i].value);\n        toinsert[toinsert.length - 1].firstChild.textContent = bk_div.children[0].textContent\n      }\n      // store reference to server id on output_area\n      output_area._bokeh_server_id = output.metadata[EXEC_MIME_TYPE][\"server_id\"];\n    }\n  }\n\n  function register_renderer(events, OutputArea) {\n\n    function append_mime(data, metadata, element) {\n      // create a DOM node to render to\n      const toinsert = this.create_output_subarea(\n        metadata,\n        CLASS_NAME,\n        EXEC_MIME_TYPE\n      );\n      this.keyboard_manager.register_events(toinsert);\n      // Render to node\n      const props = {data: data, metadata: metadata[EXEC_MIME_TYPE]};\n      render(props, toinsert[toinsert.length - 1]);\n      element.append(toinsert);\n      return toinsert\n    }\n\n    /* Handle when an output is cleared or removed */\n    events.on('clear_output.CodeCell', handleClearOutput);\n    events.on('delete.Cell', handleClearOutput);\n\n    /* Handle when a new output is added */\n    events.on('output_added.OutputArea', handleAddOutput);\n\n    /**\n     * Register the mime type and append_mime function with output_area\n     */\n    OutputArea.prototype.register_mime_type(EXEC_MIME_TYPE, append_mime, {\n      /* Is output safe? */\n      safe: true,\n      /* Index of renderer in `output_area.display_order` */\n      index: 0\n    });\n  }\n\n  // register the mime type if in Jupyter Notebook environment and previously unregistered\n  if (root.Jupyter !== undefined) {\n    const events = require('base/js/events');\n    const OutputArea = require('notebook/js/outputarea').OutputArea;\n\n    if (OutputArea.prototype.mime_types().indexOf(EXEC_MIME_TYPE) == -1) {\n      register_renderer(events, OutputArea);\n    }\n  }\n\n  \n  if (typeof (root._bokeh_timeout) === \"undefined\" || force === true) {\n    root._bokeh_timeout = Date.now() + 5000;\n    root._bokeh_failed_load = false;\n  }\n\n  const NB_LOAD_WARNING = {'data': {'text/html':\n     \"<div style='background-color: #fdd'>\\n\"+\n     \"<p>\\n\"+\n     \"BokehJS does not appear to have successfully loaded. If loading BokehJS from CDN, this \\n\"+\n     \"may be due to a slow or bad network connection. Possible fixes:\\n\"+\n     \"</p>\\n\"+\n     \"<ul>\\n\"+\n     \"<li>re-rerun `output_notebook()` to attempt to load from CDN again, or</li>\\n\"+\n     \"<li>use INLINE resources instead, as so:</li>\\n\"+\n     \"</ul>\\n\"+\n     \"<code>\\n\"+\n     \"from bokeh.resources import INLINE\\n\"+\n     \"output_notebook(resources=INLINE)\\n\"+\n     \"</code>\\n\"+\n     \"</div>\"}};\n\n  function display_loaded() {\n    const el = document.getElementById(\"1002\");\n    if (el != null) {\n      el.textContent = \"BokehJS is loading...\";\n    }\n    if (root.Bokeh !== undefined) {\n      if (el != null) {\n        el.textContent = \"BokehJS \" + root.Bokeh.version + \" successfully loaded.\";\n      }\n    } else if (Date.now() < root._bokeh_timeout) {\n      setTimeout(display_loaded, 100)\n    }\n  }\n\n\n  function run_callbacks() {\n    try {\n      root._bokeh_onload_callbacks.forEach(function(callback) {\n        if (callback != null)\n          callback();\n      });\n    } finally {\n      delete root._bokeh_onload_callbacks\n    }\n    console.debug(\"Bokeh: all callbacks have finished\");\n  }\n\n  function load_libs(css_urls, js_urls, callback) {\n    if (css_urls == null) css_urls = [];\n    if (js_urls == null) js_urls = [];\n\n    root._bokeh_onload_callbacks.push(callback);\n    if (root._bokeh_is_loading > 0) {\n      console.debug(\"Bokeh: BokehJS is being loaded, scheduling callback at\", now());\n      return null;\n    }\n    if (js_urls == null || js_urls.length === 0) {\n      run_callbacks();\n      return null;\n    }\n    console.debug(\"Bokeh: BokehJS not loaded, scheduling load and callback at\", now());\n    root._bokeh_is_loading = css_urls.length + js_urls.length;\n\n    function on_load() {\n      root._bokeh_is_loading--;\n      if (root._bokeh_is_loading === 0) {\n        console.debug(\"Bokeh: all BokehJS libraries/stylesheets loaded\");\n        run_callbacks()\n      }\n    }\n\n    function on_error(url) {\n      console.error(\"failed to load \" + url);\n    }\n\n    for (let i = 0; i < css_urls.length; i++) {\n      const url = css_urls[i];\n      const element = document.createElement(\"link\");\n      element.onload = on_load;\n      element.onerror = on_error.bind(null, url);\n      element.rel = \"stylesheet\";\n      element.type = \"text/css\";\n      element.href = url;\n      console.debug(\"Bokeh: injecting link tag for BokehJS stylesheet: \", url);\n      document.body.appendChild(element);\n    }\n\n    for (let i = 0; i < js_urls.length; i++) {\n      const url = js_urls[i];\n      const element = document.createElement('script');\n      element.onload = on_load;\n      element.onerror = on_error.bind(null, url);\n      element.async = false;\n      element.src = url;\n      console.debug(\"Bokeh: injecting script tag for BokehJS library: \", url);\n      document.head.appendChild(element);\n    }\n  };\n\n  function inject_raw_css(css) {\n    const element = document.createElement(\"style\");\n    element.appendChild(document.createTextNode(css));\n    document.body.appendChild(element);\n  }\n\n  \n  const js_urls = [\"https://cdn.bokeh.org/bokeh/release/bokeh-2.4.2.min.js\", \"https://cdn.bokeh.org/bokeh/release/bokeh-gl-2.4.2.min.js\", \"https://cdn.bokeh.org/bokeh/release/bokeh-widgets-2.4.2.min.js\", \"https://cdn.bokeh.org/bokeh/release/bokeh-tables-2.4.2.min.js\", \"https://cdn.bokeh.org/bokeh/release/bokeh-mathjax-2.4.2.min.js\"];\n  const css_urls = [];\n  \n\n  const inline_js = [\n    function(Bokeh) {\n      Bokeh.set_log_level(\"info\");\n    },\n    function(Bokeh) {\n    \n    \n    }\n  ];\n\n  function run_inline_js() {\n    \n    if (root.Bokeh !== undefined || force === true) {\n      \n    for (let i = 0; i < inline_js.length; i++) {\n      inline_js[i].call(root, root.Bokeh);\n    }\n    if (force === true) {\n        display_loaded();\n      }} else if (Date.now() < root._bokeh_timeout) {\n      setTimeout(run_inline_js, 100);\n    } else if (!root._bokeh_failed_load) {\n      console.log(\"Bokeh: BokehJS failed to load within specified timeout.\");\n      root._bokeh_failed_load = true;\n    } else if (force !== true) {\n      const cell = $(document.getElementById(\"1002\")).parents('.cell').data().cell;\n      cell.output_area.append_execute_result(NB_LOAD_WARNING)\n    }\n\n  }\n\n  if (root._bokeh_is_loading === 0) {\n    console.debug(\"Bokeh: BokehJS loaded, going straight to plotting\");\n    run_inline_js();\n  } else {\n    load_libs(css_urls, js_urls, function() {\n      console.debug(\"Bokeh: BokehJS plotting callback run at\", now());\n      run_inline_js();\n    });\n  }\n}(window));",
      "application/vnd.bokehjs_load.v0+json": ""
     },
     "metadata": {},
     "output_type": "display_data"
    }
   ],
   "source": [
    "from bokeh.plotting import figure, show, output_notebook\n",
    "output_notebook()"
   ]
  },
  {
   "cell_type": "code",
   "execution_count": 24,
   "id": "6beb321c",
   "metadata": {},
   "outputs": [
    {
     "data": {
      "text/html": [
       "\n",
       "\n",
       "\n",
       "\n",
       "\n",
       "\n",
       "  <div class=\"bk-root\" id=\"f854ef05-73bf-4aab-98d1-e32b210000ef\" data-root-id=\"1003\"></div>\n"
      ]
     },
     "metadata": {},
     "output_type": "display_data"
    },
    {
     "data": {
      "application/javascript": "(function(root) {\n  function embed_document(root) {\n    \n  const docs_json = {\"a15a0d97-a592-416e-a411-5e823850f312\":{\"defs\":[],\"roots\":{\"references\":[{\"attributes\":{\"below\":[{\"id\":\"1012\"}],\"center\":[{\"id\":\"1015\"},{\"id\":\"1019\"}],\"height\":400,\"left\":[{\"id\":\"1016\"}],\"renderers\":[{\"id\":\"1038\"}],\"title\":{\"id\":\"1040\"},\"toolbar\":{\"id\":\"1027\"},\"x_range\":{\"id\":\"1004\"},\"x_scale\":{\"id\":\"1008\"},\"y_range\":{\"id\":\"1006\"},\"y_scale\":{\"id\":\"1010\"}},\"id\":\"1003\",\"subtype\":\"Figure\",\"type\":\"Plot\"},{\"attributes\":{},\"id\":\"1048\",\"type\":\"UnionRenderers\"},{\"attributes\":{},\"id\":\"1049\",\"type\":\"Selection\"},{\"attributes\":{\"bottom_units\":\"screen\",\"coordinates\":null,\"fill_alpha\":0.5,\"fill_color\":\"lightgrey\",\"group\":null,\"left_units\":\"screen\",\"level\":\"overlay\",\"line_alpha\":1.0,\"line_color\":\"black\",\"line_dash\":[4,4],\"line_width\":2,\"right_units\":\"screen\",\"syncable\":false,\"top_units\":\"screen\"},\"id\":\"1026\",\"type\":\"BoxAnnotation\"},{\"attributes\":{\"bottom\":{\"value\":0},\"fill_color\":{\"value\":\"#636EFA\"},\"left\":{\"field\":\"left\"},\"line_color\":{\"value\":\"#636EFA\"},\"right\":{\"field\":\"right\"},\"top\":{\"field\":\"top\"}},\"id\":\"1035\",\"type\":\"Quad\"},{\"attributes\":{},\"id\":\"1024\",\"type\":\"ResetTool\"},{\"attributes\":{},\"id\":\"1023\",\"type\":\"SaveTool\"},{\"attributes\":{\"coordinates\":null,\"data_source\":{\"id\":\"1034\"},\"glyph\":{\"id\":\"1035\"},\"group\":null,\"hover_glyph\":null,\"muted_glyph\":{\"id\":\"1037\"},\"nonselection_glyph\":{\"id\":\"1036\"},\"view\":{\"id\":\"1039\"}},\"id\":\"1038\",\"type\":\"GlyphRenderer\"},{\"attributes\":{\"overlay\":{\"id\":\"1026\"}},\"id\":\"1022\",\"type\":\"BoxZoomTool\"},{\"attributes\":{},\"id\":\"1020\",\"type\":\"PanTool\"},{\"attributes\":{},\"id\":\"1021\",\"type\":\"WheelZoomTool\"},{\"attributes\":{\"tools\":[{\"id\":\"1020\"},{\"id\":\"1021\"},{\"id\":\"1022\"},{\"id\":\"1023\"},{\"id\":\"1024\"},{\"id\":\"1025\"}]},\"id\":\"1027\",\"type\":\"Toolbar\"},{\"attributes\":{\"data\":{\"left\":{\"__ndarray__\":\"AAAAAAAAAADAeAYN/ROMP8B4Bg39E5w/kNrEyf0OpT/AeAYN/ROsP3gLJCh+jLE/kNrEyf0OtT+oqWVrfZG4P8B4Bg39E7w/2EenrnyWvz94CyQofozBPwRz9Pi9TcM/kNrEyf0OxT8cQpWaPdDGP6ipZWt9kcg/NBE2PL1Syj/AeAYN/RPMP0zg1t081c0/2EenrnyWzz+y17s/3qvQP3gLJCh+jNE/Pj+MEB5t0j8Ec/T4vU3TP8qmXOFdLtQ/kNrEyf0O1T9WDi2yne/VPxxClZo90NY/4nX9gt2w1z+oqWVrfZHYP27dzVMdctk/NBE2PL1S2j/6RJ4kXTPbP8B4Bg39E9w/hqxu9Zz03D9M4NbdPNXdPxIUP8bctd4/2EenrnyW3z/PvYdLjjvgP7LXuz/eq+A/lfHvMy4c4T94CyQofozhP1slWBzO/OE/Pj+MEB5t4j8hWcAEbt3iPwRz9Pi9TeM/54wo7Q2+4z/KplzhXS7kP63AkNWtnuQ/kNrEyf0O5T9z9Pi9TX/lPw==\",\"dtype\":\"float64\",\"order\":\"little\",\"shape\":[50]},\"right\":{\"__ndarray__\":\"wHgGDf0TjD/AeAYN/ROcP5DaxMn9DqU/wHgGDf0TrD94CyQofoyxP5DaxMn9DrU/qKlla32RuD/AeAYN/RO8P9hHp658lr8/eAskKH6MwT8Ec/T4vU3DP5DaxMn9DsU/HEKVmj3Qxj+oqWVrfZHIPzQRNjy9Uso/wHgGDf0TzD9M4NbdPNXNP9hHp658ls8/ste7P96r0D94CyQofozRPz4/jBAebdI/BHP0+L1N0z/KplzhXS7UP5DaxMn9DtU/Vg4tsp3v1T8cQpWaPdDWP+J1/YLdsNc/qKlla32R2D9u3c1THXLZPzQRNjy9Uto/+kSeJF0z2z/AeAYN/RPcP4asbvWc9Nw/TODW3TzV3T8SFD/G3LXeP9hHp658lt8/z72HS4474D+y17s/3qvgP5Xx7zMuHOE/eAskKH6M4T9bJVgczvzhPz4/jBAebeI/IVnABG7d4j8Ec/T4vU3jP+eMKO0NvuM/yqZc4V0u5D+twJDVrZ7kP5DaxMn9DuU/c/T4vU1/5T9WDi2yne/lPw==\",\"dtype\":\"float64\",\"order\":\"little\",\"shape\":[50]},\"top\":{\"__ndarray__\":\"McNkyCU1NUBYe16ggjkyQPN3wa2MRCRAJ+Iz3L76EUBhfYnLr/8AQPN3wa2MRPQ/pDaGk2TE7D/7qKRuS5P1P5bUvxHnJvo/jqPcUCjY6D9/QRbPqjrmP3HfT00tneM/jqPcUCjY6D93EDMO7OvUP5bUvxHnJto/YX2Jy6//4D+kNoaTZMTcP7OYTBXiYc8/dxAzDuzrxD9prmyMbk7SPwAAAAAAAAAAdxAzDuzrtD8AAAAAAAAAAAAAAAAAAAAAdxAzDuzrtD+zmEwV4mG/P2mubIxuTtI/dxAzDuzrpD93EDMO7OvEP3cQMw7s68Q/s5hMFeJhzz93EDMO7OvEP3cQMw7s67Q/s5hMFeJhvz+zmEwV4mG/P2mubIxuTtI/s5hMFeJhvz+zmEwV4mG/P7OYTBXiYd8/ltS/Eecm2j+W1L8R5ybaP2mubIxuTtI/jqPcUCjY6D9hfYnLr//gP3HfT00tneM/dxAzDuzr1D93EDMO7OvEP3cQMw7s67Q/AAAAAAAAAAB3EDMO7OukPw==\",\"dtype\":\"float64\",\"order\":\"little\",\"shape\":[50]}},\"selected\":{\"id\":\"1049\"},\"selection_policy\":{\"id\":\"1048\"}},\"id\":\"1034\",\"type\":\"ColumnDataSource\"},{\"attributes\":{},\"id\":\"1017\",\"type\":\"BasicTicker\"},{\"attributes\":{},\"id\":\"1025\",\"type\":\"HelpTool\"},{\"attributes\":{\"axis\":{\"id\":\"1016\"},\"coordinates\":null,\"dimension\":1,\"group\":null,\"ticker\":null},\"id\":\"1019\",\"type\":\"Grid\"},{\"attributes\":{},\"id\":\"1010\",\"type\":\"LinearScale\"},{\"attributes\":{\"coordinates\":null,\"formatter\":{\"id\":\"1043\"},\"group\":null,\"major_label_policy\":{\"id\":\"1044\"},\"ticker\":{\"id\":\"1017\"}},\"id\":\"1016\",\"type\":\"LinearAxis\"},{\"attributes\":{\"coordinates\":null,\"formatter\":{\"id\":\"1046\"},\"group\":null,\"major_label_policy\":{\"id\":\"1047\"},\"ticker\":{\"id\":\"1013\"}},\"id\":\"1012\",\"type\":\"LinearAxis\"},{\"attributes\":{},\"id\":\"1013\",\"type\":\"BasicTicker\"},{\"attributes\":{\"axis\":{\"id\":\"1012\"},\"coordinates\":null,\"group\":null,\"ticker\":null},\"id\":\"1015\",\"type\":\"Grid\"},{\"attributes\":{\"coordinates\":null,\"group\":null},\"id\":\"1040\",\"type\":\"Title\"},{\"attributes\":{},\"id\":\"1006\",\"type\":\"DataRange1d\"},{\"attributes\":{},\"id\":\"1004\",\"type\":\"DataRange1d\"},{\"attributes\":{},\"id\":\"1043\",\"type\":\"BasicTickFormatter\"},{\"attributes\":{},\"id\":\"1008\",\"type\":\"LinearScale\"},{\"attributes\":{\"bottom\":{\"value\":0},\"fill_alpha\":{\"value\":0.2},\"fill_color\":{\"value\":\"#636EFA\"},\"hatch_alpha\":{\"value\":0.2},\"left\":{\"field\":\"left\"},\"line_alpha\":{\"value\":0.2},\"line_color\":{\"value\":\"#636EFA\"},\"right\":{\"field\":\"right\"},\"top\":{\"field\":\"top\"}},\"id\":\"1037\",\"type\":\"Quad\"},{\"attributes\":{},\"id\":\"1044\",\"type\":\"AllLabels\"},{\"attributes\":{\"source\":{\"id\":\"1034\"}},\"id\":\"1039\",\"type\":\"CDSView\"},{\"attributes\":{},\"id\":\"1046\",\"type\":\"BasicTickFormatter\"},{\"attributes\":{},\"id\":\"1047\",\"type\":\"AllLabels\"},{\"attributes\":{\"bottom\":{\"value\":0},\"fill_alpha\":{\"value\":0.1},\"fill_color\":{\"value\":\"#636EFA\"},\"hatch_alpha\":{\"value\":0.1},\"left\":{\"field\":\"left\"},\"line_alpha\":{\"value\":0.1},\"line_color\":{\"value\":\"#636EFA\"},\"right\":{\"field\":\"right\"},\"top\":{\"field\":\"top\"}},\"id\":\"1036\",\"type\":\"Quad\"}],\"root_ids\":[\"1003\"]},\"title\":\"Bokeh Application\",\"version\":\"2.4.2\"}};\n  const render_items = [{\"docid\":\"a15a0d97-a592-416e-a411-5e823850f312\",\"root_ids\":[\"1003\"],\"roots\":{\"1003\":\"f854ef05-73bf-4aab-98d1-e32b210000ef\"}}];\n  root.Bokeh.embed.embed_items_notebook(docs_json, render_items);\n\n  }\n  if (root.Bokeh !== undefined) {\n    embed_document(root);\n  } else {\n    let attempts = 0;\n    const timer = setInterval(function(root) {\n      if (root.Bokeh !== undefined) {\n        clearInterval(timer);\n        embed_document(root);\n      } else {\n        attempts++;\n        if (attempts > 100) {\n          clearInterval(timer);\n          console.log(\"Bokeh: ERROR: Unable to run BokehJS code because BokehJS library is missing\");\n        }\n      }\n    }, 10, root)\n  }\n})(window);",
      "application/vnd.bokehjs_exec.v0+json": ""
     },
     "metadata": {
      "application/vnd.bokehjs_exec.v0+json": {
       "id": "1003"
      }
     },
     "output_type": "display_data"
    }
   ],
   "source": [
    "p = figure(plot_width=600, plot_height=400)\n",
    "\n",
    "hist, edges = np.histogram(quake.depth, density=True, bins=50)\n",
    "p.quad(top=hist, bottom=0, left=edges[:-1], right=edges[1:], line_color=\"#636EFA\", fill_color=\"#636EFA\")\n",
    "\n",
    "show(p)"
   ]
  },
  {
   "cell_type": "markdown",
   "id": "b87c6c42",
   "metadata": {},
   "source": [
    "We will now make a new plot of the location of the earthquakes. We will use Plotly tool. \n",
    "\n",
    "The markersize will be scaled with the earthquake magnitude. To do so, we add a ``marker_size`` series in the DataFrame"
   ]
  },
  {
   "cell_type": "code",
   "execution_count": null,
   "id": "d9cb41c3",
   "metadata": {},
   "outputs": [],
   "source": [
    "quake['marker_size'] =np.fix(np.exp(quake['magnitude'])) # add marker size as exp(mag)\n",
    "quake['magnitude bin'] = 0.5*np.fix(2*quake['magnitude']) # add marker size as exp(mag)"
   ]
  },
  {
   "cell_type": "markdown",
   "id": "f004df73",
   "metadata": {},
   "source": [
    "## Mapping using Plotly\n",
    "\n",
    "Now we will plot the earthquakes locations on a map using the Plotly package. More tutorials on [Plotly](https://plotly.com/). Input of the function in the function is self-explanatory and typical of Python's function. The code [documentation](https://plotly.com/python/scatter-plots-on-maps/) of Plotly scatter_geo lists the variables."
   ]
  },
  {
   "cell_type": "code",
   "execution_count": null,
   "id": "ff53045a",
   "metadata": {},
   "outputs": [],
   "source": [
    "fig = px.scatter_geo(quake,\n",
    "                     lat='latitude',lon='longitude', \n",
    "                     range_color=(6,9),\n",
    "                     height=600, width=600,\n",
    "                     size='marker_size', color='magnitude',\n",
    "                     hover_name=\"description\",\n",
    "                     hover_data=['description','magnitude','depth']);\n",
    "fig.update_geos(resolution=110, showcountries=True)\n",
    "fig.update_geos(resolution=110, showcountries=True,projection_type=\"orthographic\")\n",
    "fig"
   ]
  },
  {
   "cell_type": "markdown",
   "id": "69b7c97f",
   "metadata": {},
   "source": [
    "The data was sorted by time. We now want to sort and show the data instead by magnitude. We use the pandas function ``sort`` to create a new DataFrame with sorted values."
   ]
  },
  {
   "cell_type": "code",
   "execution_count": null,
   "id": "7738e4d0",
   "metadata": {},
   "outputs": [],
   "source": [
    "quakes2plot=quake.sort_values(by='magnitude bin')\n",
    "\n",
    "quakes2plot.head()"
   ]
  },
  {
   "cell_type": "markdown",
   "id": "dcf7472d",
   "metadata": {},
   "source": [
    "Now we will plot again using Plotly"
   ]
  },
  {
   "cell_type": "code",
   "execution_count": null,
   "id": "c21ce4ea",
   "metadata": {},
   "outputs": [],
   "source": [
    "fig = px.scatter_geo(quakes2plot,\n",
    "                     lat='latitude',lon='longitude', \n",
    "                     range_color=(6,9),\n",
    "                     height=600, width=600,\n",
    "                     size='marker_size', color='magnitude',\n",
    "                     hover_name=\"description\",\n",
    "                     hover_data=['description','magnitude','depth']);\n",
    "fig.update_geos(resolution=110, showcountries=True)\n",
    "# fig.update_geos(resolution=110, showcountries=True,projection_type=\"orthographic\")\n"
   ]
  },
  {
   "cell_type": "markdown",
   "id": "3355fe19",
   "metadata": {},
   "source": [
    "## Create a Pandas from a text file.\n",
    "\n",
    "The python package pandas is very useful to read csv files, but also many text files that are more or less formatted as one observation per row and one column for each feature.\n",
    "\n",
    "As an example, we are going to look at the list of seismic stations from the Northern California seismic network, available [here](http://ncedc.org/ftp/pub/doc/NC.info/NC.channel.summary.day):\n",
    "\n"
   ]
  },
  {
   "cell_type": "code",
   "execution_count": null,
   "id": "ef9f302d",
   "metadata": {},
   "outputs": [],
   "source": [
    "url = 'http://ncedc.org/ftp/pub/doc/NC.info/NC.channel.summary.day'"
   ]
  },
  {
   "cell_type": "code",
   "execution_count": null,
   "id": "3a60ef42",
   "metadata": {},
   "outputs": [],
   "source": [
    "# this gets the file linked in the URL page and convert it to a string\n",
    "s = requests.get(url).content "
   ]
  },
  {
   "cell_type": "code",
   "execution_count": null,
   "id": "9edd0bf5",
   "metadata": {},
   "outputs": [],
   "source": [
    "\n",
    "# this will convert the string, decode it , and make it a table\n",
    "data = pd.read_csv(io.StringIO(s.decode('utf-8')), header=None, skiprows=2, sep='\\s+', usecols=list(range(0, 13)))\n",
    "# because columns/keys were not assigned, assign them now\n",
    "data.columns = ['station', 'network', 'channel', 'location', 'rate', 'start_time', 'end_time', 'latitude', 'longitude', 'elevation', 'depth', 'dip', 'azimuth']"
   ]
  },
  {
   "cell_type": "markdown",
   "id": "b2def912",
   "metadata": {},
   "source": [
    "Let us look at the data. They are now stored into a pandas dataframe."
   ]
  },
  {
   "cell_type": "code",
   "execution_count": null,
   "id": "448b69ab",
   "metadata": {},
   "outputs": [],
   "source": [
    "data.head()"
   ]
  },
  {
   "cell_type": "markdown",
   "id": "d05055aa",
   "metadata": {},
   "source": [
    "We can output the first element of the DataFrame:"
   ]
  },
  {
   "cell_type": "code",
   "execution_count": null,
   "id": "51971cde",
   "metadata": {},
   "outputs": [],
   "source": [
    "data.iloc[0]"
   ]
  },
  {
   "cell_type": "code",
   "execution_count": null,
   "id": "b3cc09c6",
   "metadata": {},
   "outputs": [],
   "source": [
    "data.iloc[:, 0]"
   ]
  },
  {
   "cell_type": "markdown",
   "id": "a201c0e9",
   "metadata": {},
   "source": [
    "The DataFrame may have bad values. A typical data cleaning involves removing Nan and Zeros for instance."
   ]
  },
  {
   "cell_type": "markdown",
   "id": "fc8219f0",
   "metadata": {},
   "source": [
    "Use Plotly to map the stations."
   ]
  },
  {
   "cell_type": "code",
   "execution_count": null,
   "id": "78c75b19",
   "metadata": {},
   "outputs": [],
   "source": [
    "data.dropna(inplace=True)\n",
    "data=data[data.longitude!=0]"
   ]
  },
  {
   "cell_type": "code",
   "execution_count": null,
   "id": "7f3533db",
   "metadata": {},
   "outputs": [],
   "source": [
    "fig = px.scatter_geo(data,\n",
    "                     lat='latitude',lon='longitude', \n",
    "                     range_color=(6,9),\n",
    "                     height=600, width=600,\n",
    "                     hover_name=\"station\",\n",
    "                     hover_data=['network','station','channel','rate']);\n",
    "fig.update_geos(resolution=110, showcountries=True)\n"
   ]
  },
  {
   "cell_type": "code",
   "execution_count": null,
   "id": "819da3ef",
   "metadata": {},
   "outputs": [],
   "source": [
    "fig = px.scatter_mapbox(data,\n",
    "                     lat='latitude',lon='longitude', \n",
    "                     range_color=(6,9),mapbox_style=\"carto-positron\",\n",
    "                     height=600, width=500,\n",
    "                     hover_name=\"station\",\n",
    "                     hover_data=['network','station','channel','rate']);\n",
    "fig.update_layout(title=\"Northern California Seismic Network\")\n",
    "fig.show()"
   ]
  },
  {
   "cell_type": "markdown",
   "id": "373751b7",
   "metadata": {},
   "source": [
    "## Pandas: data selection\n",
    "We can filter the data with the value taken by a given column:"
   ]
  },
  {
   "cell_type": "code",
   "execution_count": null,
   "id": "d28d4e95",
   "metadata": {},
   "outputs": [],
   "source": [
    "data.loc[data.station=='KCPB']"
   ]
  },
  {
   "cell_type": "code",
   "execution_count": null,
   "id": "cb5561d5",
   "metadata": {},
   "outputs": [],
   "source": [
    "# Select two stations, use the typical \"OR\" |\n",
    "data.loc[(data.station=='KCPB') | (data.station=='KHBB')]"
   ]
  },
  {
   "cell_type": "code",
   "execution_count": null,
   "id": "ebba2b90",
   "metadata": {},
   "outputs": [],
   "source": [
    "# Select two stations, use the typical \"AND\" &\n",
    "data.loc[(data.station=='KCPB') & (data.channel=='HNZ')]"
   ]
  },
  {
   "cell_type": "code",
   "execution_count": null,
   "id": "561aecf9",
   "metadata": {},
   "outputs": [],
   "source": [
    "# or like this\n",
    "data.loc[data.station.isin(['KCPB', 'KHBB'])]"
   ]
  },
  {
   "cell_type": "markdown",
   "id": "590a68f6",
   "metadata": {},
   "source": [
    "We can filter the data with the value taken by a given column:"
   ]
  },
  {
   "cell_type": "code",
   "execution_count": null,
   "id": "f75f626c",
   "metadata": {},
   "outputs": [],
   "source": [
    "data.loc[data.station=='KCPB']"
   ]
  },
  {
   "cell_type": "markdown",
   "id": "c7707667",
   "metadata": {},
   "source": [
    "We can access to a brief summary of the data:"
   ]
  },
  {
   "cell_type": "code",
   "execution_count": null,
   "id": "e4a33d52",
   "metadata": {},
   "outputs": [],
   "source": [
    "data.station.describe()"
   ]
  },
  {
   "cell_type": "code",
   "execution_count": null,
   "id": "51dd7dc7",
   "metadata": {},
   "outputs": [],
   "source": [
    "data.elevation.describe()"
   ]
  },
  {
   "cell_type": "markdown",
   "id": "1aa0ad85",
   "metadata": {},
   "source": [
    "We can perform standard operations on the whole data set:"
   ]
  },
  {
   "cell_type": "code",
   "execution_count": null,
   "id": "1b787869",
   "metadata": {},
   "outputs": [],
   "source": [
    "data.mean()"
   ]
  },
  {
   "cell_type": "markdown",
   "id": "f5d93eb9",
   "metadata": {},
   "source": [
    "In the case of a categorical variable, we can get the list of possile values that this variable can take:"
   ]
  },
  {
   "cell_type": "code",
   "execution_count": null,
   "id": "51c58c07",
   "metadata": {},
   "outputs": [],
   "source": [
    "data.channel.unique()"
   ]
  },
  {
   "cell_type": "markdown",
   "id": "bf4ec82e",
   "metadata": {},
   "source": [
    "and get the number of times that each value is taken:"
   ]
  },
  {
   "cell_type": "code",
   "execution_count": null,
   "id": "031731dd",
   "metadata": {},
   "outputs": [],
   "source": [
    "data.station.value_counts()"
   ]
  },
  {
   "cell_type": "markdown",
   "id": "8ff6d551",
   "metadata": {},
   "source": [
    "The second option is to use the apply function:"
   ]
  },
  {
   "cell_type": "code",
   "execution_count": null,
   "id": "610141ba",
   "metadata": {},
   "outputs": [],
   "source": [
    "data_elevation_mean=data.elevation.unique().mean()\n",
    "def remean_elevation(row):\n",
    "    row.elevation = row.elevation - data_elevation_mean\n",
    "    return row\n",
    "data.apply(remean_elevation, axis='columns')"
   ]
  },
  {
   "cell_type": "markdown",
   "id": "4193d83c",
   "metadata": {},
   "source": [
    "We can also carry out simple operations on columns, provided they make sense."
   ]
  },
  {
   "cell_type": "code",
   "execution_count": null,
   "id": "e02b7ee4",
   "metadata": {},
   "outputs": [],
   "source": [
    "data.network + ' - ' + data.station"
   ]
  },
  {
   "cell_type": "markdown",
   "id": "c6e15985",
   "metadata": {},
   "source": [
    "A useful feature is to group the rows depending on the value of a categorical variable, and then apply the same operation to all the groups. For instance, I want to know how many times each station appears in the file:"
   ]
  },
  {
   "cell_type": "code",
   "execution_count": null,
   "id": "cdf44701",
   "metadata": {},
   "outputs": [],
   "source": [
    "data.groupby('station').station.count()"
   ]
  },
  {
   "cell_type": "markdown",
   "id": "9ab5d024",
   "metadata": {},
   "source": [
    "We can have access to the data type of each column:"
   ]
  },
  {
   "cell_type": "code",
   "execution_count": null,
   "id": "1cc71f38",
   "metadata": {},
   "outputs": [],
   "source": [
    "data.dtypes"
   ]
  },
  {
   "cell_type": "markdown",
   "id": "141ac2c1",
   "metadata": {},
   "source": [
    "Here, pandas does not recognize the start_time and end_time columns as a datetime format, so we cannot use datetime operations on them. We first need to convert these columns into a datetime format:"
   ]
  },
  {
   "cell_type": "code",
   "execution_count": null,
   "id": "02663a77",
   "metadata": {},
   "outputs": [],
   "source": [
    "data.start_time.values()"
   ]
  },
  {
   "cell_type": "code",
   "execution_count": null,
   "id": "62d6937c",
   "metadata": {},
   "outputs": [],
   "source": [
    "type(data['start_time'][0])"
   ]
  },
  {
   "cell_type": "code",
   "execution_count": null,
   "id": "afaf1851",
   "metadata": {},
   "outputs": [],
   "source": [
    "# Transform column from string into datetime format\n",
    "startdate = pd.to_datetime(data['start_time'], format='%Y/%m/%d,%H:%M:%S')\n",
    "data['start_time'] = startdate\n",
    "print(data['start_time'] )\n",
    "type(data['start_time'][0])"
   ]
  },
  {
   "cell_type": "code",
   "execution_count": null,
   "id": "78278bab",
   "metadata": {},
   "outputs": [],
   "source": [
    "print(data['end_time'])"
   ]
  },
  {
   "cell_type": "code",
   "execution_count": null,
   "id": "bae00773",
   "metadata": {},
   "outputs": [],
   "source": [
    "# do the same for end times\n",
    "# Avoid 'OutOfBoundsDatetime' error with year 3000\n",
    "enddate = data['end_time'].str.replace('3000', '2025')\n",
    "enddate = pd.to_datetime(enddate, format='%Y/%m/%d,%H:%M:%S')\n",
    "data['end_time'] = enddate"
   ]
  },
  {
   "cell_type": "markdown",
   "id": "f00ce758",
   "metadata": {},
   "source": [
    "We can now look when each seismic station was installed:"
   ]
  },
  {
   "cell_type": "code",
   "execution_count": null,
   "id": "a0cc2a86",
   "metadata": {},
   "outputs": [],
   "source": [
    "data.groupby('station').apply(lambda df: df.start_time.min())"
   ]
  },
  {
   "cell_type": "markdown",
   "id": "f1d61170",
   "metadata": {},
   "source": [
    "The ``agg`` function allows to carry out several operations to each group of rows:"
   ]
  },
  {
   "cell_type": "code",
   "execution_count": null,
   "id": "fd80a620",
   "metadata": {},
   "outputs": [],
   "source": [
    "data.groupby(['station']).elevation.agg(['min', 'max'])"
   ]
  },
  {
   "cell_type": "markdown",
   "id": "5183304a",
   "metadata": {},
   "source": [
    "Select the stations that were deployed first and recovered last"
   ]
  },
  {
   "cell_type": "code",
   "execution_count": null,
   "id": "7e7b38a0",
   "metadata": {},
   "outputs": [],
   "source": [
    "data.groupby(['station']).agg({'start_time':lambda x: min(x), 'end_time':lambda x: max(x)})"
   ]
  },
  {
   "cell_type": "markdown",
   "id": "28ec3c28",
   "metadata": {},
   "source": [
    "We can also make groups by selecting the values of two categorical variables:"
   ]
  },
  {
   "cell_type": "code",
   "execution_count": null,
   "id": "b5aacd39",
   "metadata": {},
   "outputs": [],
   "source": [
    "data.groupby(['station', 'channel']).agg({'start_time':lambda x: min(x), 'end_time':lambda x: max(x)})"
   ]
  },
  {
   "cell_type": "markdown",
   "id": "9eaaa490",
   "metadata": {},
   "source": [
    "Previously, we just printed the output, but we can also store it in a new variable:"
   ]
  },
  {
   "cell_type": "code",
   "execution_count": null,
   "id": "14adf61e",
   "metadata": {},
   "outputs": [],
   "source": [
    "data_grouped = data.groupby(['station', 'channel']).agg({'start_time':lambda x: min(x), 'end_time':lambda x: max(x)})"
   ]
  },
  {
   "cell_type": "code",
   "execution_count": null,
   "id": "2dcccafe",
   "metadata": {},
   "outputs": [],
   "source": [
    "data_grouped.head()"
   ]
  },
  {
   "cell_type": "markdown",
   "id": "755f691b",
   "metadata": {},
   "source": [
    "When we select only some rows, the index is not automatically reset to start at 0. We can do it manually. Many functions in pandas have also an option to reset the index, and option to transform the dataframe in place, instead of saving the results in another variable."
   ]
  },
  {
   "cell_type": "code",
   "execution_count": null,
   "id": "e41c6f08",
   "metadata": {},
   "outputs": [],
   "source": [
    "data_grouped.reset_index()"
   ]
  },
  {
   "cell_type": "markdown",
   "id": "48a33bd8",
   "metadata": {},
   "source": [
    "It is also possible to sort the dataset by value."
   ]
  },
  {
   "cell_type": "code",
   "execution_count": null,
   "id": "d5d91ecb",
   "metadata": {},
   "outputs": [],
   "source": [
    "data_grouped.sort_values(by='start_time')"
   ]
  },
  {
   "cell_type": "markdown",
   "id": "29c0b9b5",
   "metadata": {},
   "source": [
    "We can apply the sorting to several columns:"
   ]
  },
  {
   "cell_type": "code",
   "execution_count": null,
   "id": "5cf427b0",
   "metadata": {},
   "outputs": [],
   "source": [
    "data_grouped.sort_values(by=['start_time', 'end_time'])"
   ]
  },
  {
   "cell_type": "markdown",
   "id": "c5c38796",
   "metadata": {},
   "source": [
    "## CSV vs Parquet\n",
    "\n",
    "Parquet is a compressed data format that stores and compress the culumns. It is fast for I/O and compact format.\n",
    "\n",
    "Save ``data`` into a CSV file:"
   ]
  },
  {
   "cell_type": "code",
   "execution_count": null,
   "id": "f20f5de3",
   "metadata": {},
   "outputs": [],
   "source": [
    "%timeit data.to_csv(\"my_metadata.csv\")\n",
    "!ls -lh my_metadata.csv"
   ]
  },
  {
   "cell_type": "markdown",
   "id": "4b5dd078",
   "metadata": {},
   "source": [
    "Try and save in Parquet, compare time and memory"
   ]
  },
  {
   "cell_type": "code",
   "execution_count": null,
   "id": "0952eb9f",
   "metadata": {},
   "outputs": [],
   "source": [
    "%timeit data.to_parquet(\"my_metadata.pq\")\n",
    "!ls -lh my_metadata.pq"
   ]
  }
 ],
 "metadata": {
  "kernelspec": {
   "display_name": "Python 3 (ipykernel)",
   "language": "python",
   "name": "python3"
  },
  "language_info": {
   "codemirror_mode": {
    "name": "ipython",
    "version": 3
   },
   "file_extension": ".py",
   "mimetype": "text/x-python",
   "name": "python",
   "nbconvert_exporter": "python",
   "pygments_lexer": "ipython3",
   "version": "3.10.6"
  },
  "vscode": {
   "interpreter": {
    "hash": "18097a28e4390875cd0fb1a7fd17892dc53336e73d7dd915b4e2e6d4e3fe089e"
   }
  }
 },
 "nbformat": 4,
 "nbformat_minor": 5
}
