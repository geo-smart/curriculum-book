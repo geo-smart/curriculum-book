{
 "cells": [
  {
   "cell_type": "markdown",
   "metadata": {},
   "source": [
    "# Deep Neural Networks and their training\n",
    "\n",
    "\n",
    ":::{important}\n",
    "⚠️ Under Construction !\n",
    ":::\n",
    "\n",
    "\n",
    "A neural network is considered \"deep\" if it has \"many\" layers (more than 5).\n",
    "\n",
    "Shiny new methods like DNN are reported with amazing performance and accuracy. Be aware that only the best performance get put in papers, the majority of the time is spent with failures on model design and training.\n",
    "\n",
    "A major issue with DNN stems from its dependence on the gradient of the cost functions. Because the gradients uses the chain rule with multiplication of errors in each layer, they can vanish or explode if the variance increases with each layer. It happens that the logistic function (sigmoid) having a mean of 0.5, and saturating quickly to either 0 or 1 (gradients of the sigmoid tends to zero quickly).\n",
    "\n",
    "The training of deep neural networks is effectively a conditioning of the model weights to satisfy model accuracy, generalization, and computational efficiency. To strike that balance requires extensive tuning of hyperparameters, a goal to keep models as simple as possible, while aiming the best generalization. The conditioning of model parameters means that their values are not too small (unless intentionally sparse), mostly not too large, and that the variance of these values remains low.\n",
    "\n",
    "\n",
    "This notebook covers important best practice guidelines for training deep neural networks.\n",
    "* Model initialization\n",
    "* Activation functions\n",
    "* Batch normalization\n",
    "* Optimizers\n",
    "* Transfer learning\n",
    "* Dropout (for training and for epistemic uncertainty calculations)\n",
    "\n",
    "## 1. Layer initialization\n",
    "Glorot and He (2010) proposes an initialization that helps lower the variance of the outputs in each layer and of the model. The number of inputs (fan<sub>in</sub> ) and the numbers of neurons (fan<sub>out</sub>). fan<sub>avg</sub> = (fan<sub>in</sub> +fan<sub>out</sub> )/2. By default, Keras uses a Glorot initialization with a uniform distribution. The following table lists the good pairing between initialization and activation functions.\n",
    "\n",
    "| initialization | activation functions      | distribution width ($\\sigma^2$)|\n",
    "| -------------- | --------------------------|------------------------------- |\n",
    "| Glorot         | None,tanh,logistic,softmax| 1/fan<sub>avg</sub>            |\n",
    "| He             | Relu & variants           | 1/fan<sub>in</sub>             |\n",
    "| LeCun          | SELU                      | 1/fan<sub>in</sub>             |\n",
    "\n",
    "One can initialize the layers using these distributions as kernels: \n",
    "\n",
    "> ```python\n",
    "keras.layers.Dense(300,activation=\"relu\",kernel_initializer=\"he_normal\")\n",
    "\n",
    "\n",
    "\n",
    "or choose a custom layer with a He inialization of uniform distribution based out of fan<sub>ave</sub> instead of fan<sub>in</sub>:\n",
    "\n",
    "> ```python \n",
    "init = keras.initializers.VarianceScaling(scale=2.,model='fan_avg',distribution='uniform')\n",
    "\n",
    "> ```python \n",
    "keras.layers.Dense(300,activation=\"relu\",kernel_initializer=my_custom_init)\n",
    "\n",
    "More information here: https://keras.io/api/layers/initializers/\n",
    "\n",
    "\n",
    "## 2. Activation functions\n",
    "\n",
    "\n",
    "**sigmoid/logistic** : most popular at first for smooth activation, but their choice of saturation is not appropriate for DNN where the chain rule applied to the gradients of hte sigmoid tend to vanish.\n",
    "\n",
    "**ReLu** : Practical, but without other regularization mechanisms (batch normalization and dropout), they tend to kill certain neurons in the network.\n",
    "\n",
    "**LeakyReLU** : A variant of the ReLu that has a weak positive slope (hyper parameter ``alpha``) for negative values. It avoids having a strict zero for negative values and avoids the satuation and vanishing of the gradients. Outperforms ReLU. Hard to tune the hyperparameter $\\alpha$. To use Leaky ReLU, you need to add a layer:\n",
    "\n",
    ">```python\n",
    "keras.layers.Dense(10,kernel_initializer=\"he_normal\")\n",
    "keras.layers.LeakyReLU(alpha=0.2)```\n",
    "\n",
    "\n",
    "**Randomized Leaky ReLU - RReLU** : The hyperparameter $\\alpha$ is randomized during training, fixed during testing. RRLeu acts as a regularizer and reduces the risk of overfitting.\n",
    "\n",
    "**Parametric leaky ReLU (PReLu)**: The hyper parameter ``alpha`` is learned during training. Outperforms ReLU for large data sets, runs the risk to overfit the smaller data sets.\n",
    "\n",
    "**Exponential Linear Unit ELU**: Instead of a linear trend in the negative values (as in the LeakyReLU), it is an exponential that smoothly saturates to a negative value. It outperforms all of the variants of ReLUs: training time reduced, never kills the neurons, smooth everywhere if ``alpha=1`` that helps speed up GD. A major drawback is the computational expense, but it is compensated by faster convergence.\n",
    "\n",
    "**Scaled ELU - SELU** (Klambauer et al, 2017): a scaled variant of ELU. It self-normalizes the network because the output of each layer will tend to preserve a zero mean. However, it requires: input features must be standardized (mean 0, std=1), initialization of weights must be LeCun normal (``kernel_initializer=\"lecun_normal\"``), network must be sequential (no skip connection, nor RNN, no wide nets), layers must be dense.\n"
   ]
  },
  {
   "cell_type": "code",
   "execution_count": 8,
   "metadata": {},
   "outputs": [
    {
     "data": {
      "text/plain": [
       "Text(0.5, 1.0, 'activation functions')"
      ]
     },
     "execution_count": 8,
     "metadata": {},
     "output_type": "execute_result"
    },
    {
     "data": {
      "image/png": "[encoded data removed]",
      "text/plain": [
       "<Figure size 432x288 with 1 Axes>"
      ]
     },
     "metadata": {
      "needs_background": "light"
     },
     "output_type": "display_data"
    }
   ],
   "source": [
    "import numpy as np\n",
    "import matplotlib.pyplot as plt\n",
    "%matplotlib inline\n",
    "\n",
    "x=np.linspace(-2,2,1000)\n",
    "\n",
    "def sigm(x): # define the sigmoid function\n",
    "    return 1/(1+np.exp(-x))\n",
    "def relu(x): # define the Rectified Linear Unit function\n",
    "    return   np.maximum(x,0)\n",
    "def Leakyrelu(a,x): # define the Leaky Rectified Linear Unit function\n",
    "    return  np.maximum(x,a*x)\n",
    "\n",
    "def Leakyrelu(a,x): # define the Leaky Rectified Linear Unit function\n",
    "    return  np.maximum(x,a*x)\n",
    "\n",
    "def elu(a,x): # define the Exponential Linear Unit function\n",
    "    return  np.maximum(x,a*(np.exp(x)-1))\n",
    "                       \n",
    "s = sigm(x)\n",
    "t = np.tanh(x)\n",
    "r = relu(x)\n",
    "lr = Leakyrelu(0.2,x)\n",
    "e = elu(0.2,x)\n",
    "\n",
    "plt.plot(x,s)\n",
    "plt.plot(x,r)\n",
    "plt.plot(x,lr)\n",
    "plt.plot(x,t)\n",
    "plt.plot(x,e)\n",
    "plt.grid(True)\n",
    "plt.legend(['sigmoid','ReLu','Leaky ReLU','TanH','ELU'])\n",
    "plt.xlim([-2,2])\n",
    "plt.xlabel('X')\n",
    "plt.ylim([-1,2])\n",
    "plt.title('activation functions')"
   ]
  },
  {
   "cell_type": "markdown",
   "metadata": {},
   "source": [
    "In general, the preferred choice should be:\n",
    "\n",
    "**SELU (if dense and sequential) > ELU > Leaky ReLU (and variants) > ReLU > tanh > logistic.**\n",
    "\n",
    "\n",
    "\n",
    "\n",
    "ReLU is the most implemented, and most packages have optimizers that best perform on ReLU, so a safe choice is ReLU. More information here: https://keras.io/api/layers/activation_layers/\n",
    "\n",
    "# 3. Batch Normalization\n",
    "\n",
    "The BN layer standardizes the inputs (shift and normalize the outputs of the layers). It adds parameters and complexity to the network. The benefits are:\n",
    "* it reduces vanishing/exploding gradients (one can now use saturating activation functions),\n",
    "* networks are less sensitive to the weight initialization,\n",
    "* one can use larger learning rates,\n",
    "* they act as a regularizer (reducing the need for regularization and dropout). \n",
    "\n",
    "Tips for its implementation:\n",
    "* Whether the BN layer should be before or after the activation function seems to depend on the task, so one has to experiment with each data set.\n",
    "* To add the BN layer before the activation function, you must remove the activation function from the hidden layers and add them separately \n",
    "* Because BN removes the bias term from the previous layers, you can remove the bias term from the previous layers ``use_bias=False``.\n",
    "* the hyperparameter ``momentum``  that is used to update the averages <1 but close to one 0.999s for large data sets and small mini batches.\n",
    "* BN layers by default acts on one axis, use the argument ``axis=[1,2]`` for 2D input batch (or flatten your 2D input batch to 1D).\n",
    "\n",
    "Here is an example:"
   ]
  },
  {
   "cell_type": "code",
   "execution_count": 10,
   "metadata": {},
   "outputs": [],
   "source": [
    "import tensorflow as tf\n",
    "from tensorflow import keras"
   ]
  },
  {
   "cell_type": "code",
   "execution_count": 11,
   "metadata": {},
   "outputs": [
    {
     "name": "stdout",
     "output_type": "stream",
     "text": [
      "Model: \"sequential\"\n",
      "_________________________________________________________________\n",
      "Layer (type)                 Output Shape              Param #   \n",
      "=================================================================\n",
      "flatten (Flatten)            (None, 784)               0         \n",
      "_________________________________________________________________\n",
      "batch_normalization (BatchNo (None, 784)               3136      \n",
      "_________________________________________________________________\n",
      "dense (Dense)                (None, 300)               235200    \n",
      "_________________________________________________________________\n",
      "batch_normalization_1 (Batch (None, 300)               1200      \n",
      "_________________________________________________________________\n",
      "activation (Activation)      (None, 300)               0         \n",
      "_________________________________________________________________\n",
      "dense_1 (Dense)              (None, 100)               30000     \n",
      "_________________________________________________________________\n",
      "batch_normalization_2 (Batch (None, 100)               400       \n",
      "_________________________________________________________________\n",
      "activation_1 (Activation)    (None, 100)               0         \n",
      "_________________________________________________________________\n",
      "dense_2 (Dense)              (None, 10)                1010      \n",
      "=================================================================\n",
      "Total params: 270,946\n",
      "Trainable params: 268,578\n",
      "Non-trainable params: 2,368\n",
      "_________________________________________________________________\n",
      "None\n"
     ]
    }
   ],
   "source": [
    "model = keras.models.Sequential( [\n",
    "keras.layers.Flatten(input_shape=[28,28]), # reshape the 2D matrix into a 1D vector, without modifying the values\n",
    "keras.layers.BatchNormalization(),\n",
    "keras.layers.Dense(300,kernel_initializer=\"he_normal\",use_bias=False), # single dense layer, downsampling from input layer to this year from 784 points to 300.\n",
    "keras.layers.BatchNormalization(),\n",
    "keras.layers.Activation(\"relu\"),\n",
    "keras.layers.Dense(100,kernel_initializer=\"he_normal\",use_bias=False), # 100 neurons\n",
    "keras.layers.BatchNormalization(),\n",
    "keras.layers.Activation(\"relu\"),\n",
    "keras.layers.Dense(10,activation=\"softmax\") ]) # output layer, 10 neurons since there are 10 classes.\n",
    "print(model.summary())"
   ]
  },
  {
   "cell_type": "markdown",
   "metadata": {},
   "source": [
    "# 4. Clipping the gradients\n",
    "If Batch Normalization is tricky to use (e.g. in RNNs), one can simply clip the gradients so that they do not explode. You can clip the value of the gradients by a tunable/hyperparameter value ``clipvalue=1.0`` or by the L2 norm of the gradients ``clipnorm=1.0`` (it preserves the orientation of the gradient. Try both and see what works best."
   ]
  },
  {
   "cell_type": "code",
   "execution_count": null,
   "metadata": {},
   "outputs": [],
   "source": [
    "alpha = 0.005# learning rate lr\n",
    "optimizer = keras.optimizers.SGD(lr=alpha,clipvalue=1.0) # stochastic gradient descent"
   ]
  },
  {
   "cell_type": "markdown",
   "metadata": {},
   "source": [
    "# 5. Transfer learning\n",
    "\n",
    "Transfer learning is useful to improve model generalization, continue training networks, modify already trained networks and adapt. \n"
   ]
  },
  {
   "cell_type": "code",
   "execution_count": null,
   "metadata": {},
   "outputs": [],
   "source": []
  },
  {
   "cell_type": "code",
   "execution_count": 13,
   "metadata": {},
   "outputs": [
    {
     "name": "stdout",
     "output_type": "stream",
     "text": [
      "Model: \"sequential_13\"\n",
      "_________________________________________________________________\n",
      "Layer (type)                 Output Shape              Param #   \n",
      "=================================================================\n",
      "flatten_7 (Flatten)          (None, 784)               0         \n",
      "_________________________________________________________________\n",
      "dropout_3 (Dropout)          (None, 784)               0         \n",
      "_________________________________________________________________\n",
      "dense_28 (Dense)             (None, 300)               235500    \n",
      "_________________________________________________________________\n",
      "dropout_4 (Dropout)          (None, 300)               0         \n",
      "_________________________________________________________________\n",
      "dense_29 (Dense)             (None, 100)               30100     \n",
      "_________________________________________________________________\n",
      "dropout_5 (Dropout)          (None, 100)               0         \n",
      "_________________________________________________________________\n",
      "dense_30 (Dense)             (None, 10)                1010      \n",
      "=================================================================\n",
      "Total params: 266,610\n",
      "Trainable params: 266,610\n",
      "Non-trainable params: 0\n",
      "_________________________________________________________________\n",
      "None\n"
     ]
    }
   ],
   "source": [
    "model_A = keras.models.load_model(\"my_first_NN_model.h5\")\n",
    "print(model_A.summary())"
   ]
  },
  {
   "cell_type": "code",
   "execution_count": 14,
   "metadata": {},
   "outputs": [
    {
     "name": "stdout",
     "output_type": "stream",
     "text": [
      "Model: \"sequential_1\"\n",
      "_________________________________________________________________\n",
      "Layer (type)                 Output Shape              Param #   \n",
      "=================================================================\n",
      "flatten_7 (Flatten)          (None, 784)               0         \n",
      "_________________________________________________________________\n",
      "dropout_3 (Dropout)          (None, 784)               0         \n",
      "_________________________________________________________________\n",
      "dense_28 (Dense)             (None, 300)               235500    \n",
      "_________________________________________________________________\n",
      "dropout_4 (Dropout)          (None, 300)               0         \n",
      "_________________________________________________________________\n",
      "dense_29 (Dense)             (None, 100)               30100     \n",
      "_________________________________________________________________\n",
      "dropout_5 (Dropout)          (None, 100)               0         \n",
      "=================================================================\n",
      "Total params: 265,600\n",
      "Trainable params: 265,600\n",
      "Non-trainable params: 0\n",
      "_________________________________________________________________\n",
      "None\n",
      "Model: \"sequential_1\"\n",
      "_________________________________________________________________\n",
      "Layer (type)                 Output Shape              Param #   \n",
      "=================================================================\n",
      "flatten_7 (Flatten)          (None, 784)               0         \n",
      "_________________________________________________________________\n",
      "dropout_3 (Dropout)          (None, 784)               0         \n",
      "_________________________________________________________________\n",
      "dense_28 (Dense)             (None, 300)               235500    \n",
      "_________________________________________________________________\n",
      "dropout_4 (Dropout)          (None, 300)               0         \n",
      "_________________________________________________________________\n",
      "dense_29 (Dense)             (None, 100)               30100     \n",
      "_________________________________________________________________\n",
      "dropout_5 (Dropout)          (None, 100)               0         \n",
      "_________________________________________________________________\n",
      "dense_3 (Dense)              (None, 10)                1010      \n",
      "=================================================================\n",
      "Total params: 266,610\n",
      "Trainable params: 266,610\n",
      "Non-trainable params: 0\n",
      "_________________________________________________________________\n",
      "None\n"
     ]
    }
   ],
   "source": [
    "model_B_on_A = keras.models.Sequential(model_A.layers[:-1]) # use all of the network exept the last year.\n",
    "print(model_B_on_A.summary())\n",
    "model_B_on_A.add(keras.layers.Dense(10,activation=\"softmax\")) # this is your new model: here i reset the output layer\n",
    "print(model_B_on_A.summary())"
   ]
  },
  {
   "cell_type": "code",
   "execution_count": 7,
   "metadata": {},
   "outputs": [],
   "source": [
    "model_A_clone = keras.models.clone_model(model_A) # CLONE MODELS TO AVOID OVERWRITING!\n",
    "model_A_clone.set_weights(model_A.get_weights()) # COPY THE WEIGHT"
   ]
  },
  {
   "cell_type": "markdown",
   "metadata": {},
   "source": [
    "Training model_B_on_A will modify  model_A, thus one has to clone model_A to keep an unmodified version.\n",
    "\n",
    "When you retrain but modified and added layers, there is an inbalance of weights or information: the old model is already optimized, the new layers are random. One can freeze the pre-trained layers to force the training on the newly added layers during a few epochs. One can freeze layers by switching the status of the parameters \"trainable\" from \"True\" to \"False\"  "
   ]
  },
  {
   "cell_type": "code",
   "execution_count": 8,
   "metadata": {},
   "outputs": [
    {
     "name": "stdout",
     "output_type": "stream",
     "text": [
      "Model: \"sequential_3\"\n",
      "_________________________________________________________________\n",
      "Layer (type)                 Output Shape              Param #   \n",
      "=================================================================\n",
      "flatten_7 (Flatten)          (None, 784)               0         \n",
      "_________________________________________________________________\n",
      "dropout_3 (Dropout)          (None, 784)               0         \n",
      "_________________________________________________________________\n",
      "dense_28 (Dense)             (None, 300)               235500    \n",
      "_________________________________________________________________\n",
      "dropout_4 (Dropout)          (None, 300)               0         \n",
      "_________________________________________________________________\n",
      "dense_29 (Dense)             (None, 100)               30100     \n",
      "_________________________________________________________________\n",
      "dropout_5 (Dropout)          (None, 100)               0         \n",
      "_________________________________________________________________\n",
      "dense_3 (Dense)              (None, 10)                1010      \n",
      "=================================================================\n",
      "Total params: 266,610\n",
      "Trainable params: 1,010\n",
      "Non-trainable params: 265,600\n",
      "_________________________________________________________________\n",
      "None\n"
     ]
    }
   ],
   "source": [
    "for layer in model_B_on_A.layers[:-1]:\n",
    "    layer.trainable=False\n",
    "print(model_B_on_A.summary())"
   ]
  },
  {
   "cell_type": "code",
   "execution_count": 9,
   "metadata": {},
   "outputs": [],
   "source": [
    "alpha = 0.005# learning rate lr\n",
    "optimizer = keras.optimizers.SGD(lr=alpha) # stochastic gradient descent\n",
    "model_B_on_A.compile(loss=\"sparse_categorical_crossentropy\",\n",
    "             optimizer=optimizer,\n",
    "             metrics=\"accuracy\")"
   ]
  },
  {
   "cell_type": "markdown",
   "metadata": {},
   "source": [
    "Train on a few epochs, then unfreeze the weights"
   ]
  },
  {
   "cell_type": "code",
   "execution_count": 10,
   "metadata": {},
   "outputs": [],
   "source": [
    "# load the fashion MNIST data. it's boring, but it works!\n",
    "fashion_mnist = keras.datasets.fashion_mnist\n",
    "(X_train_full, y_train_full), (X_test, y_test) = fashion_mnist.load_data()\n",
    "class_names = [\"tshirt\",\"trousers\",\"pullover\",\"dress\",\"coat\",\"sandal\",\"shirt\",\"sneaker\",\"bag\",\"boot\"]\n",
    "X_val,X_train = X_train_full[:5000]/255.0,X_train_full[5000:]/255.0\n",
    "y_val,y_train = y_train_full[:5000],y_train_full[5000:]"
   ]
  },
  {
   "cell_type": "code",
   "execution_count": 11,
   "metadata": {},
   "outputs": [
    {
     "name": "stdout",
     "output_type": "stream",
     "text": [
      "Epoch 1/4\n",
      "1719/1719 [==============================] - 2s 1ms/step - loss: 0.9090 - accuracy: 0.7552 - val_loss: 0.2985 - val_accuracy: 0.8984\n",
      "Epoch 2/4\n",
      "1719/1719 [==============================] - 2s 1ms/step - loss: 0.3264 - accuracy: 0.8881 - val_loss: 0.2867 - val_accuracy: 0.9000\n",
      "Epoch 3/4\n",
      "1719/1719 [==============================] - 2s 1ms/step - loss: 0.2945 - accuracy: 0.8956 - val_loss: 0.2802 - val_accuracy: 0.9000\n",
      "Epoch 4/4\n",
      "1719/1719 [==============================] - 2s 1ms/step - loss: 0.2962 - accuracy: 0.8929 - val_loss: 0.2786 - val_accuracy: 0.9032\n",
      "Epoch 1/16\n",
      "1719/1719 [==============================] - 3s 1ms/step - loss: 0.2810 - accuracy: 0.8985 - val_loss: 0.2724 - val_accuracy: 0.9040\n",
      "Epoch 2/16\n",
      "1719/1719 [==============================] - 3s 1ms/step - loss: 0.2684 - accuracy: 0.9006 - val_loss: 0.2707 - val_accuracy: 0.9070\n",
      "Epoch 3/16\n",
      "1719/1719 [==============================] - 2s 1ms/step - loss: 0.2586 - accuracy: 0.9023 - val_loss: 0.2703 - val_accuracy: 0.9032\n",
      "Epoch 4/16\n",
      "1719/1719 [==============================] - 2s 1ms/step - loss: 0.2571 - accuracy: 0.9036 - val_loss: 0.2674 - val_accuracy: 0.9052\n",
      "Epoch 5/16\n",
      "1719/1719 [==============================] - 3s 1ms/step - loss: 0.2552 - accuracy: 0.9038 - val_loss: 0.2661 - val_accuracy: 0.9072\n",
      "Epoch 6/16\n",
      "1719/1719 [==============================] - 2s 1ms/step - loss: 0.2531 - accuracy: 0.9050 - val_loss: 0.2652 - val_accuracy: 0.9062\n",
      "Epoch 7/16\n",
      "1719/1719 [==============================] - 3s 1ms/step - loss: 0.2516 - accuracy: 0.9051 - val_loss: 0.2661 - val_accuracy: 0.9070\n",
      "Epoch 8/16\n",
      "1719/1719 [==============================] - 2s 1ms/step - loss: 0.2484 - accuracy: 0.9072 - val_loss: 0.2669 - val_accuracy: 0.9066\n",
      "Epoch 9/16\n",
      "1719/1719 [==============================] - 2s 1ms/step - loss: 0.2463 - accuracy: 0.9069 - val_loss: 0.2664 - val_accuracy: 0.9080\n",
      "Epoch 10/16\n",
      "1719/1719 [==============================] - 3s 1ms/step - loss: 0.2485 - accuracy: 0.9058 - val_loss: 0.2654 - val_accuracy: 0.9062\n",
      "Epoch 11/16\n",
      "1719/1719 [==============================] - 3s 1ms/step - loss: 0.2426 - accuracy: 0.9081 - val_loss: 0.2646 - val_accuracy: 0.9080\n",
      "Epoch 12/16\n",
      "1719/1719 [==============================] - 2s 1ms/step - loss: 0.2454 - accuracy: 0.9066 - val_loss: 0.2650 - val_accuracy: 0.9086\n",
      "Epoch 13/16\n",
      "1719/1719 [==============================] - 2s 1ms/step - loss: 0.2483 - accuracy: 0.9052 - val_loss: 0.2644 - val_accuracy: 0.9096\n",
      "Epoch 14/16\n",
      "1719/1719 [==============================] - 2s 1ms/step - loss: 0.2398 - accuracy: 0.9099 - val_loss: 0.2651 - val_accuracy: 0.9084\n",
      "Epoch 15/16\n",
      "1719/1719 [==============================] - 2s 1ms/step - loss: 0.2488 - accuracy: 0.9064 - val_loss: 0.2658 - val_accuracy: 0.9092\n",
      "Epoch 16/16\n",
      "1719/1719 [==============================] - 2s 1ms/step - loss: 0.2469 - accuracy: 0.9066 - val_loss: 0.2640 - val_accuracy: 0.9094\n"
     ]
    }
   ],
   "source": [
    "history = model_B_on_A.fit(X_train,y_train,epochs=4,validation_data=(X_val,y_val))\n",
    "\n",
    "for layer in model_B_on_A.layers[:-1]:\n",
    "    layer.trainable=True\n",
    "    \n",
    "model_B_on_A.compile(loss=\"sparse_categorical_crossentropy\",\n",
    "             optimizer=optimizer,\n",
    "             metrics=\"accuracy\")\n",
    "history = model_B_on_A.fit(X_train,y_train,epochs=16,validation_data=(X_val,y_val))"
   ]
  },
  {
   "cell_type": "markdown",
   "metadata": {},
   "source": [
    "Fully connected DNNs tend to not generalize well. Transfer learning works best with deep CNNs.\n",
    "\n",
    "# Optimizers\n",
    "\n",
    "Training is super slow. You can speed up training with the following strategies:\n",
    "* good initialization\n",
    "* good activation function\n",
    "* use Batch Normalization\n",
    "* use Lasso Regression for sparse models.\n",
    "\n",
    "Optimizer comparisons:\n",
    "* **SGD**. Slow convergence speed but high convergence quality. Default in keras is ``keras.optimizers.SGD()``. Default is constant learning rate, but one can impose an evolution of the learning rate as training goes. ``keras.optimizers.SGD(lr=0.01,decay=1e-4)`` implements are power scheduling of the learning rate $\\eta$ ,$\\eta(t)=\\eta_0/(1+t/s)^c$, where $c$ is the power of the decay ($1/s$). There are other functions that can be implemented, check out the Keras information: https://keras.io/api/callbacks/learning_rate_scheduler/\n",
    "* **momentum optimization**. The weights are updated by a momentum vector that carries the sum of the gradients, it's a lot faster though bounces around a bit at the end.  ``keras.optimizers.SGD(lr=0.001,momentum=0.9)``. Usually 0.9 works great, but it should be tuned as a hyperparmeter\n",
    "* **Nesterov Accelerated Gradient**. It's momentum + the gradient of the momentum. NAG is much faster than momentum GD. ``keras.optimizers.SGD(lr=0.001,momentum=0.9,nesterov=True)``.\n",
    "* **AdaGrad**. It scales the gradient vector to the steepest dimensions. It has an *adaptive learning rate* because the learning rate depends on the cost function gradient itself. One issue with neural networks is that the learning rate becomes too small, so do NOT use it for DNN.\n",
    "* **Adam Optimization (best choice)**: adaptive moment estimation. It uses both momentum (beta_1 hyper parameter) and sum of gradients (beta_2) as scaling mechanisms for updating the weights. Good default values are : ``keras.optimizers.Adam(lr=0.001,beta_1=0.9,beta_2=0.999)``.\n",
    "\n",
    "# Avoiding Overfitting for training DNNs\n",
    "\n",
    "## Regularizations\n",
    "Use l_1 and l_2 regularizations to constrain the connection weights. Use l_1 to force a sparse model. To implement a regularization on each layer, "
   ]
  },
  {
   "cell_type": "code",
   "execution_count": 34,
   "metadata": {},
   "outputs": [
    {
     "data": {
      "text/plain": [
       "<tensorflow.python.keras.layers.core.Dense at 0x14c9504c0>"
      ]
     },
     "execution_count": 34,
     "metadata": {},
     "output_type": "execute_result"
    }
   ],
   "source": [
    "keras.layers.Dense(100,activation=\"elu\",kernel_initializer=\"he_normal\",\\\n",
    "                   kernel_regularizer=keras.regularizers.l2(0.01)) # this is your new model: here i reset the output layer"
   ]
  },
  {
   "cell_type": "markdown",
   "metadata": {},
   "source": [
    "Because stacking layers means calling the keras functions with many hyperparameters, typing each layer by hand is prone to typos and errors. It is recommended to write functions to wrap these calls. In Python, the function ``functools.partial()`` can perform just that."
   ]
  },
  {
   "cell_type": "code",
   "execution_count": 35,
   "metadata": {},
   "outputs": [
    {
     "name": "stdout",
     "output_type": "stream",
     "text": [
      "Model: \"sequential_11\"\n",
      "_________________________________________________________________\n",
      "Layer (type)                 Output Shape              Param #   \n",
      "=================================================================\n",
      "flatten_5 (Flatten)          (None, 784)               0         \n",
      "_________________________________________________________________\n",
      "dense_22 (Dense)             (None, 300)               235500    \n",
      "_________________________________________________________________\n",
      "dense_23 (Dense)             (None, 100)               30100     \n",
      "_________________________________________________________________\n",
      "dense_24 (Dense)             (None, 10)                1010      \n",
      "=================================================================\n",
      "Total params: 266,610\n",
      "Trainable params: 266,610\n",
      "Non-trainable params: 0\n",
      "_________________________________________________________________\n",
      "None\n"
     ]
    }
   ],
   "source": [
    "from functools import partial\n",
    "RegDense = partial(keras.layers.Dense,\n",
    "                   activation=\"relu\",\n",
    "                   kernel_initializer=\"he_normal\",\n",
    "                   kernel_regularizer=keras.regularizers.l2(0.01))\n",
    "\n",
    "model = keras.models.Sequential( [\n",
    "keras.layers.Flatten(input_shape=[28,28]), # reshape the 2D matrix into a 1D vector, without modifying the values\n",
    "RegDense(300),\n",
    "RegDense(100),\n",
    "RegDense(10,activation=\"softmax\",kernel_initializer=\"glorot_uniform\") ]) # output layer, 10 neurons since there are 10 classes.\n",
    "print(model.summary())"
   ]
  },
  {
   "cell_type": "markdown",
   "metadata": {},
   "source": [
    "# Dropout\n",
    "\n",
    "Most popular regularization technique for DNN. It is muting a portion of the neurons during the training, forcing the gradients to pass through neurons that could be otherwise ignored.\n",
    "\n",
    "![Multi Layer Perceptron](dropout2.svg)\n",
    "\n",
    "Monte Carlo Dropout serves the other purpose ot estimating an ensemble of testing. We make N predections over the test set, setting ``training=True`` to ensure that the dropout layer is still active and stack the predictions. Because the dropout is active, all the predictions woll be different. Averaging over multiple predictions with dropout gives us a MC estimate that is more reliable than the result of a single prediction."
   ]
  },
  {
   "cell_type": "markdown",
   "metadata": {},
   "source": [
    "### marine will update this section"
   ]
  },
  {
   "cell_type": "code",
   "execution_count": 12,
   "metadata": {},
   "outputs": [],
   "source": [
    "model = keras.models.Sequential( [\n",
    "keras.layers.Flatten(input_shape=[28,28]), # reshape the 2D matrix into a 1D vector, without modifying the values\n",
    "keras.layers.Dropout(rate=0.2),\n",
    "keras.layers.Dense(300,activation=\"relu\"), # \n",
    "keras.layers.Dropout(rate=0.2),\n",
    "keras.layers.Dense(100,activation=\"relu\"), # 100 neurons\n",
    "keras.layers.Dropout(rate=0.2),\n",
    "keras.layers.Dense(10,activation=\"softmax\") ]) # output layer, 10 neurons since there are 10 classes.\n",
    "alpha = 0.005# learning rate lr\n",
    "optimizer = keras.optimizers.Adam(lr=0.001,beta_1=0.9,beta_2=0.999)"
   ]
  },
  {
   "cell_type": "code",
   "execution_count": 13,
   "metadata": {},
   "outputs": [],
   "source": [
    "model.compile(loss=\"sparse_categorical_crossentropy\",\n",
    "             optimizer=optimizer,\n",
    "             metrics=\"accuracy\")"
   ]
  },
  {
   "cell_type": "code",
   "execution_count": 14,
   "metadata": {},
   "outputs": [
    {
     "name": "stdout",
     "output_type": "stream",
     "text": [
      "Epoch 1/30\n",
      "1719/1719 [==============================] - 3s 2ms/step - loss: 0.7496 - accuracy: 0.7258 - val_loss: 0.4039 - val_accuracy: 0.8554\n",
      "Epoch 2/30\n",
      "1719/1719 [==============================] - 3s 2ms/step - loss: 0.4648 - accuracy: 0.8286 - val_loss: 0.3678 - val_accuracy: 0.8668\n",
      "Epoch 3/30\n",
      "1719/1719 [==============================] - 3s 2ms/step - loss: 0.4165 - accuracy: 0.8466 - val_loss: 0.3525 - val_accuracy: 0.8734\n",
      "Epoch 4/30\n",
      "1719/1719 [==============================] - 3s 2ms/step - loss: 0.3932 - accuracy: 0.8533 - val_loss: 0.3384 - val_accuracy: 0.8796\n",
      "Epoch 5/30\n",
      "1719/1719 [==============================] - 3s 2ms/step - loss: 0.3777 - accuracy: 0.8596 - val_loss: 0.3319 - val_accuracy: 0.8740\n",
      "Epoch 6/30\n",
      "1719/1719 [==============================] - 3s 2ms/step - loss: 0.3693 - accuracy: 0.8622 - val_loss: 0.3219 - val_accuracy: 0.8802\n",
      "Epoch 7/30\n",
      "1719/1719 [==============================] - 3s 2ms/step - loss: 0.3561 - accuracy: 0.8662 - val_loss: 0.3194 - val_accuracy: 0.8810\n",
      "Epoch 8/30\n",
      "1719/1719 [==============================] - 3s 2ms/step - loss: 0.3479 - accuracy: 0.8685 - val_loss: 0.3089 - val_accuracy: 0.8856\n",
      "Epoch 9/30\n",
      "1719/1719 [==============================] - 3s 2ms/step - loss: 0.3382 - accuracy: 0.8733 - val_loss: 0.3045 - val_accuracy: 0.8894\n",
      "Epoch 10/30\n",
      "1719/1719 [==============================] - 3s 2ms/step - loss: 0.3310 - accuracy: 0.8743 - val_loss: 0.3066 - val_accuracy: 0.8856\n",
      "Epoch 11/30\n",
      "1719/1719 [==============================] - 3s 2ms/step - loss: 0.3249 - accuracy: 0.8812 - val_loss: 0.3020 - val_accuracy: 0.8892\n",
      "Epoch 12/30\n",
      "1719/1719 [==============================] - 3s 2ms/step - loss: 0.3227 - accuracy: 0.8804 - val_loss: 0.2938 - val_accuracy: 0.8922\n",
      "Epoch 13/30\n",
      "1719/1719 [==============================] - 3s 2ms/step - loss: 0.3196 - accuracy: 0.8793 - val_loss: 0.2980 - val_accuracy: 0.8892\n",
      "Epoch 14/30\n",
      "1719/1719 [==============================] - 3s 2ms/step - loss: 0.3094 - accuracy: 0.8823 - val_loss: 0.2992 - val_accuracy: 0.8930\n",
      "Epoch 15/30\n",
      "1719/1719 [==============================] - 3s 2ms/step - loss: 0.3101 - accuracy: 0.8843 - val_loss: 0.2926 - val_accuracy: 0.8938\n",
      "Epoch 16/30\n",
      "1719/1719 [==============================] - 3s 2ms/step - loss: 0.3168 - accuracy: 0.8825 - val_loss: 0.2919 - val_accuracy: 0.8930\n",
      "Epoch 17/30\n",
      "1719/1719 [==============================] - 3s 2ms/step - loss: 0.2979 - accuracy: 0.8867 - val_loss: 0.2839 - val_accuracy: 0.8936\n",
      "Epoch 18/30\n",
      "1719/1719 [==============================] - 3s 2ms/step - loss: 0.3069 - accuracy: 0.8849 - val_loss: 0.2867 - val_accuracy: 0.8968\n",
      "Epoch 19/30\n",
      "1719/1719 [==============================] - 3s 2ms/step - loss: 0.2986 - accuracy: 0.8872 - val_loss: 0.2906 - val_accuracy: 0.8936\n",
      "Epoch 20/30\n",
      "1719/1719 [==============================] - 3s 2ms/step - loss: 0.3006 - accuracy: 0.8897 - val_loss: 0.2941 - val_accuracy: 0.8972\n",
      "Epoch 21/30\n",
      "1719/1719 [==============================] - 3s 2ms/step - loss: 0.2940 - accuracy: 0.8904 - val_loss: 0.2906 - val_accuracy: 0.8976\n",
      "Epoch 22/30\n",
      "1719/1719 [==============================] - 3s 2ms/step - loss: 0.2865 - accuracy: 0.8926 - val_loss: 0.2886 - val_accuracy: 0.8948\n",
      "Epoch 23/30\n",
      "1719/1719 [==============================] - 3s 2ms/step - loss: 0.2908 - accuracy: 0.8888 - val_loss: 0.2904 - val_accuracy: 0.8948\n",
      "Epoch 24/30\n",
      "1719/1719 [==============================] - 3s 2ms/step - loss: 0.2843 - accuracy: 0.8919 - val_loss: 0.2968 - val_accuracy: 0.8972\n",
      "Epoch 25/30\n",
      "1719/1719 [==============================] - 3s 2ms/step - loss: 0.2841 - accuracy: 0.8927 - val_loss: 0.2901 - val_accuracy: 0.8966\n",
      "Epoch 26/30\n",
      "1719/1719 [==============================] - 3s 2ms/step - loss: 0.2747 - accuracy: 0.8970 - val_loss: 0.2877 - val_accuracy: 0.8986\n",
      "Epoch 27/30\n",
      "1719/1719 [==============================] - 3s 2ms/step - loss: 0.2833 - accuracy: 0.8922 - val_loss: 0.2958 - val_accuracy: 0.8944\n",
      "Epoch 28/30\n",
      "1719/1719 [==============================] - 3s 2ms/step - loss: 0.2801 - accuracy: 0.8931 - val_loss: 0.2931 - val_accuracy: 0.8986\n",
      "Epoch 29/30\n",
      "1719/1719 [==============================] - 3s 2ms/step - loss: 0.2826 - accuracy: 0.8926 - val_loss: 0.3005 - val_accuracy: 0.8992\n",
      "Epoch 30/30\n",
      "1719/1719 [==============================] - 3s 2ms/step - loss: 0.2754 - accuracy: 0.8963 - val_loss: 0.2809 - val_accuracy: 0.9008\n"
     ]
    }
   ],
   "source": [
    "# checkpoints_cb = keras.callbacks.ModelCheckpoint(\"my_first_NN_model.h5\",save_best_only=True)\n",
    "# with the argument save_best_only, the checkpoint saved will be one that of best performance according to the performance metrics chosen.\n",
    "history = model.fit(X_train,y_train,epochs=30,validation_data=(X_val,y_val))"
   ]
  },
  {
   "cell_type": "code",
   "execution_count": null,
   "metadata": {},
   "outputs": [],
   "source": []
  }
 ],
 "metadata": {
  "kernelspec": {
   "display_name": "Python 3",
   "language": "python",
   "name": "python3"
  },
  "language_info": {
   "codemirror_mode": {
    "name": "ipython",
    "version": 3
   },
   "file_extension": ".py",
   "mimetype": "text/x-python",
   "name": "python",
   "nbconvert_exporter": "python",
   "pygments_lexer": "ipython3",
   "version": "3.8.5"
  }
 },
 "nbformat": 4,
 "nbformat_minor": 5
}
