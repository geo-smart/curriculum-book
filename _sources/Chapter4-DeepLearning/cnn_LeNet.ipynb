{
 "cells": [
  {
   "cell_type": "markdown",
   "id": "6af4ffa6-9e1c-4a57-9754-e0c3d8d82108",
   "metadata": {},
   "source": [
    "# Convolutional neural networks with PyTorch"
   ]
  },
  {
   "cell_type": "code",
   "execution_count": 1,
   "id": "838f455d-4bf1-4885-a45f-2aa63e2af678",
   "metadata": {},
   "outputs": [],
   "source": [
    "import matplotlib.pyplot as plt\n",
    "import numpy as np\n",
    "import torch\n",
    "import torchvision\n",
    "import torch.nn as nn\n",
    "from torchvision.transforms import transforms\n",
    "from torch.utils import data\n",
    "from torch.utils.data import DataLoader"
   ]
  },
  {
   "cell_type": "markdown",
   "id": "04aa6d2c-0fd3-453c-a59a-ad822881e311",
   "metadata": {},
   "source": [
    "# Reading a paper on deep learning"
   ]
  },
  {
   "cell_type": "markdown",
   "id": "8f40fdd5-4716-49aa-85cd-cb4f0b4a4377",
   "metadata": {},
   "source": [
    "Let us say that you read a research paper explaining the architecture of the convolutional neural network used by the authors to carry out their data analysis. How will you try to reproduce their results?"
   ]
  },
  {
   "cell_type": "markdown",
   "id": "fb1f2246-2fec-4494-9457-0a384d288cee",
   "metadata": {},
   "source": [
    "Let us look at the following paper:\n",
    "\n",
    "Rouet-Leduc, B., Hulbert, C., McBrearty, I. W., Johnson, P. A. (2020). Probing slow earthquakes with deep learning. Geophysical Research Letters, 47, e2019GL085870. https://doi.org/10.1029/2019GL085870."
   ]
  },
  {
   "cell_type": "markdown",
   "id": "65dace0b-e664-4aa3-8cff-7ece06505718",
   "metadata": {},
   "source": [
    "<img src=\"figures/cnn_rouet-leduc.png\" width=\"600\">\n",
    "<center>Schematic of the CNN and its architecture (Figure 1 from Rouet-Leduc et al. (2020).</center>"
   ]
  },
  {
   "cell_type": "markdown",
   "id": "5f228b46-389e-4635-948f-65539350368c",
   "metadata": {},
   "source": [
    "## Input\n",
    "\n",
    "Spectrogram = Image with 129 * 95 pixels"
   ]
  },
  {
   "cell_type": "markdown",
   "id": "4a430c97-e16a-450c-a35f-4c270ae1adf7",
   "metadata": {},
   "source": [
    "## Convolution 16 * 16 kernel -> 32 Feature maps 114 * 80\n",
    "\n",
    "<img src=\"figures/convolution.png\" width=\"600\">\n",
    "<center>Convolution with kernel window (Fig. 6.2.1 from Dive into Deep Learning).</center>\n",
    "\n",
    "129 - (16 - 1) = 114 and 95 - (16 - 1) = 80\n",
    "\n",
    "We repeat the process 32 times with different kernels. The weights we need to learn with our optimization procedure are the 32 * 16 * 16 values used in the kernel windows.\n",
    "\n",
    "In PyTorch, we would write:"
   ]
  },
  {
   "cell_type": "code",
   "execution_count": 2,
   "id": "cf0dcd0b-75ae-40cf-a53d-5c33f2267aba",
   "metadata": {},
   "outputs": [
    {
     "data": {
      "text/plain": [
       "Conv2d(1, 32, kernel_size=(16, 16), stride=(1, 1))"
      ]
     },
     "execution_count": 2,
     "metadata": {},
     "output_type": "execute_result"
    }
   ],
   "source": [
    "torch.nn.Conv2d(in_channels=1, out_channels=32, kernel_size=16)"
   ]
  },
  {
   "cell_type": "markdown",
   "id": "3db7a66a-1f04-4b65-b96c-9d5eb4068116",
   "metadata": {},
   "source": [
    "## Max-pooling 2 * 2 kernel -> 32 Feature maps 57 * 40\n",
    "\n",
    "<img src=\"figures/max_pooling.png\" width=\"600\">\n",
    "<center>Maximum pooling (Fig. 6.5.1 from Dive into Deep Learning).</center>\n",
    "\n",
    "114 / 2 = 57 and 80 / 2 = 40\n",
    "\n",
    "In PyTorch, we would write:"
   ]
  },
  {
   "cell_type": "code",
   "execution_count": 3,
   "id": "ae669a8f-cc16-4e06-9de9-f725e3bb99ce",
   "metadata": {},
   "outputs": [
    {
     "data": {
      "text/plain": [
       "MaxPool2d(kernel_size=2, stride=2, padding=0, dilation=1, ceil_mode=False)"
      ]
     },
     "execution_count": 3,
     "metadata": {},
     "output_type": "execute_result"
    }
   ],
   "source": [
    "torch.nn.MaxPool2d(kernel_size=2)"
   ]
  },
  {
   "cell_type": "markdown",
   "id": "6d7451fd-908f-4353-a7ac-c9d519acdea8",
   "metadata": {},
   "source": [
    "## Description of neural network\n",
    "(from Supplemetary Information from Rouet-Leduc et al., 2020)\n",
    "\n",
    "The architecture of our CNN consists of three convolutional layers (with 32, 64, and 128 filters respectively, and each with a ReLu activation function, and one fully connected hidden layer (with 10 neurons and a sigmoid activation function), itself fully connected to the last visible layer, that has a sigmoid activation function as well. A max-pooling operation is applied after each convolution."
   ]
  },
  {
   "cell_type": "code",
   "execution_count": 4,
   "id": "a0fe2d86-59c9-490c-88ab-471af82a6439",
   "metadata": {},
   "outputs": [],
   "source": [
    "model = torch.nn.Sequential(nn.Conv2d(in_channels=1, out_channels=32, kernel_size=16),\n",
    "                            nn.ReLU(),\n",
    "                            nn.MaxPool2d(kernel_size=2),\n",
    "                            nn.Conv2d(in_channels=32, out_channels=64, kernel_size=8),\n",
    "                            nn.ReLU(),\n",
    "                            nn.MaxPool2d(kernel_size=2),\n",
    "                            nn.Conv2d(in_channels=64, out_channels=128, kernel_size=4),\n",
    "                            nn.Flatten(),\n",
    "                            nn.Linear(36608, 10),\n",
    "                            nn.Sigmoid(),\n",
    "                            nn.Linear(10, 1),\n",
    "                            nn.Sigmoid())"
   ]
  },
  {
   "cell_type": "markdown",
   "id": "78f2cac1-cd87-488a-9de7-8b1af7bbaee3",
   "metadata": {},
   "source": [
    "Let us have a look at the shape of a data point after each layer transformation."
   ]
  },
  {
   "cell_type": "code",
   "execution_count": 5,
   "id": "21d96d6c-84a8-4e52-9e1b-1a9db5c37638",
   "metadata": {},
   "outputs": [
    {
     "name": "stdout",
     "output_type": "stream",
     "text": [
      "Initial input shape: \t torch.Size([1, 1, 129, 95])\n",
      "Conv2d output shape: \t torch.Size([1, 32, 114, 80])\n",
      "ReLU output shape: \t torch.Size([1, 32, 114, 80])\n",
      "MaxPool2d output shape: \t torch.Size([1, 32, 57, 40])\n",
      "Conv2d output shape: \t torch.Size([1, 64, 50, 33])\n",
      "ReLU output shape: \t torch.Size([1, 64, 50, 33])\n",
      "MaxPool2d output shape: \t torch.Size([1, 64, 25, 16])\n",
      "Conv2d output shape: \t torch.Size([1, 128, 22, 13])\n",
      "Flatten output shape: \t torch.Size([1, 36608])\n",
      "Linear output shape: \t torch.Size([1, 10])\n",
      "Sigmoid output shape: \t torch.Size([1, 10])\n",
      "Linear output shape: \t torch.Size([1, 1])\n",
      "Sigmoid output shape: \t torch.Size([1, 1])\n"
     ]
    }
   ],
   "source": [
    "X = torch.rand(size=(1, 1, 129, 95), dtype=torch.float32)\n",
    "print('Initial input shape: \\t', X.shape)\n",
    "for layer in model:\n",
    "    X = layer(X)\n",
    "    print(layer.__class__.__name__, 'output shape: \\t', X.shape)"
   ]
  },
  {
   "cell_type": "markdown",
   "id": "1b446a13-b55a-44a1-9726-531a3bfd3739",
   "metadata": {},
   "source": [
    "# Example: LeNet-5 with images of digits"
   ]
  },
  {
   "cell_type": "markdown",
   "id": "46710f78-985b-4af0-ab07-60229081fa24",
   "metadata": {},
   "source": [
    "We load the MNIST dataset from PyTorch. It is a similar dataset as the images of digits from the previous labs, but images are now 28 * 28 = 784 pixels, and there are more data points in the training set and the test set."
   ]
  },
  {
   "cell_type": "code",
   "execution_count": 6,
   "id": "3d1551e4-42bc-4367-a958-4eb058849be3",
   "metadata": {},
   "outputs": [
    {
     "name": "stdout",
     "output_type": "stream",
     "text": [
      "Downloading http://yann.lecun.com/exdb/mnist/train-images-idx3-ubyte.gz to data/MNIST/raw/train-images-idx3-ubyte.gz\n"
     ]
    },
    {
     "name": "stderr",
     "output_type": "stream",
     "text": [
      "100.0%\n"
     ]
    },
    {
     "name": "stdout",
     "output_type": "stream",
     "text": [
      "Extracting data/MNIST/raw/train-images-idx3-ubyte.gz to data/MNIST/raw\n",
      "Downloading http://yann.lecun.com/exdb/mnist/train-labels-idx1-ubyte.gz to data/MNIST/raw/train-labels-idx1-ubyte.gz\n"
     ]
    },
    {
     "name": "stderr",
     "output_type": "stream",
     "text": [
      "102.8%\n"
     ]
    },
    {
     "name": "stdout",
     "output_type": "stream",
     "text": [
      "Extracting data/MNIST/raw/train-labels-idx1-ubyte.gz to data/MNIST/raw\n",
      "Downloading http://yann.lecun.com/exdb/mnist/t10k-images-idx3-ubyte.gz to data/MNIST/raw/t10k-images-idx3-ubyte.gz\n"
     ]
    },
    {
     "name": "stderr",
     "output_type": "stream",
     "text": [
      "100.0%\n"
     ]
    },
    {
     "name": "stdout",
     "output_type": "stream",
     "text": [
      "Extracting data/MNIST/raw/t10k-images-idx3-ubyte.gz to data/MNIST/raw\n",
      "Downloading http://yann.lecun.com/exdb/mnist/t10k-labels-idx1-ubyte.gz to data/MNIST/raw/t10k-labels-idx1-ubyte.gz\n"
     ]
    },
    {
     "name": "stderr",
     "output_type": "stream",
     "text": [
      "112.7%\n",
      "/opt/anaconda3/envs/uwdsgeo/lib/python3.9/site-packages/torchvision/datasets/mnist.py:479: UserWarning: The given NumPy array is not writeable, and PyTorch does not support non-writeable tensors. This means you can write to the underlying (supposedly non-writeable) NumPy array using the tensor. You may want to copy the array to protect its data or make it writeable before converting it to a tensor. This type of warning will be suppressed for the rest of this program. (Triggered internally at  /tmp/pip-req-build-h5re73co/torch/csrc/utils/tensor_numpy.cpp:143.)\n",
      "  return torch.from_numpy(parsed.astype(m[2], copy=False)).view(*s)\n"
     ]
    },
    {
     "name": "stdout",
     "output_type": "stream",
     "text": [
      "Extracting data/MNIST/raw/t10k-labels-idx1-ubyte.gz to data/MNIST/raw\n",
      "Processing...\n",
      "Done!\n"
     ]
    }
   ],
   "source": [
    "mnist_train = torchvision.datasets.MNIST(root=\"data\", train=True, transform=transforms.ToTensor(), download=True)\n",
    "mnist_test = torchvision.datasets.MNIST(root=\"data\", train=False, transform=transforms.ToTensor(), download=True)"
   ]
  },
  {
   "cell_type": "code",
   "execution_count": 7,
   "id": "a6be168c-979a-483f-a0c2-a02978f87f21",
   "metadata": {},
   "outputs": [
    {
     "name": "stdout",
     "output_type": "stream",
     "text": [
      "There are 60000 images in the training set and 10000 images in the test set.\n"
     ]
    }
   ],
   "source": [
    "print('There are {:d} images in the training set and {:d} images in the test set.'.format(len(mnist_train), len(mnist_test)))"
   ]
  },
  {
   "cell_type": "markdown",
   "id": "d86383ed-705a-40a8-8d4b-68d9d7d2d538",
   "metadata": {},
   "source": [
    "Let us have a look at a few images of digits."
   ]
  },
  {
   "cell_type": "code",
   "execution_count": 8,
   "id": "47f87e0c-f9dc-4c19-b8af-66d65c09146b",
   "metadata": {},
   "outputs": [
    {
     "data": {
      "image/png": "[encoded data removed]",
      "text/plain": [
       "<Figure size 576x576 with 9 Axes>"
      ]
     },
     "metadata": {
      "needs_background": "light"
     },
     "output_type": "display_data"
    }
   ],
   "source": [
    "figure = plt.figure(figsize=(8, 8))\n",
    "cols, rows = 3, 3\n",
    "for i in range(1, cols * rows + 1):\n",
    "    sample_idx = torch.randint(len(mnist_train), size=(1,)).item()\n",
    "    img, label = mnist_train[sample_idx]\n",
    "    figure.add_subplot(rows, cols, i)\n",
    "    plt.title('The label is ' + str(label))\n",
    "    plt.axis(\"off\")\n",
    "    plt.imshow(img.squeeze(), cmap=\"gray\")\n",
    "plt.show()"
   ]
  },
  {
   "cell_type": "markdown",
   "id": "8e6e5294-8cf9-426e-bad0-ee6c5a422444",
   "metadata": {},
   "source": [
    "We first define a function to reshape the image. For convolution neural networks, we can use the image as a 2D tensor, instead of flattening it before feeding it to the neural network."
   ]
  },
  {
   "cell_type": "code",
   "execution_count": 9,
   "id": "d688c20c-d17e-4c84-b1b8-8d40cdc4a915",
   "metadata": {},
   "outputs": [],
   "source": [
    "class Reshape(torch.nn.Module):\n",
    "    def forward(self, x):\n",
    "        return x.view(-1, 1, 28, 28)"
   ]
  },
  {
   "cell_type": "markdown",
   "id": "a6639567-19d2-4236-ad40-6c50a0777dff",
   "metadata": {},
   "source": [
    "We are going to use the LeNet-5 network architecture from LeCun et al. (1998)."
   ]
  },
  {
   "cell_type": "code",
   "execution_count": 10,
   "id": "d4d82720-344d-49c2-b36d-3e316b6b4a0e",
   "metadata": {},
   "outputs": [],
   "source": [
    "model = torch.nn.Sequential(Reshape(),\n",
    "                            nn.Conv2d(1, 6, kernel_size=5, padding=2),\n",
    "                            nn.Sigmoid(),\n",
    "                            nn.AvgPool2d(kernel_size=2, stride=2),\n",
    "                            nn.Conv2d(6, 16, kernel_size=5),\n",
    "                            nn.Sigmoid(),\n",
    "                            nn.AvgPool2d(kernel_size=2, stride=2),\n",
    "                            nn.Flatten(),\n",
    "                            nn.Linear(16 * 5 * 5, 120),\n",
    "                            nn.Sigmoid(),\n",
    "                            nn.Linear(120, 84),\n",
    "                            nn.Sigmoid(),\n",
    "                            nn.Linear(84, 10))"
   ]
  },
  {
   "cell_type": "markdown",
   "id": "6bdfdd32-1741-40af-9beb-6f844a86f87a",
   "metadata": {},
   "source": [
    "Let us have a look at the shape of a data point after each layer transformation."
   ]
  },
  {
   "cell_type": "code",
   "execution_count": 11,
   "id": "7928cb75-6914-4105-aa05-c70c4725c6f7",
   "metadata": {},
   "outputs": [
    {
     "name": "stdout",
     "output_type": "stream",
     "text": [
      "Initial input shape: \t torch.Size([1, 1, 28, 28])\n",
      "Reshape output shape: \t torch.Size([1, 1, 28, 28])\n",
      "Conv2d output shape: \t torch.Size([1, 6, 28, 28])\n",
      "Sigmoid output shape: \t torch.Size([1, 6, 28, 28])\n",
      "AvgPool2d output shape: \t torch.Size([1, 6, 14, 14])\n",
      "Conv2d output shape: \t torch.Size([1, 16, 10, 10])\n",
      "Sigmoid output shape: \t torch.Size([1, 16, 10, 10])\n",
      "AvgPool2d output shape: \t torch.Size([1, 16, 5, 5])\n",
      "Flatten output shape: \t torch.Size([1, 400])\n",
      "Linear output shape: \t torch.Size([1, 120])\n",
      "Sigmoid output shape: \t torch.Size([1, 120])\n",
      "Linear output shape: \t torch.Size([1, 84])\n",
      "Sigmoid output shape: \t torch.Size([1, 84])\n",
      "Linear output shape: \t torch.Size([1, 10])\n"
     ]
    }
   ],
   "source": [
    "X = torch.rand(size=(1, 1, 28, 28), dtype=torch.float32)\n",
    "print('Initial input shape: \\t', X.shape)\n",
    "for layer in model:\n",
    "    X = layer(X)\n",
    "    print(layer.__class__.__name__, 'output shape: \\t', X.shape)"
   ]
  },
  {
   "cell_type": "markdown",
   "id": "8f776f68-9a31-4372-aa29-35e16ba8bdb3",
   "metadata": {},
   "source": [
    "We can now prepare the training set and the test set for data loading."
   ]
  },
  {
   "cell_type": "code",
   "execution_count": 12,
   "id": "f2ff5b36-880d-4560-849e-8cfad467fa20",
   "metadata": {},
   "outputs": [],
   "source": [
    "train_dataloader = DataLoader(mnist_train, batch_size=256)\n",
    "test_dataloader = DataLoader(mnist_test, batch_size=256)"
   ]
  },
  {
   "cell_type": "markdown",
   "id": "842881a8-08e9-4c9f-b4fa-4c9c63655e31",
   "metadata": {},
   "source": [
    "Let us define how to train our neural network."
   ]
  },
  {
   "cell_type": "code",
   "execution_count": 19,
   "id": "f61d7b24-f794-498a-b53e-45b48c5cbe68",
   "metadata": {},
   "outputs": [],
   "source": [
    "def train(model, n_epochs, lr, trainloader, testloader=None):\n",
    "\n",
    "    # Save loss and accuracy for plotting\n",
    "    loss_time = np.zeros(n_epochs)\n",
    "    accuracy_time = np.zeros(n_epochs)\n",
    "\n",
    "    # Initialize weights\n",
    "    def init_weights(m):\n",
    "        if type(m) == nn.Linear or type(m) == nn.Conv2d:\n",
    "            nn.init.xavier_uniform_(m.weight)\n",
    "    model.apply(init_weights)\n",
    "\n",
    "    # Define loss and optimization method\n",
    "    optimizer = torch.optim.SGD(model.parameters(), lr=lr)\n",
    "    loss = nn.CrossEntropyLoss()\n",
    "\n",
    "    # Loop on number of epochs\n",
    "    for epoch in range(n_epochs):\n",
    "        # Initialize the loss\n",
    "        running_loss = 0\n",
    "        model.train()\n",
    "        # Loop on samples in train set\n",
    "        for i, (X, y) in enumerate(trainloader):\n",
    "            optimizer.zero_grad()\n",
    "            y_hat = model(X)\n",
    "            l = loss(y_hat, y)\n",
    "            l.backward()\n",
    "            optimizer.step()\n",
    "            # Add the value of the loss for this sample\n",
    "            running_loss += l.item()\n",
    "        # Save loss at the end of each epoch\n",
    "        loss_time[epoch] = running_loss / len(trainloader)\n",
    "\n",
    "        # After each epoch, evaluate the performance on the test set\n",
    "        if testloader is not None:\n",
    "            correct = 0\n",
    "            total = 0\n",
    "            # We evaluate the model, so we do not need the gradient\n",
    "            with torch.no_grad():\n",
    "                # Loop on samples in test set\n",
    "                for i, (X, y) in enumerate(testloader):\n",
    "                    y_hat = model(X)\n",
    "                    # Compare predicted label and true label\n",
    "                    _, predicted = torch.max(y_hat.data, 1)\n",
    "                    total += y.size(0)\n",
    "                    correct += (predicted == y).sum().item()\n",
    "            # Save accuracy at the end of each epochs\n",
    "            accuracy_time[epoch] = 100 * correct / total\n",
    "    \n",
    "        # Print intermediate results on screen\n",
    "        if testloader is not None:\n",
    "            print('[Epoch %d] loss: %.3f - accuracy: %.3f' %\n",
    "              (epoch + 1, running_loss / len(trainloader), 100 * correct / total))\n",
    "        else:\n",
    "            print('[Epoch %d] loss: %.3f' %\n",
    "              (epoch + 1, running_loss / len(trainloader)))\n",
    "\n",
    "    # Save history of loss and test accuracy\n",
    "    if testloader is not None:\n",
    "        return (loss_time, accuracy_time)\n",
    "    else:\n",
    "        return (loss_time)"
   ]
  },
  {
   "cell_type": "code",
   "execution_count": 20,
   "id": "c20db422-9e99-448f-bef9-10e98f070b16",
   "metadata": {},
   "outputs": [
    {
     "name": "stdout",
     "output_type": "stream",
     "text": [
      "[Epoch 1] loss: 2.318 - accuracy: 10.100\n",
      "[Epoch 2] loss: 2.302 - accuracy: 10.800\n",
      "[Epoch 3] loss: 1.926 - accuracy: 59.660\n",
      "[Epoch 4] loss: 0.553 - accuracy: 81.790\n",
      "[Epoch 5] loss: 0.310 - accuracy: 87.750\n",
      "[Epoch 6] loss: 0.230 - accuracy: 90.520\n",
      "[Epoch 7] loss: 0.181 - accuracy: 92.460\n",
      "[Epoch 8] loss: 0.149 - accuracy: 94.200\n",
      "[Epoch 9] loss: 0.126 - accuracy: 95.240\n",
      "[Epoch 10] loss: 0.110 - accuracy: 95.750\n"
     ]
    }
   ],
   "source": [
    "(loss, accuracy) = train(model, 10, 0.9, train_dataloader, test_dataloader)"
   ]
  },
  {
   "cell_type": "code",
   "execution_count": 21,
   "id": "01f8126c-daf4-4759-aecf-884da835835c",
   "metadata": {},
   "outputs": [
    {
     "data": {
      "image/png": "[encoded data removed]",
      "text/plain": [
       "<Figure size 432x288 with 2 Axes>"
      ]
     },
     "metadata": {
      "needs_background": "light"
     },
     "output_type": "display_data"
    }
   ],
   "source": [
    "fig, ax1 = plt.subplots()\n",
    "\n",
    "color = 'tab:red'\n",
    "ax1.set_xlabel('Epoch')\n",
    "ax1.set_ylabel('Loss', color=color)\n",
    "ax1.plot(np.arange(1, 11), loss, color=color)\n",
    "ax1.tick_params(axis='y', labelcolor=color)\n",
    "\n",
    "ax2 = ax1.twinx()\n",
    "\n",
    "color = 'tab:blue'\n",
    "ax2.set_ylabel('Correct predictions', color=color)\n",
    "ax2.plot(np.arange(1, 11), accuracy, color=color)\n",
    "ax2.tick_params(axis='y', labelcolor=color)\n",
    "\n",
    "fig.tight_layout()\n",
    "plt.show()"
   ]
  },
  {
   "cell_type": "code",
   "execution_count": null,
   "id": "27cf511f-37c8-4c37-8b73-42f32403d24a",
   "metadata": {},
   "outputs": [],
   "source": []
  }
 ],
 "metadata": {
  "kernelspec": {
   "display_name": "Python 3",
   "language": "python",
   "name": "python3"
  },
  "language_info": {
   "codemirror_mode": {
    "name": "ipython",
    "version": 3
   },
   "file_extension": ".py",
   "mimetype": "text/x-python",
   "name": "python",
   "nbconvert_exporter": "python",
   "pygments_lexer": "ipython3",
   "version": "3.9.4"
  }
 },
 "nbformat": 4,
 "nbformat_minor": 5
}
