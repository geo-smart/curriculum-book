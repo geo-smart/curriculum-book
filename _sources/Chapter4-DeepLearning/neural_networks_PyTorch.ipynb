{
 "cells": [
  {
   "cell_type": "markdown",
   "id": "3b2868f4",
   "metadata": {},
   "source": [
    "# 4.7 Using PyTorch to build, train, and use neural networks: A short introduction\n",
    "\n",
    "\n",
    ":::{important}\n",
    "⚠️ Under Construction !\n",
    ":::\n",
    "\n"
   ]
  },
  {
   "cell_type": "code",
   "execution_count": 1,
   "id": "93d192da",
   "metadata": {},
   "outputs": [],
   "source": [
    "import glob\n",
    "import matplotlib.pyplot as plt\n",
    "import numpy as np\n",
    "import pandas as pd\n",
    "import pickle\n",
    "import torch\n",
    "import torchvision\n",
    "import torch.nn as nn\n",
    "import torch.optim as optim \n",
    "from torchvision.transforms import transforms\n",
    "from torch.utils.data import DataLoader\n",
    "from torch.utils.data import Dataset"
   ]
  },
  {
   "cell_type": "markdown",
   "id": "b8218047",
   "metadata": {},
   "source": [
    "## Reading a dataset and converting into a format readable by PyTorch"
   ]
  },
  {
   "cell_type": "markdown",
   "id": "43aaa4a0",
   "metadata": {},
   "source": [
    "We are going to do multi-class classification. We have a dataset of images of digits (0 to 9). Each image is made of 16 * 16 pixels in grey scale. The training file and the test file are made of 257 columns: the first column is the label, the next 256 columns are the corresponding value for each of the 16 * 16 = 256 pixels. There is one image per row."
   ]
  },
  {
   "cell_type": "markdown",
   "id": "089b8008",
   "metadata": {},
   "source": [
    "Let us start by reading the data."
   ]
  },
  {
   "cell_type": "code",
   "execution_count": 2,
   "id": "49bd62ed",
   "metadata": {},
   "outputs": [],
   "source": [
    "df_train = pd.read_csv('zip.train', header=None, sep='\\s+')\n",
    "df_test = pd.read_csv('zip.test', header=None, sep='\\s+')"
   ]
  },
  {
   "cell_type": "code",
   "execution_count": 3,
   "id": "b4955319",
   "metadata": {},
   "outputs": [
    {
     "name": "stdout",
     "output_type": "stream",
     "text": [
      "There are 7291 images in the training set and 2007 images in the test set.\n"
     ]
    }
   ],
   "source": [
    "print('There are {:d} images in the training set and {:d} images in the test set.'.format(len(df_train), len(df_test)))"
   ]
  },
  {
   "cell_type": "markdown",
   "id": "189c83a2",
   "metadata": {},
   "source": [
    "We are going to divide the datasets into images and the corresponding labels."
   ]
  },
  {
   "cell_type": "code",
   "execution_count": 4,
   "id": "ac79c052",
   "metadata": {},
   "outputs": [],
   "source": [
    "train_labels = df_train.iloc[:, 0]\n",
    "train_images = df_train.iloc[:, 1:]\n",
    "test_labels = df_test.iloc[:, 0]\n",
    "test_images = df_test.iloc[:, 1:]"
   ]
  },
  {
   "cell_type": "code",
   "execution_count": 5,
   "id": "ce945536",
   "metadata": {},
   "outputs": [
    {
     "name": "stdout",
     "output_type": "stream",
     "text": [
      "The labels are:  [0, 1, 2, 3, 4, 5, 6, 7, 8, 9]\n"
     ]
    }
   ],
   "source": [
    "print('The labels are: ', sorted(train_labels.unique().astype(int).tolist()))"
   ]
  },
  {
   "cell_type": "markdown",
   "id": "446e7ca9",
   "metadata": {},
   "source": [
    "We are now going to convert the training set and the test set into a PyTorch dataset."
   ]
  },
  {
   "cell_type": "code",
   "execution_count": 6,
   "id": "25706a89",
   "metadata": {},
   "outputs": [],
   "source": [
    "# Dataset is a class already defined in PyTorch. We are going to create a subclass of Dataset\n",
    "class ZipDataset(Dataset):\n",
    "    def __init__(self, images, labels=None, transforms=None):\n",
    "        # Let us define the attributes of a ZipDataset\n",
    "        self.X = images # that will be train_images or test_images\n",
    "        self.y = labels # that will be train_labels or test_labels\n",
    "        # When we create an object of class ZipDataset, we can specify the transformation to apply to the data \n",
    "        self.transforms = transforms\n",
    "         \n",
    "    def __len__(self):\n",
    "        # The length of the dataset is the number of images in the dataset\n",
    "        return (len(self.X))\n",
    "    \n",
    "    def __getitem__(self, i):\n",
    "        # How to access one pair of (image, label) from the dataset?\n",
    "        # We access the ith row (which contains the 16*16 = 256 pixels of an image)\n",
    "        data = self.X.iloc[i, :]\n",
    "        # We tranform it into a numpy array and reshape it to an image format\n",
    "        data = np.asarray(data).reshape(16, 16, 1)\n",
    "        # We apply the required transformation to the image\n",
    "        if self.transforms:\n",
    "            data = self.transforms(data)\n",
    "        # If there is a label associated to it, we return it together with the image\n",
    "        if self.y is not None:\n",
    "            return (data, self.y[i])\n",
    "        else:\n",
    "            return data"
   ]
  },
  {
   "cell_type": "markdown",
   "id": "8b1c653a",
   "metadata": {},
   "source": [
    "Now let us create our training and test sets."
   ]
  },
  {
   "cell_type": "code",
   "execution_count": 7,
   "id": "173f15d1",
   "metadata": {},
   "outputs": [],
   "source": [
    "train_data = ZipDataset(train_images, train_labels, transforms.ToTensor())\n",
    "test_data = ZipDataset(test_images, test_labels, transforms.ToTensor())"
   ]
  },
  {
   "cell_type": "markdown",
   "id": "59c9c1fb",
   "metadata": {},
   "source": [
    "Maybe we could have a look at one of the images."
   ]
  },
  {
   "cell_type": "code",
   "execution_count": 8,
   "id": "3c3a1f52",
   "metadata": {},
   "outputs": [],
   "source": [
    "index = 1048"
   ]
  },
  {
   "cell_type": "code",
   "execution_count": 9,
   "id": "b80074a1",
   "metadata": {},
   "outputs": [],
   "source": [
    "data_point = train_data[index]\n",
    "image = data_point[0]\n",
    "label = data_point[1]"
   ]
  },
  {
   "cell_type": "markdown",
   "id": "02eba3fc",
   "metadata": {},
   "source": [
    "Our image looks like this:"
   ]
  },
  {
   "cell_type": "code",
   "execution_count": 10,
   "id": "04035da2",
   "metadata": {},
   "outputs": [
    {
     "name": "stdout",
     "output_type": "stream",
     "text": [
      "The corresponding label is 7\n"
     ]
    },
    {
     "data": {
      "image/png": "[encoded data removed]",
      "text/plain": [
       "<Figure size 432x288 with 1 Axes>"
      ]
     },
     "metadata": {
      "needs_background": "light"
     },
     "output_type": "display_data"
    }
   ],
   "source": [
    "image = image[0,:,:].numpy()\n",
    "plt.imshow(image)\n",
    "print('The corresponding label is ' + str(int(label)))"
   ]
  },
  {
   "cell_type": "markdown",
   "id": "76108b80-314c-4fb3-8827-edae85482104",
   "metadata": {
    "tags": []
   },
   "source": [
    "Let us look at an alternative way of loading the dataset if each image is in a different file."
   ]
  },
  {
   "cell_type": "code",
   "execution_count": 11,
   "id": "22a6c2ef-ff9e-4e63-bf05-8c59d9cc4847",
   "metadata": {},
   "outputs": [],
   "source": [
    "# We create another subclass of Dataset for the case where each image is in a different file\n",
    "class CustomDataset(Dataset):\n",
    "    def __init__(self, images_dir, labels_file=None, transforms=None):\n",
    "        if labels_file is not None:\n",
    "            filename = images_dir + '/' + labels_file # that will be train/label.pkl or test/label.pkl\n",
    "            self.labels = pickle.load(open(filename, 'rb'))\n",
    "        self.images_dir = images_dir # that will be train or test\n",
    "        # When we create an object of class CustomDataset, we can specify the transformation to apply to the data \n",
    "        self.transforms = transforms\n",
    "\n",
    "    def __len__(self):\n",
    "        # The length of the dataset is the number of images in the dataset\n",
    "        return len(glob.glob1(self.images_dir, '*.pkl')) - 1\n",
    "\n",
    "    def __getitem__(self, idx):\n",
    "        # How to access one pair of (image, label) from the dataset?\n",
    "        # We access the ith value of the label array and the ith file in images_dir\n",
    "        label = self.labels[idx]\n",
    "        image_path = self.images_dir + '/image_' + str(idx) + '.pkl'\n",
    "        image = pickle.load(open(image_path, 'rb'))\n",
    "        # We apply the required transformation to the image\n",
    "        if self.transforms:\n",
    "            image = self.transforms(image)\n",
    "        # If there is a label associated to it, we return it together with the image\n",
    "        if self.labels is not None:\n",
    "            return (image, label)\n",
    "        else:\n",
    "            return image"
   ]
  },
  {
   "cell_type": "markdown",
   "id": "b2644d17-3bd3-4216-8942-88c5b52abcd5",
   "metadata": {},
   "source": [
    "Now let us create our training and test sets."
   ]
  },
  {
   "cell_type": "code",
   "execution_count": 12,
   "id": "5ab8acea-b925-4c6b-87fb-246bf2e08064",
   "metadata": {},
   "outputs": [],
   "source": [
    "train_data_alt = CustomDataset('train', 'label.pkl', transforms.ToTensor())\n",
    "test_data_alt = CustomDataset('test', 'label.pkl', transforms.ToTensor())"
   ]
  },
  {
   "cell_type": "markdown",
   "id": "9148f1e3-0d4c-4047-9197-842820dea9bf",
   "metadata": {},
   "source": [
    "We can now have a look at one of the images."
   ]
  },
  {
   "cell_type": "code",
   "execution_count": 13,
   "id": "81e54d5b-ffea-46a6-baa8-5bbb96620a0a",
   "metadata": {},
   "outputs": [],
   "source": [
    "index = 1048"
   ]
  },
  {
   "cell_type": "code",
   "execution_count": 14,
   "id": "c304bf43-e479-4907-9b69-70d312fe2407",
   "metadata": {},
   "outputs": [],
   "source": [
    "data_point = train_data_alt[index]\n",
    "image = data_point[0]\n",
    "label = data_point[1]"
   ]
  },
  {
   "cell_type": "markdown",
   "id": "2dc7b354-f731-4ca5-aef2-1e6e4a7a95ff",
   "metadata": {},
   "source": [
    "Our image looks like this:"
   ]
  },
  {
   "cell_type": "code",
   "execution_count": 15,
   "id": "9aa3d49f-e0e8-41b2-b3b7-1f16afba3b5e",
   "metadata": {},
   "outputs": [
    {
     "name": "stdout",
     "output_type": "stream",
     "text": [
      "The corresponding label is 7\n"
     ]
    },
    {
     "data": {
      "image/png": "[encoded data removed]",
      "text/plain": [
       "<Figure size 432x288 with 1 Axes>"
      ]
     },
     "metadata": {
      "needs_background": "light"
     },
     "output_type": "display_data"
    }
   ],
   "source": [
    "image = image[0,:,:].numpy()\n",
    "plt.imshow(image)\n",
    "print('The corresponding label is ' + str(int(label)))"
   ]
  },
  {
   "cell_type": "markdown",
   "id": "3ffcfebf",
   "metadata": {},
   "source": [
    "The simplest neural network is a logistic regression\n",
    "\n",
    "$y = step( \\sum_{i=1}^3  (w_i x_i + b_i))$,\n",
    "\n",
    "\n",
    "where $y$ is the output, $w_i$, iare the weights, $b_i$ is the biases in each neuron. It is called a Threshold Logic Unit TLU because it outputs a linear combination of the inputs, and if the result exceeds a threshold, it outputs the positive class.\n",
    "\n",
    "![Single Neuron](figures/TLU.png)\n",
    "<!-- ![Single Neuron](singleneuron.svg) -->\n",
    "\n",
    "A perceptron is a single kayer of TLUs, which each TLU connected to all the inputs. \n",
    "\n",
    "## Logistic regression: It is just a one layer neural network\n"
   ]
  },
  {
   "cell_type": "code",
   "execution_count": 16,
   "id": "0779ab31",
   "metadata": {},
   "outputs": [],
   "source": [
    "# We create a subclass of neural networks: This one will just have one layer\n",
    "class NN1(nn.Module):\n",
    "    \"\"\"\n",
    "    Logistic regression with more than 2 classes\n",
    "    \"\"\"\n",
    "    def __init__(self, size_img, num_classes):\n",
    "        # Here we define all the functions that we will use during the forward part (data -> prediction)\n",
    "        super(NN1, self).__init__()\n",
    "        self.flatten = nn.Flatten() # go from a 16*16 tensor to a 256*1 tensor\n",
    "        self.size_img = size_img # number of pixels in an image\n",
    "        self.layer1 = nn.Linear(size_img, num_classes) # y = wx + b with w = 10*256 (10 digits * 256 pixels)\n",
    "\n",
    "    def forward(self, x):\n",
    "        # Here we explain in which order to use the functions defined above\n",
    "        x = self.flatten(x)\n",
    "        logits = self.layer1(x)\n",
    "        return logits"
   ]
  },
  {
   "cell_type": "markdown",
   "id": "0f1b482f-b41e-4809-8a60-240090bd003f",
   "metadata": {},
   "source": [
    "We now create a model of the class NN1."
   ]
  },
  {
   "cell_type": "code",
   "execution_count": 17,
   "id": "5d903414",
   "metadata": {},
   "outputs": [],
   "source": [
    "model = NN1(16*16, 10)"
   ]
  },
  {
   "cell_type": "markdown",
   "id": "76cfd82f-fc66-467a-8db0-15970f375332",
   "metadata": {},
   "source": [
    "We also need to define the loss. Remember than with two classes (binary classification), we had defined:\n",
    "\n",
    "$\\log \\frac{P(Y = 1)}{P(Y = 0)} = w x + b = z$.\n",
    "\n",
    "As $P(Y = 0) + P(Y = 1) = 1$, we get $P(Y = 1) = \\frac{1}{1 + e^{-z}} = \\frac{1}{1 + e^{- w x - b}}$.\n",
    "\n",
    "We can then write the probability that $Y$ takes the value $y$ (with $y$ equal to 0 or 1):\n",
    "\n",
    "$P(Y = y) = \\left(\\frac{1}{1 + e^{-z}}\\right)^y \\left(1 - \\frac{1}{1 + e^{-z}}\\right)^{1 - y}$\n",
    "\n",
    "Finally, we defined the loss:\n",
    "\n",
    "$\\mathcal{L} = - \\log P(Y = y) = - (y \\log \\hat{y} + (1 - y) \\log (1 - \\hat{y})$ with $\\hat{y} = \\frac{1}{1 + e^{-z}}$.\n",
    "\n",
    "We wanted to find $w$ and $b$ such that $P(Y = y)$ is maximum, which is equivalent to minimizing the loss $\\mathcal{L}$."
   ]
  },
  {
   "cell_type": "markdown",
   "id": "759c9a60-601c-4c73-a612-61c4e421994a",
   "metadata": {},
   "source": [
    "Now with $K$ classes, we write similarly:\n",
    "\n",
    "$\\log \\frac{P(Y = k)}{P(Y = K)} = (w_k - w_K) x + (b_k - b_K)$, which gives us:\n",
    "\n",
    "$P(Y = k) = \\frac{\\exp(w_k x + b_k)}{\\sum_{j = 1}^K \\exp(w_j x + b_j)}$\n",
    "\n",
    "This is called the _softmax_ function. Once we have found the values of the $w_k$ and $b_k$ for $k = 1 , \\cdots , K$, we can compute the values of the $P(Y = k)$. We then look for which value of $k$ $P(Y = k)$ is maximal and we classify this sample as class $k$.\n",
    "\n",
    "Similarly, we define the loss with $K$ classes:\n",
    "\n",
    "$\\mathcal{L} = - \\sum_{k = 1}^K y_k \\log \\frac{\\exp(w_k x + b_k)}{\\sum_{j = 1}^K \\exp(w_j x + b_j)}$. We have $y_k = 1$ if the true label associated with the sample $x$ is $k$, otherwise $y_k = 0$.\n",
    "\n",
    "This is called the _cross-entropy loss_."
   ]
  },
  {
   "cell_type": "code",
   "execution_count": 18,
   "id": "1078e1fa-a6ac-41cc-9fa0-ccd29d6efcb3",
   "metadata": {},
   "outputs": [],
   "source": [
    "criterion = nn.CrossEntropyLoss()"
   ]
  },
  {
   "cell_type": "markdown",
   "id": "a92b5cad-01f9-47c9-846b-161658c71652",
   "metadata": {},
   "source": [
    "We also need to define the gradient descent method, that we are going to use. We need to specify the learning rate."
   ]
  },
  {
   "cell_type": "code",
   "execution_count": 19,
   "id": "bf18464e-3d49-4890-8c17-cdd5c748c622",
   "metadata": {},
   "outputs": [],
   "source": [
    "optimizer = optim.SGD(model.parameters(), lr=0.001)"
   ]
  },
  {
   "cell_type": "markdown",
   "id": "7a89fdd6-7f1f-4355-a0f0-42b8dff0923c",
   "metadata": {},
   "source": [
    "With stochastic gradient descent, we take the gradient and update the parameters of the model after each data sample. We need to define dataloaders that allow us to iterate over the data."
   ]
  },
  {
   "cell_type": "code",
   "execution_count": 20,
   "id": "2cd68361",
   "metadata": {},
   "outputs": [],
   "source": [
    "trainloader = DataLoader(train_data)\n",
    "testloader = DataLoader(test_data)"
   ]
  },
  {
   "cell_type": "markdown",
   "id": "0600d926-26c6-4cc6-acea-bdd6f937912e",
   "metadata": {},
   "source": [
    "Let us now define how to train the model."
   ]
  },
  {
   "cell_type": "code",
   "execution_count": 21,
   "id": "fd94278f-bd3e-4092-9a29-b4367cd87762",
   "metadata": {},
   "outputs": [],
   "source": [
    "def train(model, n_epochs, trainloader, testloader=None):\n",
    "\n",
    "    # Define loss and optimization method\n",
    "    criterion = nn.CrossEntropyLoss()\n",
    "    optimizer = optim.SGD(model.parameters(), lr=0.001)\n",
    "    \n",
    "    # Save loss and error for plotting\n",
    "    loss_time = np.zeros(n_epochs)\n",
    "    error_time = np.zeros(n_epochs)\n",
    "\n",
    "    # Loop on number of epochs\n",
    "    for epoch in range(n_epochs):\n",
    "        # Initialize the loss\n",
    "        running_loss = 0\n",
    "        # Loop on samples in train set\n",
    "        for data in trainloader:\n",
    "            # Get the sample and modify the format for PyTorch\n",
    "            inputs, labels = data[0], data[1]\n",
    "            inputs = inputs.float() \n",
    "            labels = labels.long()\n",
    "            # Set the parameter gradients to zero\n",
    "            optimizer.zero_grad()\n",
    "            outputs = model(inputs)\n",
    "            loss = criterion(outputs, labels)\n",
    "            # Propagate the loss backward\n",
    "            loss.backward()\n",
    "            # Update the gradients\n",
    "            optimizer.step()\n",
    "            # Add the value of the loss for this sample\n",
    "            running_loss += loss.item()\n",
    "        # Save loss at the end of each epoch\n",
    "        loss_time[epoch] = running_loss/len(trainloader)\n",
    "\n",
    "        # After each epoch, evaluate the performance on the test set\n",
    "        if testloader is not None:\n",
    "            correct = 0\n",
    "            total = 0\n",
    "            # We evaluate the model, so we do not need the gradient\n",
    "            with torch.no_grad():\n",
    "                # Loop on samples in test set\n",
    "                for data in testloader:\n",
    "                    # Get the sample and modify the format for PyTorch\n",
    "                    inputs, labels = data[0], data[1]\n",
    "                    inputs = inputs.float() \n",
    "                    labels = labels.long()\n",
    "                    # Use model for sample in the test set\n",
    "                    outputs = model(inputs)\n",
    "                    # Compare predicted label and true label\n",
    "                    _, predicted = torch.max(outputs.data, 1)\n",
    "                    total += labels.size(0)\n",
    "                    correct += (predicted == labels).sum().item()\n",
    "            # Save error at the end of each epochs\n",
    "            error_time[epoch] = 100 * correct / total\n",
    "    \n",
    "        # Print intermediate results on screen\n",
    "        if testloader is not None:\n",
    "            print('[Epoch %d] loss: %.3f - error: %.3f' %\n",
    "              (epoch + 1, running_loss/len(trainloader), 100 * correct / total))\n",
    "        else:\n",
    "            print('[Epoch %d] loss: %.3f' %\n",
    "              (epoch + 1, running_loss/len(trainloader)))\n",
    "\n",
    "    # Save history of loss and test error\n",
    "    if testloader is not None:\n",
    "        return (loss_time, error_time)\n",
    "    else:\n",
    "        return (loss_time)"
   ]
  },
  {
   "cell_type": "code",
   "execution_count": 22,
   "id": "62b1c67f",
   "metadata": {},
   "outputs": [
    {
     "name": "stdout",
     "output_type": "stream",
     "text": [
      "[Epoch 1] loss: 0.592 - error: 88.142\n",
      "[Epoch 2] loss: 0.292 - error: 89.586\n",
      "[Epoch 3] loss: 0.246 - error: 90.284\n",
      "[Epoch 4] loss: 0.222 - error: 90.433\n",
      "[Epoch 5] loss: 0.207 - error: 90.732\n",
      "[Epoch 6] loss: 0.196 - error: 91.031\n",
      "[Epoch 7] loss: 0.188 - error: 91.281\n",
      "[Epoch 8] loss: 0.181 - error: 91.480\n",
      "[Epoch 9] loss: 0.175 - error: 91.679\n",
      "[Epoch 10] loss: 0.170 - error: 91.629\n"
     ]
    }
   ],
   "source": [
    "(loss, error) = train(model, 10, trainloader, testloader)"
   ]
  },
  {
   "cell_type": "markdown",
   "id": "46aa7522-3c26-4cac-a644-9a74effb9f16",
   "metadata": {},
   "source": [
    "Let us now plot the evolution of the loss and the percentage of correct predictions with time:"
   ]
  },
  {
   "cell_type": "code",
   "execution_count": 23,
   "id": "9d81060c-2b41-4be7-a337-4fb41942fa21",
   "metadata": {},
   "outputs": [
    {
     "data": {
      "image/png": "[encoded data removed]",
      "text/plain": [
       "<Figure size 432x288 with 2 Axes>"
      ]
     },
     "metadata": {
      "needs_background": "light"
     },
     "output_type": "display_data"
    }
   ],
   "source": [
    "fig, ax1 = plt.subplots()\n",
    "\n",
    "color = 'tab:red'\n",
    "ax1.set_xlabel('Epoch')\n",
    "ax1.set_ylabel('Loss', color=color)\n",
    "ax1.plot(np.arange(1, 11), loss, color=color)\n",
    "ax1.tick_params(axis='y', labelcolor=color)\n",
    "\n",
    "ax2 = ax1.twinx()\n",
    "\n",
    "color = 'tab:blue'\n",
    "ax2.set_ylabel('Correct predictions', color=color)\n",
    "ax2.plot(np.arange(1, 11), error, color=color)\n",
    "ax2.tick_params(axis='y', labelcolor=color)\n",
    "\n",
    "fig.tight_layout()\n",
    "plt.show()"
   ]
  },
  {
   "cell_type": "markdown",
   "id": "d6fb58be-cc4c-4431-8243-d1ab27e8ab28",
   "metadata": {},
   "source": [
    "With stochastic gradient descent, we can also take the gradient over a subset of the sample (batch) and update the model after each batch. We can define the number of samples of the batch when we create the dataloaders"
   ]
  },
  {
   "cell_type": "code",
   "execution_count": 24,
   "id": "29f36607-124c-41b5-a8ad-f32bf0de2f4f",
   "metadata": {},
   "outputs": [],
   "source": [
    "trainloader = DataLoader(train_data, batch_size=128, shuffle=True)\n",
    "testloader = DataLoader(test_data, batch_size=128, shuffle=True)"
   ]
  },
  {
   "cell_type": "markdown",
   "id": "ee0b7045-b7ca-486a-82dd-7dd4bf180b8c",
   "metadata": {},
   "source": [
    "Let us now train the model with batches. We recreate the model (otherwise, the training starts where we have ended in the previous cell)."
   ]
  },
  {
   "cell_type": "code",
   "execution_count": 25,
   "id": "70cb43ec-ef2f-4268-afb1-3cf571991bce",
   "metadata": {},
   "outputs": [],
   "source": [
    "model = NN1(16*16, 10)"
   ]
  },
  {
   "cell_type": "code",
   "execution_count": 26,
   "id": "2b16a5fb-649e-443e-82da-bba9f5d9c512",
   "metadata": {},
   "outputs": [
    {
     "name": "stdout",
     "output_type": "stream",
     "text": [
      "[Epoch 1] loss: 2.255 - error: 28.849\n",
      "[Epoch 2] loss: 2.036 - error: 37.419\n",
      "[Epoch 3] loss: 1.861 - error: 44.694\n",
      "[Epoch 4] loss: 1.718 - error: 51.221\n",
      "[Epoch 5] loss: 1.599 - error: 57.399\n",
      "[Epoch 6] loss: 1.496 - error: 62.033\n",
      "[Epoch 7] loss: 1.407 - error: 65.919\n",
      "[Epoch 8] loss: 1.329 - error: 68.211\n",
      "[Epoch 9] loss: 1.260 - error: 70.404\n",
      "[Epoch 10] loss: 1.198 - error: 72.347\n",
      "[Epoch 11] loss: 1.144 - error: 73.941\n",
      "[Epoch 12] loss: 1.094 - error: 75.286\n",
      "[Epoch 13] loss: 1.049 - error: 76.283\n",
      "[Epoch 14] loss: 1.009 - error: 77.180\n",
      "[Epoch 15] loss: 0.972 - error: 78.127\n",
      "[Epoch 16] loss: 0.939 - error: 78.874\n",
      "[Epoch 17] loss: 0.908 - error: 79.671\n",
      "[Epoch 18] loss: 0.879 - error: 80.169\n",
      "[Epoch 19] loss: 0.853 - error: 80.568\n",
      "[Epoch 20] loss: 0.829 - error: 80.917\n"
     ]
    }
   ],
   "source": [
    "(loss, error) = train(model, 20, trainloader, testloader)"
   ]
  },
  {
   "cell_type": "code",
   "execution_count": 27,
   "id": "67af1811-a033-4fd4-9f8e-e4a1e8bcd03f",
   "metadata": {},
   "outputs": [
    {
     "data": {
      "image/png": "[encoded data removed]",
      "text/plain": [
       "<Figure size 432x288 with 2 Axes>"
      ]
     },
     "metadata": {
      "needs_background": "light"
     },
     "output_type": "display_data"
    }
   ],
   "source": [
    "fig, ax1 = plt.subplots()\n",
    "\n",
    "color = 'tab:red'\n",
    "ax1.set_xlabel('Epoch')\n",
    "ax1.set_ylabel('Loss', color=color)\n",
    "ax1.plot(np.arange(1, 21), loss, color=color)\n",
    "ax1.tick_params(axis='y', labelcolor=color)\n",
    "\n",
    "ax2 = ax1.twinx()\n",
    "\n",
    "color = 'tab:blue'\n",
    "ax2.set_ylabel('Correct predictions', color=color)\n",
    "ax2.plot(np.arange(1, 21), error, color=color)\n",
    "ax2.tick_params(axis='y', labelcolor=color)\n",
    "\n",
    "fig.tight_layout()\n",
    "plt.show()"
   ]
  },
  {
   "cell_type": "markdown",
   "id": "1e0c57a3-4cdd-45ec-a823-befa95c8671f",
   "metadata": {},
   "source": [
    "We could also use the dataset in the alternative format."
   ]
  },
  {
   "cell_type": "code",
   "execution_count": 28,
   "id": "36d98272-4d83-40ef-a55f-e3e5a926e32f",
   "metadata": {},
   "outputs": [],
   "source": [
    "trainloader_alt = DataLoader(train_data_alt)\n",
    "testloader_alt = DataLoader(test_data_alt)"
   ]
  },
  {
   "cell_type": "code",
   "execution_count": 29,
   "id": "1b8b1595-bfce-4cc7-8e66-beb9f1b3a377",
   "metadata": {},
   "outputs": [],
   "source": [
    "model = NN1(16*16, 10)"
   ]
  },
  {
   "cell_type": "code",
   "execution_count": 30,
   "id": "76d2c757-bcd8-44f4-b90f-a288e7dc42f7",
   "metadata": {},
   "outputs": [
    {
     "name": "stdout",
     "output_type": "stream",
     "text": [
      "[Epoch 1] loss: 0.589 - error: 87.992\n",
      "[Epoch 2] loss: 0.292 - error: 89.537\n",
      "[Epoch 3] loss: 0.246 - error: 90.135\n",
      "[Epoch 4] loss: 0.223 - error: 90.533\n",
      "[Epoch 5] loss: 0.208 - error: 90.782\n",
      "[Epoch 6] loss: 0.197 - error: 91.081\n",
      "[Epoch 7] loss: 0.188 - error: 91.380\n",
      "[Epoch 8] loss: 0.181 - error: 91.480\n",
      "[Epoch 9] loss: 0.176 - error: 91.380\n",
      "[Epoch 10] loss: 0.171 - error: 91.330\n"
     ]
    }
   ],
   "source": [
    "(loss, error) = train(model, 10, trainloader_alt, testloader_alt)"
   ]
  },
  {
   "cell_type": "code",
   "execution_count": 31,
   "id": "0a9de49e-09e8-4f4f-87a2-0b435ddbbd5c",
   "metadata": {},
   "outputs": [
    {
     "data": {
      "image/png": "[encoded data removed]",
      "text/plain": [
       "<Figure size 432x288 with 2 Axes>"
      ]
     },
     "metadata": {
      "needs_background": "light"
     },
     "output_type": "display_data"
    }
   ],
   "source": [
    "fig, ax1 = plt.subplots()\n",
    "\n",
    "color = 'tab:red'\n",
    "ax1.set_xlabel('Epoch')\n",
    "ax1.set_ylabel('Loss', color=color)\n",
    "ax1.plot(np.arange(1, 11), loss, color=color)\n",
    "ax1.tick_params(axis='y', labelcolor=color)\n",
    "\n",
    "ax2 = ax1.twinx()\n",
    "\n",
    "color = 'tab:blue'\n",
    "ax2.set_ylabel('Correct predictions', color=color)\n",
    "ax2.plot(np.arange(1, 11), error, color=color)\n",
    "ax2.tick_params(axis='y', labelcolor=color)\n",
    "\n",
    "fig.tight_layout()\n",
    "plt.show()"
   ]
  },
  {
   "cell_type": "code",
   "execution_count": null,
   "id": "794161b9-2dea-4f42-b18b-880db1a94515",
   "metadata": {},
   "outputs": [],
   "source": []
  }
 ],
 "metadata": {
  "kernelspec": {
   "display_name": "Python 3.10.5 64-bit",
   "language": "python",
   "name": "python3"
  },
  "language_info": {
   "codemirror_mode": {
    "name": "ipython",
    "version": 3
   },
   "file_extension": ".py",
   "mimetype": "text/x-python",
   "name": "python",
   "nbconvert_exporter": "python",
   "pygments_lexer": "ipython3",
   "version": "3.10.5"
  },
  "vscode": {
   "interpreter": {
    "hash": "af2b86a0d97d2bdb49befe19981ba48b79a904c391b62d75845b127da778abba"
   }
  }
 },
 "nbformat": 4,
 "nbformat_minor": 5
}
