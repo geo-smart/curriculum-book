{
 "cells": [
  {
   "cell_type": "markdown",
   "id": "2343cd3f",
   "metadata": {},
   "source": [
    "# 4.2 Convolutional Neural Networks\n",
    "\n",
    "\n",
    ":::{important}\n",
    "⚠️ Under Construction !\n",
    ":::\n"
   ]
  },
  {
   "cell_type": "markdown",
   "id": "ec9a3efc-5ec8-4b1a-8669-7344fd6df78b",
   "metadata": {},
   "source": [
    "Note on using tensorflow with jupyter. I ran into issues that my python had the modules, but not my ipython. To fix this, I linked the tensorflow to a python kernel:\n",
    "\n",
    "``  python -m ipykernel install --user --name tensorflow --display-name \"Python 3.8 (TF)\"``\n",
    "\n",
    "Then I re-started the jupyter lab with the kernel ``Python 3.8 (TF)``."
   ]
  },
  {
   "cell_type": "code",
   "execution_count": 1,
   "id": "8a22d14a",
   "metadata": {},
   "outputs": [],
   "source": [
    "import tensorflow as tf\n",
    "from tensorflow import keras\n",
    "import numpy as np\n",
    "import matplotlib.pyplot as plt\n",
    "import pandas as pd\n",
    "import h5py\n",
    "import sklearn\n",
    "from sklearn.model_selection import train_test_split\n",
    "from keras import layers\n",
    "\n",
    "\n",
    "import torch\n",
    "import torch.nn as nn\n"
   ]
  },
  {
   "cell_type": "markdown",
   "id": "387b3420",
   "metadata": {},
   "source": [
    "# 1. Convolutional Neural Networks\n",
    "\n",
    "\n",
    "Just like MLPs, each neuron in a CNN receives some inputs, performs a dot product and optionally follows it with a non-linearity. CNNs are designed to have images as inputs. When using fully connected layers, images have too many samples and a fully connected layer would have too many trainable parameters. CNN layers are not 1D hidden layers, they are volume of neurons.\n",
    "\n",
    "\n",
    "\n",
    "<img src=\"figures/cnn2.jpeg\" alt=\"cnn\" style=\"width: 400px;\"/>\n",
    "<center>Figure: A ConvNet arranges its neurons in three dimensions (width, height, depth), as visualized in one of the layers.</center>\n",
    "\n",
    "\n",
    "The classic sequencing of a CNN (or a block) is: Convolutional Layer, Activation Layer, Pooling Layer, Fully Connected Layer.\n",
    "\n",
    "<!-- <img src=\"figures/Convolution.png\" alt=\"cnn\" style=\"width: 400px;\"/> -->\n",
    "## 1.1 Anatonmy of the Conv layer\n",
    "* The **input** \"feature map\" is the input data for a given layer. It is 3D for a 2D convolution. The three dimensions are: *height*, *width*, *depth/channels*. For instance, width and heights are the 2D images (e.g. 32x32 pixels), the depth can be the different RGB (1 image per color R, G, B). The ordering of the dimension of the input is captured in the ``data_format`` argument with ``'channel_first'`` . When including 3D data (RGB of images, or multi channels of geophysical measurement's spectrograms), write out the input shape: batch_shape + (channels, rows, cols) if ``data_format='channels_first'`` or batch_shape + (rows, cols, channels) if ``data_format='channels_last'``. The input size should be divisible by 2 many times (32, 64, 96, 224, 512).\n",
    " \n",
    "* The **filters** are the **convolution kernels** are the dimensionality of the output space. In general, the number of filters is greater than the input number of channels: the network heights and widths usually decreases throughout the networks, thus increasing the depth or number of filters does not increase the complexity too much. \n",
    "* The **kernel size** is a list of 2 integer that specifies the height and width of the 2D convolution kernel. If both integers are equal, just use a single integer value. The kernel is a filter that has weights to apply on the input values, each kernel map as 1 bias. Let's take an example of a 3x3 input feature map, a 2x2 kernel size, a 2x2 output feature map. The highlighted part of the map in blue are those we focus on:\n",
    "\n",
    "<center> <img src=\"figures/convolution.png\" width=\"600\"></center>\n",
    "<center>Convolution with kernel window (Fig. 6.2.1 from Dive into Deep Learning).</center>\n",
    "\n",
    "In the example above, we perform the following operation: the top-left output value is = 0×0+1×1+3×2+4×3=19. Then we repeat the process until all elements of the output map are field. We also repeat this for each filter. Usually prefer using small but many kernels/filters.\n",
    "\n",
    "\n",
    "* The **stride** is the step that the convolution skips when being applying the filters/kernels. Small strides work better in practice. It is one way to reduce the feature map, but the most popular choice for this is to use ***maxpooling***.\n",
    "\n",
    "\n",
    "* The **padding** is set to either ``SAME`` or ``VALID`` depending on whether the edges of the feature map are extended and filled with zeros (same) to fit the total length of the kernel size and stride, or wether they are ignored (valid). Prefer to use ``SAME`` especially for the hidden conv layers to avoid loosing data and feature knowledge.\n",
    "\n",
    "\n",
    "The convolution can be 1D or 2D depending on the array input:\n",
    "\n",
    "When the input a single dimension array (vector, time series), use a Conv1D layer.\n",
    "https://keras.io/api/layers/convolution_layers/convolution1d/\n",
    "\n",
    "\n",
    "When the input is a 2D image (2D array) or a time series with multiple channels (example of a seismogram with 3 components), use Conv2D layers.\n",
    "https://keras.io/api/layers/convolution_layers/convolution2d/\n",
    "\n",
    "Here are examples of a 32x32 image with three channels (RGB) sent to a 64 output channels/filters with a size of kernels of 6 pixels. The padding is \"SAME\" such that the edges of the feature maps are filled with zeros. We write the function for Keras and Pytorch."
   ]
  },
  {
   "cell_type": "code",
   "execution_count": 2,
   "id": "408aa658-75cb-4043-ab3b-864956d1c584",
   "metadata": {},
   "outputs": [
    {
     "data": {
      "text/plain": [
       "Conv2d(3, 64, kernel_size=(6, 6), stride=(1, 1))"
      ]
     },
     "execution_count": 2,
     "metadata": {},
     "output_type": "execute_result"
    }
   ],
   "source": [
    "# Keras&TF version\n",
    "keras.layers.Conv2D(filters=64, kernel_size=6, padding='same', activation='relu', input_shape=(32,32,3))\n",
    "\n",
    "# pytorch version\n",
    "torch.nn.Conv2d(in_channels=3, out_channels=64, kernel_size=6)"
   ]
  },
  {
   "cell_type": "markdown",
   "id": "b9937a2a-8238-4f30-b126-372a940c9e34",
   "metadata": {},
   "source": [
    "## 1.2 Pooling layers\n",
    "\n",
    "**MaxPooling** layers are downsampling layers. It ouputs the max value of each channel of windwos in a feature map. Downsampling reduces the size of the feature-map, as well as to induce spatial-filter hierarchies by making successive convolution layers look at increasingly large windows (in terms of the fraction of the original input they cover). The pooling size is the factor of reduction in the layer size.\n",
    "\n",
    "\n",
    "<center><img src=\"figures/max_pooling.png\" width=\"600\"></center>\n",
    "<center>Maximum pooling (Fig. 6.5.1 from Dive into Deep Learning).</center>\n",
    "\n",
    "<!-- 114 / 2 = 57 and 80 / 2 = 40 -->\n",
    "\n",
    "**General pooling** are other functions, such as average pooling or even L2-norm pooling. Average pooling was often used historically but has recently fallen out of favor compared to the max pooling operation, which has been shown to work better in practice.\n",
    "\n",
    "\n",
    "Pooling is designed to reduce the complexity and model size in order to deal with overfitting and computational expense. Some argue that striding is sufficient. Some also founds that auto-encoders and generative adversarial networks perform better without pooling.\n",
    "\n",
    "\n",
    "## 1.3 Other notes\n",
    "\n",
    "In the convolutional layer, the neurons are not connected to every part of the input data.\n",
    "The anatomy of a Convolutional layer.\n",
    "\n",
    "A dense layer learns global patterns. A convolution layer learns local patterns. Because of that, CNNs are **translation invariant** as they pick part of the image of time series and generalize the learning elsewhere. CNNs learn **hierarchical patterns**: a first layer learns a local pattern, a second layer combines the local features to create a broader scale feature.\n",
    "\n",
    "\n",
    "\n",
    "# 2 Practice on LeNet-5 networks\n",
    "\n",
    "We will create a CNN LeNet architecture (LeCun et al, 1998) to classify images from the fashion MNIST data. We will write it in Keras/Tensorflow and in PyTorch."
   ]
  },
  {
   "cell_type": "code",
   "execution_count": 3,
   "id": "865611e0",
   "metadata": {},
   "outputs": [
    {
     "name": "stdout",
     "output_type": "stream",
     "text": [
      "(55000, 28, 28, 1)\n",
      "(55000,)\n",
      "[0 1 2 3 4 5 6 7 8 9]\n",
      "10\n"
     ]
    }
   ],
   "source": [
    "(X_train_full, y_train_full), (X_test, y_test) = keras.datasets.fashion_mnist.load_data()\n",
    "# print(\"x_train shape:\", x_train.shape, \"y_train shape:\", y_train.shape)\n",
    "class_names = [\"tshirt\",\"trousers\",\"pullover\",\"dress\",\"coat\",\"sandal\",\"shirt\",\"sneaker\",\"bag\",\"boot\"]\n",
    "X_val,X_train = X_train_full[:5000]/255.0,X_train_full[5000:]/255.0\n",
    "y_val,y_train = y_train_full[:5000],y_train_full[5000:]\n",
    "# Here we have to add one dimension to the images in order to match the conv2D requirements in Keras.\n",
    "# And we do it for all variables.\n",
    "X_train=X_train[...,None]\n",
    "X_val=X_val[...,None]\n",
    "X_test=X_test[...,None]\n",
    "print(X_train.shape)\n",
    "print(y_train.shape)\n",
    "print(np.unique(y_train))\n",
    "print(len(np.unique(y_train)))"
   ]
  },
  {
   "cell_type": "markdown",
   "id": "d280968e",
   "metadata": {},
   "source": [
    "### 2.1 Create the model\n",
    "\n",
    "We will create a CNN LeNet-5 architecture (LeCun et al, 1998) that is a sequential stack of 3 convolutional layers, 2 fully connected layers. There are several graphical representations of networks that we often find in the literature, with a few examples below.\n",
    "<center><img src=\"figures/lenet.svg\" width=\"600\"></center>\n",
    "<center>LeNet-5 architecture</center>\n",
    "<center><img src=\"figures/lenet-vert.svg\" width=\"200\"></center>\n",
    "<center>LeNet-5 architecture</center>\n",
    "\n",
    "Using words, we can see that the CNN is composed of an input map of size 28x28 pixels, and the images are in gray scales so there is a single channel. It is followed by a convolution layer of size 28x28 and depth 6 (# of channels) and kernel sizes of 5x5, a pooling layer of size 2 - stride 2, a conv layer of depth 6 (or 6 channels) and kernel size 5x5, another pooling layer of size 2 - stride 2, and then 3 fully connected (dense) layers of respective sizes 120, 84, 10. The activation functions in the original LeNet-5 were sigmoids and the last activation function was a Gaussian function,  which we replaced with softmax. One can test the role of activation functions by changing them to ReLu."
   ]
  },
  {
   "cell_type": "code",
   "execution_count": 4,
   "id": "181dcef5",
   "metadata": {},
   "outputs": [
    {
     "name": "stdout",
     "output_type": "stream",
     "text": [
      "Model: \"sequential\"\n",
      "_________________________________________________________________\n",
      "Layer (type)                 Output Shape              Param #   \n",
      "=================================================================\n",
      "conv2d_1 (Conv2D)            (None, 28, 28, 6)         156       \n",
      "_________________________________________________________________\n",
      "average_pooling2d (AveragePo (None, 14, 14, 6)         0         \n",
      "_________________________________________________________________\n",
      "conv2d_2 (Conv2D)            (None, 14, 14, 16)        2416      \n",
      "_________________________________________________________________\n",
      "average_pooling2d_1 (Average (None, 7, 7, 16)          0         \n",
      "_________________________________________________________________\n",
      "flatten (Flatten)            (None, 784)               0         \n",
      "_________________________________________________________________\n",
      "dense (Dense)                (None, 120)               94200     \n",
      "_________________________________________________________________\n",
      "dense_1 (Dense)              (None, 84)                10164     \n",
      "_________________________________________________________________\n",
      "dense_2 (Dense)              (None, 10)                850       \n",
      "=================================================================\n",
      "Total params: 107,786\n",
      "Trainable params: 107,786\n",
      "Non-trainable params: 0\n",
      "_________________________________________________________________\n"
     ]
    }
   ],
   "source": [
    "model = keras.Sequential([\n",
    "# Must define the input shape in the first layer of the neural network\n",
    "keras.layers.Conv2D(filters=6, kernel_size=5, padding='same', activation='sigmoid', input_shape=(28,28,1)),\n",
    "keras.layers.AveragePooling2D(2), # you could replace with MaxPooling2D\n",
    "keras.layers.Conv2D(filters=16, kernel_size=5, padding='same', activation='sigmoid'),\n",
    "keras.layers.AveragePooling2D(2),# you could replace with MaxPooling2D\n",
    "keras.layers.Flatten(),\n",
    "keras.layers.Dense(120, activation='sigmoid'),\n",
    "# keras.layers.Dropout(0.5),\n",
    "keras.layers.Dense(84, activation='sigmoid'),\n",
    "# keras.layers.Dropout(0.5),\n",
    "keras.layers.Dense(10, activation='softmax')])\n",
    "# Take a look at the model summary\n",
    "model.summary()"
   ]
  },
  {
   "cell_type": "markdown",
   "id": "8f17ea87-9855-4d30-9093-7f3dab694347",
   "metadata": {},
   "source": [
    "Model in pytorch"
   ]
  },
  {
   "cell_type": "code",
   "execution_count": 5,
   "id": "92c493aa-e8b3-4449-a45f-07f39f74ff2b",
   "metadata": {},
   "outputs": [],
   "source": [
    "class Reshape(torch.nn.Module):\n",
    "    def forward(self, x):\n",
    "        return x.view(-1, 1, 28, 28)"
   ]
  },
  {
   "cell_type": "code",
   "execution_count": 6,
   "id": "1410b406-0ee0-4748-8937-e83d9892d644",
   "metadata": {},
   "outputs": [],
   "source": [
    "model_torch = torch.nn.Sequential(Reshape(), nn.Conv2d(1, 6, kernel_size=5,\n",
    "                                               padding=2), nn.Sigmoid(),\n",
    "                          nn.AvgPool2d(kernel_size=2, stride=2),\n",
    "                          nn.Conv2d(6, 16, kernel_size=5), nn.Sigmoid(),\n",
    "                          nn.AvgPool2d(kernel_size=2, stride=2), nn.Flatten(),\n",
    "                          nn.Linear(16 * 5 * 5, 120), nn.Sigmoid(),\n",
    "                          nn.Linear(120, 84), nn.Sigmoid(), nn.Linear(84, 10))"
   ]
  },
  {
   "cell_type": "code",
   "execution_count": 7,
   "id": "fb26b786-5d3a-45ca-a276-94365a3e9099",
   "metadata": {},
   "outputs": [
    {
     "name": "stdout",
     "output_type": "stream",
     "text": [
      "Initial input shape: \t torch.Size([1, 1, 28, 28])\n",
      "Reshape output shape: \t torch.Size([1, 1, 28, 28])\n",
      "Conv2d output shape: \t torch.Size([1, 6, 28, 28])\n",
      "Sigmoid output shape: \t torch.Size([1, 6, 28, 28])\n",
      "AvgPool2d output shape: \t torch.Size([1, 6, 14, 14])\n",
      "Conv2d output shape: \t torch.Size([1, 16, 10, 10])\n",
      "Sigmoid output shape: \t torch.Size([1, 16, 10, 10])\n",
      "AvgPool2d output shape: \t torch.Size([1, 16, 5, 5])\n",
      "Flatten output shape: \t torch.Size([1, 400])\n",
      "Linear output shape: \t torch.Size([1, 120])\n",
      "Sigmoid output shape: \t torch.Size([1, 120])\n",
      "Linear output shape: \t torch.Size([1, 84])\n",
      "Sigmoid output shape: \t torch.Size([1, 84])\n",
      "Linear output shape: \t torch.Size([1, 10])\n"
     ]
    }
   ],
   "source": [
    "X = torch.rand(size=(1, 1, 28, 28), dtype=torch.float32)\n",
    "print('Initial input shape: \\t', X.shape)\n",
    "for layer in model_torch:\n",
    "    X = layer(X)\n",
    "    print(layer.__class__.__name__, 'output shape: \\t', X.shape)"
   ]
  },
  {
   "cell_type": "markdown",
   "id": "532a14e0",
   "metadata": {},
   "source": [
    "### 2.2 Compile the model\n",
    "choose the appropriate loss function. We have a multi-class classification example, so we will use the categorical crossentropy. We will use the Adam optimizer to be fast. We will use the accuracy for the metric on the loss."
   ]
  },
  {
   "cell_type": "code",
   "execution_count": 8,
   "id": "f44abd3e",
   "metadata": {},
   "outputs": [],
   "source": [
    "cb = keras.callbacks.EarlyStopping(\n",
    "    monitor=\"val_loss\", # use the validation loss as a metric\n",
    "    patience=2, # number of epochs to wait until there is improvement\n",
    "    verbose=1,\n",
    "    mode=\"auto\",\n",
    "    restore_best_weights=True,\n",
    ")\n",
    "model.compile(loss=\"sparse_categorical_crossentropy\",\n",
    "             optimizer='adam',\n",
    "             metrics=\"accuracy\")"
   ]
  },
  {
   "cell_type": "markdown",
   "id": "d0aaf457",
   "metadata": {},
   "source": [
    "### 2.3 Train the model\n",
    "Choose the batch size, the number of epochs (iterations). Fit and be patient: grab a coffee, watch a webinar."
   ]
  },
  {
   "cell_type": "code",
   "execution_count": 9,
   "id": "9df9b7d8",
   "metadata": {},
   "outputs": [
    {
     "name": "stdout",
     "output_type": "stream",
     "text": [
      "Epoch 1/20\n",
      "2292/2292 [==============================] - 15s 6ms/step - loss: 0.8668 - accuracy: 0.6758 - val_loss: 0.5406 - val_accuracy: 0.8046\n",
      "Epoch 2/20\n",
      "2292/2292 [==============================] - 16s 7ms/step - loss: 0.5054 - accuracy: 0.8112 - val_loss: 0.4286 - val_accuracy: 0.8404\n",
      "Epoch 3/20\n",
      "2292/2292 [==============================] - 18s 8ms/step - loss: 0.4274 - accuracy: 0.8407 - val_loss: 0.3861 - val_accuracy: 0.8540\n",
      "Epoch 4/20\n",
      "2292/2292 [==============================] - 21s 9ms/step - loss: 0.3814 - accuracy: 0.8583 - val_loss: 0.3478 - val_accuracy: 0.8760\n",
      "Epoch 5/20\n",
      "2292/2292 [==============================] - 23s 10ms/step - loss: 0.3533 - accuracy: 0.8691 - val_loss: 0.3277 - val_accuracy: 0.8778\n",
      "Epoch 6/20\n",
      "2292/2292 [==============================] - 25s 11ms/step - loss: 0.3332 - accuracy: 0.8767 - val_loss: 0.3204 - val_accuracy: 0.8830\n",
      "Epoch 7/20\n",
      "2292/2292 [==============================] - 23s 10ms/step - loss: 0.3172 - accuracy: 0.8824 - val_loss: 0.3144 - val_accuracy: 0.8844\n",
      "Epoch 8/20\n",
      "2292/2292 [==============================] - 24s 10ms/step - loss: 0.3038 - accuracy: 0.8868 - val_loss: 0.2963 - val_accuracy: 0.8906\n",
      "Epoch 9/20\n",
      "2292/2292 [==============================] - 26s 11ms/step - loss: 0.2944 - accuracy: 0.8906 - val_loss: 0.2941 - val_accuracy: 0.8898\n",
      "Epoch 10/20\n",
      "2292/2292 [==============================] - 28s 12ms/step - loss: 0.2843 - accuracy: 0.8941 - val_loss: 0.2921 - val_accuracy: 0.8896\n",
      "Epoch 11/20\n",
      "2292/2292 [==============================] - 28s 12ms/step - loss: 0.2745 - accuracy: 0.8978 - val_loss: 0.2804 - val_accuracy: 0.8972\n",
      "Epoch 12/20\n",
      "2292/2292 [==============================] - 30s 13ms/step - loss: 0.2664 - accuracy: 0.9015 - val_loss: 0.2886 - val_accuracy: 0.8898\n",
      "Epoch 13/20\n",
      "2292/2292 [==============================] - 31s 14ms/step - loss: 0.2592 - accuracy: 0.9033 - val_loss: 0.2870 - val_accuracy: 0.8918\n",
      "Restoring model weights from the end of the best epoch.\n",
      "Epoch 00013: early stopping\n"
     ]
    }
   ],
   "source": [
    "history = model.fit(X_train,y_train,batch_size=24,epochs=20,validation_data=(X_val,y_val),callbacks=cb)"
   ]
  },
  {
   "cell_type": "markdown",
   "id": "ae2d2421",
   "metadata": {},
   "source": [
    "### 2.4 Evaluate the model\n",
    "Plot the acuracy scores as a function of epochs to see how well we train. Note that we used the ``callbacks`` option to stop after a few iterations if there was no more improvememnts"
   ]
  },
  {
   "cell_type": "code",
   "execution_count": 10,
   "id": "bcc6f539",
   "metadata": {},
   "outputs": [
    {
     "name": "stdout",
     "output_type": "stream",
     "text": [
      "313/313 [==============================] - 4s 14ms/step - loss: 0.3807 - accuracy: 0.8615\n",
      "\n",
      " Test accuracy: 0.8615000247955322\n"
     ]
    },
    {
     "data": {
      "image/png": "[encoded data removed]",
      "text/plain": [
       "<Figure size 576x360 with 1 Axes>"
      ]
     },
     "metadata": {
      "needs_background": "light"
     },
     "output_type": "display_data"
    }
   ],
   "source": [
    "pd.DataFrame(history.history).plot(figsize=(8,5))\n",
    "plt.grid(True)\n",
    "plt.xlabel('epochs')\n",
    "\n",
    "# Evaluate the model on test set\n",
    "score = model.evaluate(X_test, y_test, verbose=1)\n",
    "# Print test accuracy\n",
    "print('\\n', 'Test accuracy:', score[1])"
   ]
  },
  {
   "cell_type": "markdown",
   "id": "839cc5da-52b1-4246-b87a-a636ebe1efb1",
   "metadata": {},
   "source": [
    "Here is the PyTorch version.\n",
    "First we need to convert from numpy arrays to pytorch tensors"
   ]
  },
  {
   "cell_type": "code",
   "execution_count": 35,
   "id": "bce3413c-22c6-4fef-99f1-2058c75697b2",
   "metadata": {},
   "outputs": [],
   "source": [
    "# prep data for training and testing\n",
    "from torch.utils.data import TensorDataset, DataLoader\n",
    "from torchvision import transforms\n",
    "pXtrain = torch.from_numpy(X_train).float()\n",
    "pXtest = torch.from_numpy(X_test).float()\n",
    "pytrain = torch.from_numpy(y_train).type(torch.LongTensor)\n",
    "pytest = torch.from_numpy(y_test).type(torch.LongTensor)\n",
    "\n",
    "\n",
    "\n",
    "# transform = transforms.Compose([transforms.Resize(64), transforms.ToTensor()])\n",
    "# dataset = MyDataset(data, targets, transform=transform)\n",
    "# dataloader = DataLoader(dataset, batch_size=5)\n",
    "\n",
    "train_data = TensorDataset(pXtrain,pytrain)\n",
    "test_data= TensorDataset(pXtest,pytest)\n",
    "\n",
    "\n",
    "\n",
    "train_dataloader = DataLoader(train_data,batch_size=24)\n",
    "test_dataloader = DataLoader(test_data,batch_size=24)"
   ]
  },
  {
   "cell_type": "code",
   "execution_count": 36,
   "id": "ed6ce1e3-943e-49c3-9206-37aafacbde28",
   "metadata": {},
   "outputs": [],
   "source": [
    "# function defined to train the model\n",
    "def train(model, n_epochs, lr, trainloader, testloader=None):\n",
    "\n",
    "    # Save loss and accuracy for plotting\n",
    "    loss_time = np.zeros(n_epochs)\n",
    "    accuracy_time = np.zeros(n_epochs)\n",
    "\n",
    "    # Initialize weights\n",
    "    def init_weights(m):\n",
    "        if type(m) == nn.Linear or type(m) == nn.Conv2d:\n",
    "            nn.init.xavier_uniform_(m.weight)\n",
    "    model.apply(init_weights)\n",
    "\n",
    "    # Define loss and optimization method\n",
    "    optimizer = torch.optim.SGD(model.parameters(), lr=lr)\n",
    "    loss = nn.CrossEntropyLoss()\n",
    "\n",
    "    # Loop on number of epochs\n",
    "    for epoch in range(n_epochs):\n",
    "        # Initialize the loss\n",
    "        running_loss = 0\n",
    "        model.train()\n",
    "        # Loop on samples in train set\n",
    "        for i, (X, y) in enumerate(trainloader):\n",
    "            optimizer.zero_grad()\n",
    "            y_hat = model(X)\n",
    "            l = loss(y_hat, y)\n",
    "            l.backward()\n",
    "            optimizer.step()\n",
    "            # Add the value of the loss for this sample\n",
    "            running_loss += l.item()\n",
    "        # Save loss at the end of each epoch\n",
    "        loss_time[epoch] = running_loss / len(trainloader)\n",
    "\n",
    "        # After each epoch, evaluate the performance on the test set\n",
    "        if testloader is not None:\n",
    "            correct = 0\n",
    "            total = 0\n",
    "            # We evaluate the model, so we do not need the gradient\n",
    "            with torch.no_grad():\n",
    "                # Loop on samples in test set\n",
    "                for i, (X, y) in enumerate(testloader):\n",
    "                    y_hat = model(X)\n",
    "                    # Compare predicted label and true label\n",
    "                    _, predicted = torch.max(y_hat.data, 1)\n",
    "                    total += y.size(0)\n",
    "                    correct += (predicted == y).sum().item()\n",
    "            # Save accuracy at the end of each epochs\n",
    "            accuracy_time[epoch] = 100 * correct / total\n",
    "    \n",
    "        # Print intermediate results on screen\n",
    "        if testloader is not None:\n",
    "            print('[Epoch %d] loss: %.3f - accuracy: %.3f' %\n",
    "              (epoch + 1, running_loss / len(trainloader), 100 * correct / total))\n",
    "        else:\n",
    "            print('[Epoch %d] loss: %.3f' %\n",
    "              (epoch + 1, running_loss / len(trainloader)))\n",
    "\n",
    "    # Save history of loss and test accuracy\n",
    "    if testloader is not None:\n",
    "        return (loss_time, accuracy_time)\n",
    "    else:\n",
    "        return (loss_time)"
   ]
  },
  {
   "cell_type": "code",
   "execution_count": 37,
   "id": "fce1c03d-9413-43ac-8825-1128d8730273",
   "metadata": {},
   "outputs": [
    {
     "name": "stdout",
     "output_type": "stream",
     "text": [
      "[Epoch 1] loss: 2.314 - accuracy: 10.000\n",
      "[Epoch 2] loss: 1.036 - accuracy: 73.080\n",
      "[Epoch 3] loss: 0.484 - accuracy: 71.310\n",
      "[Epoch 4] loss: 0.402 - accuracy: 72.180\n",
      "[Epoch 5] loss: 0.362 - accuracy: 72.840\n",
      "[Epoch 6] loss: 0.336 - accuracy: 74.160\n",
      "[Epoch 7] loss: 0.317 - accuracy: 76.230\n",
      "[Epoch 8] loss: 0.301 - accuracy: 76.210\n",
      "[Epoch 9] loss: 0.287 - accuracy: 76.670\n",
      "[Epoch 10] loss: 0.276 - accuracy: 77.570\n"
     ]
    }
   ],
   "source": [
    "(loss, accuracy) = train(model_torch, 10, 0.9, train_dataloader, test_dataloader)"
   ]
  },
  {
   "cell_type": "code",
   "execution_count": null,
   "id": "99f48763-9645-4b18-a18c-03dbe916d3b6",
   "metadata": {},
   "outputs": [],
   "source": [
    "fig, ax1 = plt.subplots()\n",
    "\n",
    "color = 'tab:red'\n",
    "ax1.set_xlabel('Epoch')\n",
    "ax1.set_ylabel('Loss', color=color)\n",
    "ax1.plot(np.arange(1, 11), loss, color=color)\n",
    "ax1.tick_params(axis='y', labelcolor=color)\n",
    "\n",
    "ax2 = ax1.twinx()\n",
    "\n",
    "color = 'tab:blue'\n",
    "ax2.set_ylabel('Correct predictions', color=color)\n",
    "ax2.plot(np.arange(1, 11), accuracy, color=color)\n",
    "ax2.tick_params(axis='y', labelcolor=color)\n",
    "\n",
    "fig.tight_layout()\n",
    "plt.show()"
   ]
  },
  {
   "cell_type": "markdown",
   "id": "bf926f36",
   "metadata": {},
   "source": [
    "# 3. Example on seismic data\n",
    "\n",
    "In this class, we will use a simplified version of ConvNetQuake (Perol et al, 2018). The network was designed as a classification that predicted the nature and location of the seismic events. The earthquakes from a known earthquake catalog were clustered using k-means, and each earthquake waveforms were  We will use the two seismic station seismograms already labeled as \"earthquakes\" or \"noise\" to perform.\n",
    "\n",
    "\n",
    "<img src=\"figures/ConvNetQuake.jpg\" alt=\"ConvNetQuake\" style=\"width: 400px;\"/>\n",
    "\n",
    "\n",
    "### 3.1 read the data\n",
    "data is stored in Gdrive here https://drive.google.com/drive/folders/1LF2_bBHvUyinJuaiMwhG4C_rMErerG80?usp=sharing. Download the data and place it in a \"data\" folder."
   ]
  },
  {
   "cell_type": "code",
   "execution_count": null,
   "id": "1d0f48ca",
   "metadata": {},
   "outputs": [],
   "source": [
    "# load OK029 template data:\n",
    "with h5py.File(\"./data/templates_029.h5\", \"r\") as f:\n",
    "    eq1 = np.asarray(f['earthquakes']);neq1=eq1.shape[0]\n",
    "    no1 = np.asarray(f[\"noise\"])\n",
    "\n",
    "\n",
    "# # load OK027 template data:\n",
    "# with h5py.File(\"./data/templates_027.h5\", \"r\") as f:\n",
    "#     eq2 = np.asarray(f['earthquakes'])\n",
    "#     no2 = np.asarray(f[\"noise\"])"
   ]
  },
  {
   "cell_type": "markdown",
   "id": "d5205181",
   "metadata": {},
   "source": [
    "### 3.2 Prep the data"
   ]
  },
  {
   "cell_type": "code",
   "execution_count": null,
   "id": "38db75f8",
   "metadata": {},
   "outputs": [],
   "source": [
    "#  allocate memory\n",
    "quakes=np.zeros(shape=(eq1.shape[0],1000,3),dtype=np.float32)\n",
    "noise=np.zeros(shape=(no1.shape[0],1000,3),dtype=np.float32)\n",
    "# quakes2=np.zeros(shape=(eq2.shape[0],1000,3),dtype=np.float32)\n",
    "# noise2=np.zeros(shape=(no2.shape[0],1000,3),dtype=np.float32)\n",
    "\n",
    "# Normalize the seismograms to their peak amplitudes\n",
    "for iq in range(eq1.shape[0]):\n",
    "    for ic in range(3):\n",
    "        if np.max(np.abs(eq1[iq,ic,:]))>0:\n",
    "            quakes[iq,:,ic]=eq1[iq,ic,:]/np.max(np.abs(eq1[iq,ic,:]))\n",
    "            \n",
    "for iq in range(no1.shape[0]):\n",
    "    for ic in range(3):\n",
    "        if np.max(np.abs(no1[iq,ic,:]))>0:\n",
    "            noise[iq,:,ic]=no1[iq,ic,:]/np.max(np.abs(no1[iq,ic,:]))\n",
    "\n",
    "# for iq in range(eq2.shape[0]):\n",
    "#     for ic in range(3):\n",
    "#         if np.max(np.abs(eq2[iq,ic,:]))>0:\n",
    "#             quakes2[iq,:,ic]=eq2[iq,ic,:]/np.max(np.abs(eq2[iq,ic,:]))\n",
    "            \n",
    "# for iq in range(no12.shape[0]):\n",
    "#     for ic in range(3):\n",
    "#         if np.max(np.abs(no2[iq,ic,:]))>0:\n",
    "#             noise2[iq,:,ic]=no2[iq,ic,:]/np.max(np.abs(no2[iq,ic,:]))\n",
    "\n",
    "# select data that is strictly positive and finite\n",
    "iq1=np.where( ( np.abs(quakes[:,0,0])>0)&(np.isfinite(quakes[:,0,0])))[0]\n",
    "# iq2=np.where( (np.abs(quakes2[:,0,0])>0)&(np.isfinite(quakes2[:,0,0])))[0]"
   ]
  },
  {
   "cell_type": "code",
   "execution_count": null,
   "id": "8b034e0a",
   "metadata": {},
   "outputs": [],
   "source": [
    "# label & data\n",
    "y = np.concatenate((np.ones(len(iq1)+len(iq2),dtype=np.int),np.zeros(len(iq1)+len(iq2),dtype=np.int))) # 0 for noise, 1 for event\n",
    "# X = np.zeros(shape=(len(train_labels),1000,3,1))\n",
    "X= np.concatenate((quakes[iq1,:,:],quakes2[iq2,:,:],noise[iq1,:,:],noise2[iq2,:,:]),axis=0)\n",
    "X=X[...,None]# add that depth/channel dimension\n",
    "\n",
    "nlabels=2 # = len(np.unique(y))\n",
    "\n",
    "# Split train and test\n",
    "X_train, X_test, y_train, y_test = train_test_split(X, y, test_size=.2)"
   ]
  },
  {
   "cell_type": "markdown",
   "id": "f73d6a00",
   "metadata": {},
   "source": [
    "### 3.3 Define ML model\n",
    "ConvNetQuake is a simple stack of 8 conv2d layers with 32 channels, stride of 2 kernel size of 3x3, ReLu activation functions, padding is the same"
   ]
  },
  {
   "cell_type": "code",
   "execution_count": null,
   "id": "381b875d",
   "metadata": {},
   "outputs": [],
   "source": [
    "# building the architecture\n",
    "model = models.Sequential()\n",
    "model.add(layers.Conv2D(32, (3, 3), activation='relu', input_shape=(1000,3,1), use_bias=True, strides=2, padding='SAME'))\n",
    "model.add(layers.Conv2D(32, (3, 3), activation='relu', use_bias=True, strides=2, padding='SAME'))\n",
    "model.add(layers.Conv2D(32, (3, 3), activation='relu', use_bias=True, strides=2, padding='SAME'))\n",
    "model.add(layers.Conv2D(32, (3, 3), activation='relu', use_bias=True, strides=2, padding='SAME'))\n",
    "model.add(layers.Conv2D(32, (3, 3), activation='relu', use_bias=True, strides=2, padding='SAME'))\n",
    "model.add(layers.Conv2D(32, (3, 3), activation='relu', use_bias=True, strides=2, padding='SAME'))\n",
    "model.add(layers.Conv2D(32, (3, 3), activation='relu', use_bias=True, strides=2, padding='SAME'))\n",
    "model.add(layers.Conv2D(32, (3, 3), activation='relu', use_bias=True, strides=2, padding='SAME'))\n",
    "model.add(layers.Flatten())\n",
    "model.add(layers.Dense(nlabels, activation='softmax'))"
   ]
  },
  {
   "cell_type": "code",
   "execution_count": null,
   "id": "c51b7a5d",
   "metadata": {},
   "outputs": [],
   "source": [
    "# compile the network\n",
    "model.compile(optimizer='adam',loss='binary_crossentropy',metrics=['accuracy'])"
   ]
  },
  {
   "cell_type": "code",
   "execution_count": null,
   "id": "5ac888ad",
   "metadata": {},
   "outputs": [],
   "source": [
    "# training\n",
    "history=model.fit(X_train,y_train,validation_split=0.2, epochs=20, batch_size=128,shuffle=True) \n"
   ]
  },
  {
   "cell_type": "code",
   "execution_count": null,
   "id": "6326d2c5",
   "metadata": {},
   "outputs": [],
   "source": [
    "# check for overfitting\n",
    "history_dic = history.history\n",
    "loss_values = history_dic['loss']\n",
    "val_loss_values = history_dic['val_loss']\n",
    "acc_values = history_dic['acc']\n",
    "val_acc_values = history_dic['val_acc']\n",
    "epochs=range(1,len(loss_values)+1)\n",
    "fig,ax=plt.subplots(2)\n",
    "ax[0].plot(epochs,loss_values,'bo',label='Training loss')\n",
    "ax[0].plot(epochs,val_loss_values,'b',label='Validation loss')\n",
    "ax[0].set_title('Training and validation loss')\n",
    "ax[0].set_xlabel('Epochs')\n",
    "ax[0].set_ylabel('Loss')\n",
    "ax[0].legend()\n",
    "ax[1].plot(epochs,acc_values,'bo',label='Training accuracy')\n",
    "ax[1].plot(epochs,val_acc_values,'b',label='Validation accuracy')\n",
    "ax[1].set_title('Training and validation accuracy')\n",
    "ax[1].set_xlabel('Epochs')\n",
    "ax[1].set_ylabel('accuracy')\n",
    "ax[1].legend()\n",
    "plt.show()\n"
   ]
  },
  {
   "cell_type": "code",
   "execution_count": null,
   "id": "5f2ebbb6",
   "metadata": {},
   "outputs": [],
   "source": [
    "# testing\n",
    "test=model.evaluate(X_test,y_test,batch_size=64,verbose=1)\n",
    "print('loss and accuracy at test')\n",
    "print(test)"
   ]
  },
  {
   "cell_type": "markdown",
   "id": "dfd53a30",
   "metadata": {},
   "source": [
    "## Tuning CNN networks\n",
    "\n",
    "There are many hyperparameters and model choices to make:\n",
    "* learning rate, optimizer, batch_size, activation functions, loss functions\n",
    "* architecture: number of layers, depth of kernels, activation functions, regularization, batch normalization\n",
    "\n",
    "One can treat the hyperparameter search as an optimization problem. Keras tuner (https://keras-team.github.io/keras-tuner/) can be used to randomize the grid search.\n",
    "\n",
    "http://caffe.berkeleyvision.org/model_zoo.html"
   ]
  },
  {
   "cell_type": "markdown",
   "id": "5b273ad1-a91e-4dd8-a508-f45f024fe374",
   "metadata": {},
   "source": [
    "# 4. How to read and recode published networks\n",
    "\n",
    "Let us say that you read a research paper explaining the architecture of the convolutional neural network used by the authors to carry out their data analysis. How will you try to reproduce their results? They do not provide a github!\n",
    "\n",
    "Let us look at the following paper:\n",
    "\n",
    "Rouet-Leduc, B., Hulbert, C., McBrearty, I. W., Johnson, P. A. (2020). Probing slow earthquakes with deep learning. Geophysical Research Letters, 47, e2019GL085870. https://doi.org/10.1029/2019GL085870.\n",
    "\n",
    "<img src=\"figures/cnn_rouet-leduc.png\" width=\"600\">\n",
    "<center>Schematic of the CNN and its architecture (Figure 1 from Rouet-Leduc et al. (2020).</center>\n",
    "\n",
    "* **Batch Normalization** => unclear from the paper, but this seems to be the normalization of the data\n",
    "* **Dropout** => unclear from the paper what this is\n",
    "* **Input** Spectrogram = Image with 129 x 95 x1 pixels\n",
    "* **Conv2D** convolution is has a kernel size of 16x16 feature map of size 114x80 is depth 32 (# of channels), activation is ReLU (found in the supplementary material)\n",
    "* **Maxpooling** of size 2\n",
    "* **Dropout** 5%, found in the supplementary material\n",
    "* **Conv2D** of kernel size 8 x 8, depth 64\n",
    "* **Maxpooling** of size 2\n",
    "* **Dropout** 5%, found in the supplementary material\n",
    "* **Full Connected - Dense layers** with 36608 neurons (found in the supplementary material)\n",
    "* **Full Connected - Dense layers** with 10 neurons (found in the supplementary material)\n",
    "* **Full Connected - Dense layers** with 1 neuron, sigmoid activation function (found in the supplementary material)"
   ]
  },
  {
   "cell_type": "code",
   "execution_count": null,
   "id": "b0c4d5a0-1ccf-48b4-b883-14c97fe481c1",
   "metadata": {},
   "outputs": [],
   "source": [
    "model = torch.nn.Sequential(nn.Conv2d(in_channels=1, out_channels=32, kernel_size=16),\n",
    "                            nn.ReLU(),\n",
    "                            nn.MaxPool2d(kernel_size=2),\n",
    "                            nn.Dropout(0.05),\n",
    "                            nn.Conv2d(in_channels=32, out_channels=64, kernel_size=8),\n",
    "                            nn.ReLU(),\n",
    "                            nn.MaxPool2d(kernel_size=2),\n",
    "                            nn.Dropout(0.05),\n",
    "                            nn.Conv2d(in_channels=64, out_channels=128, kernel_size=4),\n",
    "                            nn.Flatten(),\n",
    "                            nn.Linear(36608, 10),\n",
    "                            nn.Sigmoid(),\n",
    "                            nn.Linear(10, 1),\n",
    "                            nn.Sigmoid())"
   ]
  },
  {
   "cell_type": "code",
   "execution_count": null,
   "id": "de06edc7-41b3-431c-8a2f-57973653aaeb",
   "metadata": {},
   "outputs": [],
   "source": []
  }
 ],
 "metadata": {
  "kernelspec": {
   "display_name": "Python 3.10.5 64-bit",
   "language": "python",
   "name": "python3"
  },
  "language_info": {
   "codemirror_mode": {
    "name": "ipython",
    "version": 3
   },
   "file_extension": ".py",
   "mimetype": "text/x-python",
   "name": "python",
   "nbconvert_exporter": "python",
   "pygments_lexer": "ipython3",
   "version": "3.10.5"
  },
  "vscode": {
   "interpreter": {
    "hash": "af2b86a0d97d2bdb49befe19981ba48b79a904c391b62d75845b127da778abba"
   }
  }
 },
 "nbformat": 4,
 "nbformat_minor": 5
}
